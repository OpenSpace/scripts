{
 "cells": [
  {
   "cell_type": "code",
   "execution_count": null,
   "metadata": {},
   "outputs": [],
   "source": [
    "!pip install Pillow"
   ]
  },
  {
   "cell_type": "code",
   "execution_count": null,
   "metadata": {},
   "outputs": [],
   "source": [
    "from PIL import Image\n",
    "import os\n",
    "\n",
    "# Root path containing folders with GeoJSON files\n",
    "root_folder_path = 'C:/Users/alundkvi/Documents/work/scripts/oval_geojsons_south/temp/'\n",
    "\n",
    "# List all folders in the root path\n",
    "folders = [folder for folder in os.listdir(root_folder_path) if os.path.isdir(os.path.join(root_folder_path, folder))]\n",
    "\n",
    "# Iterate over each folder\n",
    "for folder in folders:\n",
    "    # Path to the current folder containing GeoJSON files\n",
    "    folder_path = os.path.join(root_folder_path, folder)\n",
    "\n",
    "    # List all files in the folder\n",
    "    files = os.listdir(folder_path)\n",
    "\n",
    "    # Filter and sort files based on numeric suffix after 'output'\n",
    "    images = [filename for filename in files if filename.startswith('output') and (filename.endswith('.jpg') or filename.endswith('.png'))]\n",
    "    images.sort(key=lambda x: int(x.split('output')[1].split('.')[0]))  # Sort by numeric order\n",
    "\n",
    "    # Initialize the base image with transparency\n",
    "    base_image = None\n",
    "\n",
    "    # Iterate over each image file\n",
    "    for filename in images:\n",
    "        # Open the image\n",
    "        img = Image.open(os.path.join(folder_path, filename)).convert('RGBA')\n",
    "\n",
    "        # Initialize the base image if not already initialized\n",
    "        if base_image is None:\n",
    "            base_image = img.copy()  # Make a copy to preserve original\n",
    "\n",
    "        # Paste the current image onto the base image\n",
    "        base_image = Image.alpha_composite(base_image, img)\n",
    "\n",
    "    # Save or display the combined image for the current folder\n",
    "    if base_image:\n",
    "        combined_image_path = os.path.join(root_folder_path, f'combined_images/{folder}.png')\n",
    "        base_image.save(combined_image_path)  # Save the combined image\n",
    "        print(f\"Combined image saved for folder '{folder}' at: {combined_image_path}\")\n",
    "    else:\n",
    "        print(f\"No images found matching the criteria in folder '{folder}'.\")\n",
    "\n",
    "    # Optionally display the combined image\n",
    "    # base_image.show()\n",
    "\n",
    "print(\"All folders processed.\")\n",
    "\n"
   ]
  }
 ],
 "metadata": {
  "kernelspec": {
   "display_name": "base",
   "language": "python",
   "name": "python3"
  },
  "language_info": {
   "codemirror_mode": {
    "name": "ipython",
    "version": 3
   },
   "file_extension": ".py",
   "mimetype": "text/x-python",
   "name": "python",
   "nbconvert_exporter": "python",
   "pygments_lexer": "ipython3",
   "version": "3.9.13"
  },
  "orig_nbformat": 4
 },
 "nbformat": 4,
 "nbformat_minor": 2
}
