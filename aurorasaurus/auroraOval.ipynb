{
 "cells": [
  {
   "cell_type": "code",
   "execution_count": null,
   "metadata": {},
   "outputs": [],
   "source": [
    "!pip install shapely"
   ]
  },
  {
   "cell_type": "code",
   "execution_count": null,
   "metadata": {},
   "outputs": [],
   "source": [
    "!pip install schedule"
   ]
  },
  {
   "attachments": {},
   "cell_type": "markdown",
   "metadata": {},
   "source": [
    "OVAL GEOJSON GENERATOR\n"
   ]
  },
  {
   "cell_type": "code",
   "execution_count": 8,
   "metadata": {},
   "outputs": [
    {
     "data": {
      "text/plain": [
       "'URL: https://aurorasaurus.org/oval-data?end_date=2024-05-10T15:00&local_offset=0'"
      ]
     },
     "metadata": {},
     "output_type": "display_data"
    },
    {
     "name": "stdout",
     "output_type": "stream",
     "text": [
      "Skipped entry 1 due to missing or invalid data\n",
      "Processed entry 2 saved to C:/Users/alundkvi/Documents/work/scripts/oval_geojsons_south/2024-05-10-15-00/output2.geojson\n",
      "Processed entry 3 saved to C:/Users/alundkvi/Documents/work/scripts/oval_geojsons_south/2024-05-10-15-00/output3.geojson\n",
      "Skipped entry 4 due to missing or invalid data\n",
      "Skipped entry 5 due to missing or invalid data\n",
      "Skipped entry 6 due to missing or invalid data\n"
     ]
    },
    {
     "data": {
      "text/plain": [
       "'URL: https://aurorasaurus.org/oval-data?end_date=2024-05-10T15:15&local_offset=0'"
      ]
     },
     "metadata": {},
     "output_type": "display_data"
    },
    {
     "name": "stdout",
     "output_type": "stream",
     "text": [
      "Skipped entry 1 due to missing or invalid data\n",
      "Processed entry 2 saved to C:/Users/alundkvi/Documents/work/scripts/oval_geojsons_south/2024-05-10-15-15/output2.geojson\n",
      "Processed entry 3 saved to C:/Users/alundkvi/Documents/work/scripts/oval_geojsons_south/2024-05-10-15-15/output3.geojson\n",
      "Skipped entry 4 due to missing or invalid data\n",
      "Skipped entry 5 due to missing or invalid data\n",
      "Skipped entry 6 due to missing or invalid data\n"
     ]
    },
    {
     "data": {
      "text/plain": [
       "'URL: https://aurorasaurus.org/oval-data?end_date=2024-05-10T15:30&local_offset=0'"
      ]
     },
     "metadata": {},
     "output_type": "display_data"
    },
    {
     "name": "stdout",
     "output_type": "stream",
     "text": [
      "Skipped entry 1 due to missing or invalid data\n",
      "Processed entry 2 saved to C:/Users/alundkvi/Documents/work/scripts/oval_geojsons_south/2024-05-10-15-30/output2.geojson\n",
      "Processed entry 3 saved to C:/Users/alundkvi/Documents/work/scripts/oval_geojsons_south/2024-05-10-15-30/output3.geojson\n",
      "Skipped entry 4 due to missing or invalid data\n"
     ]
    },
    {
     "data": {
      "text/plain": [
       "'URL: https://aurorasaurus.org/oval-data?end_date=2024-05-10T15:45&local_offset=0'"
      ]
     },
     "metadata": {},
     "output_type": "display_data"
    },
    {
     "name": "stdout",
     "output_type": "stream",
     "text": [
      "Skipped entry 1 due to missing or invalid data\n",
      "Processed entry 2 saved to C:/Users/alundkvi/Documents/work/scripts/oval_geojsons_south/2024-05-10-15-45/output2.geojson\n",
      "Processed entry 3 saved to C:/Users/alundkvi/Documents/work/scripts/oval_geojsons_south/2024-05-10-15-45/output3.geojson\n",
      "Skipped entry 4 due to missing or invalid data\n"
     ]
    },
    {
     "data": {
      "text/plain": [
       "'URL: https://aurorasaurus.org/oval-data?end_date=2024-05-10T16:00&local_offset=0'"
      ]
     },
     "metadata": {},
     "output_type": "display_data"
    },
    {
     "name": "stdout",
     "output_type": "stream",
     "text": [
      "Skipped entry 1 due to missing or invalid data\n",
      "Processed entry 2 saved to C:/Users/alundkvi/Documents/work/scripts/oval_geojsons_south/2024-05-10-16-00/output2.geojson\n",
      "Skipped entry 3 due to missing or invalid data\n"
     ]
    },
    {
     "data": {
      "text/plain": [
       "'URL: https://aurorasaurus.org/oval-data?end_date=2024-05-10T16:15&local_offset=0'"
      ]
     },
     "metadata": {},
     "output_type": "display_data"
    },
    {
     "name": "stdout",
     "output_type": "stream",
     "text": [
      "Skipped entry 1 due to missing or invalid data\n",
      "Processed entry 2 saved to C:/Users/alundkvi/Documents/work/scripts/oval_geojsons_south/2024-05-10-16-15/output2.geojson\n",
      "Skipped entry 3 due to missing or invalid data\n"
     ]
    },
    {
     "data": {
      "text/plain": [
       "'URL: https://aurorasaurus.org/oval-data?end_date=2024-05-10T16:30&local_offset=0'"
      ]
     },
     "metadata": {},
     "output_type": "display_data"
    },
    {
     "name": "stdout",
     "output_type": "stream",
     "text": [
      "Skipped entry 1 due to missing or invalid data\n",
      "Processed entry 2 saved to C:/Users/alundkvi/Documents/work/scripts/oval_geojsons_south/2024-05-10-16-30/output2.geojson\n",
      "Skipped entry 3 due to missing or invalid data\n"
     ]
    },
    {
     "data": {
      "text/plain": [
       "'URL: https://aurorasaurus.org/oval-data?end_date=2024-05-10T16:45&local_offset=0'"
      ]
     },
     "metadata": {},
     "output_type": "display_data"
    },
    {
     "name": "stdout",
     "output_type": "stream",
     "text": [
      "Skipped entry 1 due to missing or invalid data\n",
      "Processed entry 2 saved to C:/Users/alundkvi/Documents/work/scripts/oval_geojsons_south/2024-05-10-16-45/output2.geojson\n",
      "Skipped entry 3 due to missing or invalid data\n"
     ]
    },
    {
     "data": {
      "text/plain": [
       "'URL: https://aurorasaurus.org/oval-data?end_date=2024-05-10T17:00&local_offset=0'"
      ]
     },
     "metadata": {},
     "output_type": "display_data"
    },
    {
     "name": "stdout",
     "output_type": "stream",
     "text": [
      "Skipped entry 1 due to missing or invalid data\n",
      "Processed entry 2 saved to C:/Users/alundkvi/Documents/work/scripts/oval_geojsons_south/2024-05-10-17-00/output2.geojson\n",
      "Skipped entry 3 due to missing or invalid data\n",
      "Processed entry 4 saved to C:/Users/alundkvi/Documents/work/scripts/oval_geojsons_south/2024-05-10-17-00/output4.geojson\n",
      "Processed entry 5 saved to C:/Users/alundkvi/Documents/work/scripts/oval_geojsons_south/2024-05-10-17-00/output5.geojson\n",
      "Skipped entry 6 due to missing or invalid data\n",
      "Processed entry 7 saved to C:/Users/alundkvi/Documents/work/scripts/oval_geojsons_south/2024-05-10-17-00/output7.geojson\n",
      "Skipped entry 8 due to missing or invalid data\n",
      "Skipped entry 9 due to missing or invalid data\n",
      "Skipped entry 10 due to missing or invalid data\n"
     ]
    },
    {
     "data": {
      "text/plain": [
       "'URL: https://aurorasaurus.org/oval-data?end_date=2024-05-10T17:15&local_offset=0'"
      ]
     },
     "metadata": {},
     "output_type": "display_data"
    },
    {
     "name": "stdout",
     "output_type": "stream",
     "text": [
      "Skipped entry 1 due to missing or invalid data\n",
      "Processed entry 2 saved to C:/Users/alundkvi/Documents/work/scripts/oval_geojsons_south/2024-05-10-17-15/output2.geojson\n",
      "Skipped entry 3 due to missing or invalid data\n",
      "Processed entry 4 saved to C:/Users/alundkvi/Documents/work/scripts/oval_geojsons_south/2024-05-10-17-15/output4.geojson\n",
      "Skipped entry 5 due to missing or invalid data\n",
      "Processed entry 6 saved to C:/Users/alundkvi/Documents/work/scripts/oval_geojsons_south/2024-05-10-17-15/output6.geojson\n",
      "Processed entry 7 saved to C:/Users/alundkvi/Documents/work/scripts/oval_geojsons_south/2024-05-10-17-15/output7.geojson\n",
      "Skipped entry 8 due to missing or invalid data\n",
      "Processed entry 9 saved to C:/Users/alundkvi/Documents/work/scripts/oval_geojsons_south/2024-05-10-17-15/output9.geojson\n",
      "Skipped entry 10 due to missing or invalid data\n",
      "Processed entry 11 saved to C:/Users/alundkvi/Documents/work/scripts/oval_geojsons_south/2024-05-10-17-15/output11.geojson\n",
      "Processed entry 12 saved to C:/Users/alundkvi/Documents/work/scripts/oval_geojsons_south/2024-05-10-17-15/output12.geojson\n",
      "Processed entry 13 saved to C:/Users/alundkvi/Documents/work/scripts/oval_geojsons_south/2024-05-10-17-15/output13.geojson\n",
      "Skipped entry 14 due to missing or invalid data\n",
      "Processed entry 15 saved to C:/Users/alundkvi/Documents/work/scripts/oval_geojsons_south/2024-05-10-17-15/output15.geojson\n",
      "Skipped entry 16 due to missing or invalid data\n",
      "Skipped entry 17 due to missing or invalid data\n",
      "Skipped entry 18 due to missing or invalid data\n",
      "Skipped entry 19 due to missing or invalid data\n",
      "Skipped entry 20 due to missing or invalid data\n",
      "Skipped entry 21 due to missing or invalid data\n"
     ]
    },
    {
     "data": {
      "text/plain": [
       "'URL: https://aurorasaurus.org/oval-data?end_date=2024-05-10T17:30&local_offset=0'"
      ]
     },
     "metadata": {},
     "output_type": "display_data"
    },
    {
     "name": "stdout",
     "output_type": "stream",
     "text": [
      "Skipped entry 1 due to missing or invalid data\n",
      "Processed entry 2 saved to C:/Users/alundkvi/Documents/work/scripts/oval_geojsons_south/2024-05-10-17-30/output2.geojson\n",
      "Skipped entry 3 due to missing or invalid data\n",
      "Processed entry 4 saved to C:/Users/alundkvi/Documents/work/scripts/oval_geojsons_south/2024-05-10-17-30/output4.geojson\n",
      "Skipped entry 5 due to missing or invalid data\n",
      "Processed entry 6 saved to C:/Users/alundkvi/Documents/work/scripts/oval_geojsons_south/2024-05-10-17-30/output6.geojson\n",
      "Skipped entry 7 due to missing or invalid data\n",
      "Processed entry 8 saved to C:/Users/alundkvi/Documents/work/scripts/oval_geojsons_south/2024-05-10-17-30/output8.geojson\n",
      "Skipped entry 9 due to missing or invalid data\n",
      "Processed entry 10 saved to C:/Users/alundkvi/Documents/work/scripts/oval_geojsons_south/2024-05-10-17-30/output10.geojson\n",
      "Skipped entry 11 due to missing or invalid data\n",
      "Processed entry 12 saved to C:/Users/alundkvi/Documents/work/scripts/oval_geojsons_south/2024-05-10-17-30/output12.geojson\n",
      "Processed entry 13 saved to C:/Users/alundkvi/Documents/work/scripts/oval_geojsons_south/2024-05-10-17-30/output13.geojson\n",
      "Skipped entry 14 due to missing or invalid data\n",
      "Processed entry 15 saved to C:/Users/alundkvi/Documents/work/scripts/oval_geojsons_south/2024-05-10-17-30/output15.geojson\n",
      "Processed entry 16 saved to C:/Users/alundkvi/Documents/work/scripts/oval_geojsons_south/2024-05-10-17-30/output16.geojson\n",
      "Skipped entry 17 due to missing or invalid data\n",
      "Processed entry 18 saved to C:/Users/alundkvi/Documents/work/scripts/oval_geojsons_south/2024-05-10-17-30/output18.geojson\n",
      "Skipped entry 19 due to missing or invalid data\n",
      "Processed entry 20 saved to C:/Users/alundkvi/Documents/work/scripts/oval_geojsons_south/2024-05-10-17-30/output20.geojson\n",
      "Processed entry 21 saved to C:/Users/alundkvi/Documents/work/scripts/oval_geojsons_south/2024-05-10-17-30/output21.geojson\n",
      "Skipped entry 22 due to missing or invalid data\n",
      "Skipped entry 23 due to missing or invalid data\n",
      "Skipped entry 24 due to missing or invalid data\n",
      "Skipped entry 25 due to missing or invalid data\n",
      "Skipped entry 26 due to missing or invalid data\n",
      "Skipped entry 27 due to missing or invalid data\n",
      "Skipped entry 28 due to missing or invalid data\n",
      "Skipped entry 29 due to missing or invalid data\n",
      "Skipped entry 30 due to missing or invalid data\n",
      "Skipped entry 31 due to missing or invalid data\n",
      "Skipped entry 32 due to missing or invalid data\n",
      "Skipped entry 33 due to missing or invalid data\n"
     ]
    },
    {
     "data": {
      "text/plain": [
       "'URL: https://aurorasaurus.org/oval-data?end_date=2024-05-10T17:45&local_offset=0'"
      ]
     },
     "metadata": {},
     "output_type": "display_data"
    },
    {
     "name": "stdout",
     "output_type": "stream",
     "text": [
      "Skipped entry 1 due to missing or invalid data\n",
      "Processed entry 2 saved to C:/Users/alundkvi/Documents/work/scripts/oval_geojsons_south/2024-05-10-17-45/output2.geojson\n",
      "Skipped entry 3 due to missing or invalid data\n",
      "Skipped entry 4 due to missing or invalid data\n",
      "Skipped entry 5 due to missing or invalid data\n",
      "Processed entry 6 saved to C:/Users/alundkvi/Documents/work/scripts/oval_geojsons_south/2024-05-10-17-45/output6.geojson\n",
      "Skipped entry 7 due to missing or invalid data\n",
      "Processed entry 8 saved to C:/Users/alundkvi/Documents/work/scripts/oval_geojsons_south/2024-05-10-17-45/output8.geojson\n",
      "Skipped entry 9 due to missing or invalid data\n",
      "Processed entry 10 saved to C:/Users/alundkvi/Documents/work/scripts/oval_geojsons_south/2024-05-10-17-45/output10.geojson\n",
      "Processed entry 11 saved to C:/Users/alundkvi/Documents/work/scripts/oval_geojsons_south/2024-05-10-17-45/output11.geojson\n",
      "Processed entry 12 saved to C:/Users/alundkvi/Documents/work/scripts/oval_geojsons_south/2024-05-10-17-45/output12.geojson\n",
      "Skipped entry 13 due to missing or invalid data\n",
      "Processed entry 14 saved to C:/Users/alundkvi/Documents/work/scripts/oval_geojsons_south/2024-05-10-17-45/output14.geojson\n",
      "Processed entry 15 saved to C:/Users/alundkvi/Documents/work/scripts/oval_geojsons_south/2024-05-10-17-45/output15.geojson\n",
      "Skipped entry 16 due to missing or invalid data\n",
      "Processed entry 17 saved to C:/Users/alundkvi/Documents/work/scripts/oval_geojsons_south/2024-05-10-17-45/output17.geojson\n",
      "Skipped entry 18 due to missing or invalid data\n",
      "Skipped entry 19 due to missing or invalid data\n",
      "Skipped entry 20 due to missing or invalid data\n",
      "Skipped entry 21 due to missing or invalid data\n",
      "Skipped entry 22 due to missing or invalid data\n",
      "Skipped entry 23 due to missing or invalid data\n",
      "Skipped entry 24 due to missing or invalid data\n",
      "Skipped entry 25 due to missing or invalid data\n"
     ]
    },
    {
     "data": {
      "text/plain": [
       "'URL: https://aurorasaurus.org/oval-data?end_date=2024-05-10T18:00&local_offset=0'"
      ]
     },
     "metadata": {},
     "output_type": "display_data"
    },
    {
     "name": "stdout",
     "output_type": "stream",
     "text": [
      "Skipped entry 1 due to missing or invalid data\n",
      "Processed entry 2 saved to C:/Users/alundkvi/Documents/work/scripts/oval_geojsons_south/2024-05-10-18-00/output2.geojson\n",
      "Skipped entry 3 due to missing or invalid data\n",
      "Skipped entry 4 due to missing or invalid data\n",
      "Processed entry 5 saved to C:/Users/alundkvi/Documents/work/scripts/oval_geojsons_south/2024-05-10-18-00/output5.geojson\n",
      "Processed entry 6 saved to C:/Users/alundkvi/Documents/work/scripts/oval_geojsons_south/2024-05-10-18-00/output6.geojson\n",
      "Processed entry 7 saved to C:/Users/alundkvi/Documents/work/scripts/oval_geojsons_south/2024-05-10-18-00/output7.geojson\n",
      "Skipped entry 8 due to missing or invalid data\n",
      "Processed entry 9 saved to C:/Users/alundkvi/Documents/work/scripts/oval_geojsons_south/2024-05-10-18-00/output9.geojson\n",
      "Processed entry 10 saved to C:/Users/alundkvi/Documents/work/scripts/oval_geojsons_south/2024-05-10-18-00/output10.geojson\n",
      "Skipped entry 11 due to missing or invalid data\n",
      "Skipped entry 12 due to missing or invalid data\n",
      "Processed entry 13 saved to C:/Users/alundkvi/Documents/work/scripts/oval_geojsons_south/2024-05-10-18-00/output13.geojson\n",
      "Processed entry 14 saved to C:/Users/alundkvi/Documents/work/scripts/oval_geojsons_south/2024-05-10-18-00/output14.geojson\n",
      "Skipped entry 15 due to missing or invalid data\n",
      "Skipped entry 16 due to missing or invalid data\n",
      "Skipped entry 17 due to missing or invalid data\n",
      "Skipped entry 18 due to missing or invalid data\n",
      "Skipped entry 19 due to missing or invalid data\n",
      "Skipped entry 20 due to missing or invalid data\n",
      "Skipped entry 21 due to missing or invalid data\n"
     ]
    },
    {
     "data": {
      "text/plain": [
       "'URL: https://aurorasaurus.org/oval-data?end_date=2024-05-10T18:15&local_offset=0'"
      ]
     },
     "metadata": {},
     "output_type": "display_data"
    },
    {
     "name": "stdout",
     "output_type": "stream",
     "text": [
      "Skipped entry 1 due to missing or invalid data\n",
      "Skipped entry 2 due to missing or invalid data\n",
      "Skipped entry 3 due to missing or invalid data\n",
      "Skipped entry 4 due to missing or invalid data\n",
      "Processed entry 5 saved to C:/Users/alundkvi/Documents/work/scripts/oval_geojsons_south/2024-05-10-18-15/output5.geojson\n",
      "Processed entry 6 saved to C:/Users/alundkvi/Documents/work/scripts/oval_geojsons_south/2024-05-10-18-15/output6.geojson\n",
      "Skipped entry 7 due to missing or invalid data\n",
      "Processed entry 8 saved to C:/Users/alundkvi/Documents/work/scripts/oval_geojsons_south/2024-05-10-18-15/output8.geojson\n",
      "Skipped entry 9 due to missing or invalid data\n",
      "Processed entry 10 saved to C:/Users/alundkvi/Documents/work/scripts/oval_geojsons_south/2024-05-10-18-15/output10.geojson\n",
      "Skipped entry 11 due to missing or invalid data\n",
      "Skipped entry 12 due to missing or invalid data\n",
      "Skipped entry 13 due to missing or invalid data\n",
      "Skipped entry 14 due to missing or invalid data\n",
      "Skipped entry 15 due to missing or invalid data\n",
      "Skipped entry 16 due to missing or invalid data\n"
     ]
    },
    {
     "data": {
      "text/plain": [
       "'URL: https://aurorasaurus.org/oval-data?end_date=2024-05-10T18:30&local_offset=0'"
      ]
     },
     "metadata": {},
     "output_type": "display_data"
    },
    {
     "name": "stdout",
     "output_type": "stream",
     "text": [
      "Skipped entry 1 due to missing or invalid data\n",
      "Skipped entry 2 due to missing or invalid data\n",
      "Processed entry 3 saved to C:/Users/alundkvi/Documents/work/scripts/oval_geojsons_south/2024-05-10-18-30/output3.geojson\n",
      "Skipped entry 4 due to missing or invalid data\n",
      "Skipped entry 5 due to missing or invalid data\n",
      "Processed entry 6 saved to C:/Users/alundkvi/Documents/work/scripts/oval_geojsons_south/2024-05-10-18-30/output6.geojson\n",
      "Skipped entry 7 due to missing or invalid data\n",
      "Processed entry 8 saved to C:/Users/alundkvi/Documents/work/scripts/oval_geojsons_south/2024-05-10-18-30/output8.geojson\n",
      "Processed entry 9 saved to C:/Users/alundkvi/Documents/work/scripts/oval_geojsons_south/2024-05-10-18-30/output9.geojson\n",
      "Skipped entry 10 due to missing or invalid data\n",
      "Skipped entry 11 due to missing or invalid data\n",
      "Skipped entry 12 due to missing or invalid data\n",
      "Skipped entry 13 due to missing or invalid data\n",
      "Skipped entry 14 due to missing or invalid data\n"
     ]
    },
    {
     "data": {
      "text/plain": [
       "'URL: https://aurorasaurus.org/oval-data?end_date=2024-05-10T18:45&local_offset=0'"
      ]
     },
     "metadata": {},
     "output_type": "display_data"
    },
    {
     "name": "stdout",
     "output_type": "stream",
     "text": [
      "Skipped entry 1 due to missing or invalid data\n",
      "Skipped entry 2 due to missing or invalid data\n",
      "Skipped entry 3 due to missing or invalid data\n",
      "Skipped entry 4 due to missing or invalid data\n",
      "Processed entry 5 saved to C:/Users/alundkvi/Documents/work/scripts/oval_geojsons_south/2024-05-10-18-45/output5.geojson\n",
      "Skipped entry 6 due to missing or invalid data\n",
      "Processed entry 7 saved to C:/Users/alundkvi/Documents/work/scripts/oval_geojsons_south/2024-05-10-18-45/output7.geojson\n",
      "Skipped entry 8 due to missing or invalid data\n",
      "Processed entry 9 saved to C:/Users/alundkvi/Documents/work/scripts/oval_geojsons_south/2024-05-10-18-45/output9.geojson\n",
      "Skipped entry 10 due to missing or invalid data\n",
      "Skipped entry 11 due to missing or invalid data\n",
      "Skipped entry 12 due to missing or invalid data\n",
      "Skipped entry 13 due to missing or invalid data\n",
      "Skipped entry 14 due to missing or invalid data\n",
      "Skipped entry 15 due to missing or invalid data\n"
     ]
    },
    {
     "data": {
      "text/plain": [
       "'URL: https://aurorasaurus.org/oval-data?end_date=2024-05-10T19:00&local_offset=0'"
      ]
     },
     "metadata": {},
     "output_type": "display_data"
    },
    {
     "name": "stdout",
     "output_type": "stream",
     "text": [
      "Skipped entry 1 due to missing or invalid data\n",
      "Skipped entry 2 due to missing or invalid data\n",
      "Processed entry 3 saved to C:/Users/alundkvi/Documents/work/scripts/oval_geojsons_south/2024-05-10-19-00/output3.geojson\n",
      "Skipped entry 4 due to missing or invalid data\n",
      "Processed entry 5 saved to C:/Users/alundkvi/Documents/work/scripts/oval_geojsons_south/2024-05-10-19-00/output5.geojson\n",
      "Skipped entry 6 due to missing or invalid data\n",
      "Skipped entry 7 due to missing or invalid data\n",
      "Skipped entry 8 due to missing or invalid data\n",
      "Skipped entry 9 due to missing or invalid data\n",
      "Skipped entry 10 due to missing or invalid data\n"
     ]
    },
    {
     "data": {
      "text/plain": [
       "'URL: https://aurorasaurus.org/oval-data?end_date=2024-05-10T19:15&local_offset=0'"
      ]
     },
     "metadata": {},
     "output_type": "display_data"
    },
    {
     "name": "stdout",
     "output_type": "stream",
     "text": [
      "Skipped entry 1 due to missing or invalid data\n",
      "Skipped entry 2 due to missing or invalid data\n",
      "Processed entry 3 saved to C:/Users/alundkvi/Documents/work/scripts/oval_geojsons_south/2024-05-10-19-15/output3.geojson\n",
      "Skipped entry 4 due to missing or invalid data\n",
      "Processed entry 5 saved to C:/Users/alundkvi/Documents/work/scripts/oval_geojsons_south/2024-05-10-19-15/output5.geojson\n",
      "Skipped entry 6 due to missing or invalid data\n",
      "Processed entry 7 saved to C:/Users/alundkvi/Documents/work/scripts/oval_geojsons_south/2024-05-10-19-15/output7.geojson\n",
      "Skipped entry 8 due to missing or invalid data\n",
      "Processed entry 9 saved to C:/Users/alundkvi/Documents/work/scripts/oval_geojsons_south/2024-05-10-19-15/output9.geojson\n",
      "Skipped entry 10 due to missing or invalid data\n",
      "Skipped entry 11 due to missing or invalid data\n",
      "Skipped entry 12 due to missing or invalid data\n",
      "Skipped entry 13 due to missing or invalid data\n",
      "Skipped entry 14 due to missing or invalid data\n"
     ]
    },
    {
     "data": {
      "text/plain": [
       "'URL: https://aurorasaurus.org/oval-data?end_date=2024-05-10T19:30&local_offset=0'"
      ]
     },
     "metadata": {},
     "output_type": "display_data"
    },
    {
     "name": "stdout",
     "output_type": "stream",
     "text": [
      "Skipped entry 1 due to missing or invalid data\n",
      "Skipped entry 2 due to missing or invalid data\n",
      "Skipped entry 3 due to missing or invalid data\n",
      "Skipped entry 4 due to missing or invalid data\n",
      "Processed entry 5 saved to C:/Users/alundkvi/Documents/work/scripts/oval_geojsons_south/2024-05-10-19-30/output5.geojson\n",
      "Skipped entry 6 due to missing or invalid data\n",
      "Processed entry 7 saved to C:/Users/alundkvi/Documents/work/scripts/oval_geojsons_south/2024-05-10-19-30/output7.geojson\n",
      "Skipped entry 8 due to missing or invalid data\n",
      "Skipped entry 9 due to missing or invalid data\n",
      "Skipped entry 10 due to missing or invalid data\n",
      "Skipped entry 11 due to missing or invalid data\n",
      "Skipped entry 12 due to missing or invalid data\n",
      "Skipped entry 13 due to missing or invalid data\n",
      "Skipped entry 14 due to missing or invalid data\n"
     ]
    },
    {
     "data": {
      "text/plain": [
       "'URL: https://aurorasaurus.org/oval-data?end_date=2024-05-10T19:45&local_offset=0'"
      ]
     },
     "metadata": {},
     "output_type": "display_data"
    },
    {
     "name": "stdout",
     "output_type": "stream",
     "text": [
      "Processed entry 1 saved to C:/Users/alundkvi/Documents/work/scripts/oval_geojsons_south/2024-05-10-19-45/output1.geojson\n",
      "Skipped entry 2 due to missing or invalid data\n",
      "Skipped entry 3 due to missing or invalid data\n",
      "Processed entry 4 saved to C:/Users/alundkvi/Documents/work/scripts/oval_geojsons_south/2024-05-10-19-45/output4.geojson\n",
      "Skipped entry 5 due to missing or invalid data\n",
      "Skipped entry 6 due to missing or invalid data\n",
      "Skipped entry 7 due to missing or invalid data\n",
      "Skipped entry 8 due to missing or invalid data\n",
      "Skipped entry 9 due to missing or invalid data\n",
      "Skipped entry 10 due to missing or invalid data\n",
      "Skipped entry 11 due to missing or invalid data\n"
     ]
    },
    {
     "data": {
      "text/plain": [
       "'URL: https://aurorasaurus.org/oval-data?end_date=2024-05-10T20:00&local_offset=0'"
      ]
     },
     "metadata": {},
     "output_type": "display_data"
    },
    {
     "name": "stdout",
     "output_type": "stream",
     "text": [
      "Processed entry 1 saved to C:/Users/alundkvi/Documents/work/scripts/oval_geojsons_south/2024-05-10-20-00/output1.geojson\n",
      "Processed entry 2 saved to C:/Users/alundkvi/Documents/work/scripts/oval_geojsons_south/2024-05-10-20-00/output2.geojson\n",
      "Skipped entry 3 due to missing or invalid data\n",
      "Skipped entry 4 due to missing or invalid data\n",
      "Skipped entry 5 due to missing or invalid data\n",
      "Skipped entry 6 due to missing or invalid data\n",
      "Skipped entry 7 due to missing or invalid data\n",
      "Skipped entry 8 due to missing or invalid data\n"
     ]
    },
    {
     "data": {
      "text/plain": [
       "'URL: https://aurorasaurus.org/oval-data?end_date=2024-05-10T20:15&local_offset=0'"
      ]
     },
     "metadata": {},
     "output_type": "display_data"
    },
    {
     "name": "stdout",
     "output_type": "stream",
     "text": [
      "Processed entry 1 saved to C:/Users/alundkvi/Documents/work/scripts/oval_geojsons_south/2024-05-10-20-15/output1.geojson\n",
      "Processed entry 2 saved to C:/Users/alundkvi/Documents/work/scripts/oval_geojsons_south/2024-05-10-20-15/output2.geojson\n",
      "Skipped entry 3 due to missing or invalid data\n",
      "Skipped entry 4 due to missing or invalid data\n",
      "Skipped entry 5 due to missing or invalid data\n",
      "Skipped entry 6 due to missing or invalid data\n",
      "Skipped entry 7 due to missing or invalid data\n",
      "Skipped entry 8 due to missing or invalid data\n"
     ]
    },
    {
     "data": {
      "text/plain": [
       "'URL: https://aurorasaurus.org/oval-data?end_date=2024-05-10T20:30&local_offset=0'"
      ]
     },
     "metadata": {},
     "output_type": "display_data"
    },
    {
     "name": "stdout",
     "output_type": "stream",
     "text": [
      "Processed entry 1 saved to C:/Users/alundkvi/Documents/work/scripts/oval_geojsons_south/2024-05-10-20-30/output1.geojson\n",
      "Processed entry 2 saved to C:/Users/alundkvi/Documents/work/scripts/oval_geojsons_south/2024-05-10-20-30/output2.geojson\n",
      "Skipped entry 3 due to missing or invalid data\n",
      "Skipped entry 4 due to missing or invalid data\n",
      "Skipped entry 5 due to missing or invalid data\n",
      "Skipped entry 6 due to missing or invalid data\n"
     ]
    },
    {
     "data": {
      "text/plain": [
       "'URL: https://aurorasaurus.org/oval-data?end_date=2024-05-10T20:45&local_offset=0'"
      ]
     },
     "metadata": {},
     "output_type": "display_data"
    },
    {
     "name": "stdout",
     "output_type": "stream",
     "text": [
      "Processed entry 1 saved to C:/Users/alundkvi/Documents/work/scripts/oval_geojsons_south/2024-05-10-20-45/output1.geojson\n",
      "Skipped entry 2 due to missing or invalid data\n",
      "Skipped entry 3 due to missing or invalid data\n",
      "Skipped entry 4 due to missing or invalid data\n"
     ]
    },
    {
     "data": {
      "text/plain": [
       "'URL: https://aurorasaurus.org/oval-data?end_date=2024-05-10T21:00&local_offset=0'"
      ]
     },
     "metadata": {},
     "output_type": "display_data"
    },
    {
     "name": "stdout",
     "output_type": "stream",
     "text": [
      "Processed entry 1 saved to C:/Users/alundkvi/Documents/work/scripts/oval_geojsons_south/2024-05-10-21-00/output1.geojson\n",
      "Skipped entry 2 due to missing or invalid data\n",
      "Skipped entry 3 due to missing or invalid data\n",
      "Skipped entry 4 due to missing or invalid data\n"
     ]
    },
    {
     "data": {
      "text/plain": [
       "'URL: https://aurorasaurus.org/oval-data?end_date=2024-05-10T21:15&local_offset=0'"
      ]
     },
     "metadata": {},
     "output_type": "display_data"
    },
    {
     "name": "stdout",
     "output_type": "stream",
     "text": [
      "Processed entry 1 saved to C:/Users/alundkvi/Documents/work/scripts/oval_geojsons_south/2024-05-10-21-15/output1.geojson\n",
      "Skipped entry 2 due to missing or invalid data\n",
      "Skipped entry 3 due to missing or invalid data\n"
     ]
    },
    {
     "data": {
      "text/plain": [
       "'URL: https://aurorasaurus.org/oval-data?end_date=2024-05-10T21:30&local_offset=0'"
      ]
     },
     "metadata": {},
     "output_type": "display_data"
    },
    {
     "name": "stdout",
     "output_type": "stream",
     "text": [
      "Skipped entry 1 due to missing or invalid data\n",
      "Skipped entry 2 due to missing or invalid data\n"
     ]
    },
    {
     "data": {
      "text/plain": [
       "'URL: https://aurorasaurus.org/oval-data?end_date=2024-05-10T21:45&local_offset=0'"
      ]
     },
     "metadata": {},
     "output_type": "display_data"
    },
    {
     "name": "stdout",
     "output_type": "stream",
     "text": [
      "Skipped entry 1 due to missing or invalid data\n",
      "Skipped entry 2 due to missing or invalid data\n"
     ]
    },
    {
     "data": {
      "text/plain": [
       "'URL: https://aurorasaurus.org/oval-data?end_date=2024-05-10T22:00&local_offset=0'"
      ]
     },
     "metadata": {},
     "output_type": "display_data"
    },
    {
     "name": "stdout",
     "output_type": "stream",
     "text": [
      "Skipped entry 1 due to missing or invalid data\n",
      "Skipped entry 2 due to missing or invalid data\n",
      "Skipped entry 3 due to missing or invalid data\n",
      "Skipped entry 4 due to missing or invalid data\n",
      "Skipped entry 5 due to missing or invalid data\n"
     ]
    },
    {
     "data": {
      "text/plain": [
       "'URL: https://aurorasaurus.org/oval-data?end_date=2024-05-10T22:15&local_offset=0'"
      ]
     },
     "metadata": {},
     "output_type": "display_data"
    },
    {
     "name": "stdout",
     "output_type": "stream",
     "text": [
      "Skipped entry 1 due to missing or invalid data\n",
      "Skipped entry 2 due to missing or invalid data\n",
      "Skipped entry 3 due to missing or invalid data\n",
      "Skipped entry 4 due to missing or invalid data\n",
      "Skipped entry 5 due to missing or invalid data\n"
     ]
    },
    {
     "data": {
      "text/plain": [
       "'URL: https://aurorasaurus.org/oval-data?end_date=2024-05-10T22:30&local_offset=0'"
      ]
     },
     "metadata": {},
     "output_type": "display_data"
    },
    {
     "name": "stdout",
     "output_type": "stream",
     "text": [
      "Skipped entry 1 due to missing or invalid data\n",
      "Skipped entry 2 due to missing or invalid data\n",
      "Processed entry 3 saved to C:/Users/alundkvi/Documents/work/scripts/oval_geojsons_south/2024-05-10-22-30/output3.geojson\n",
      "Skipped entry 4 due to missing or invalid data\n",
      "Skipped entry 5 due to missing or invalid data\n",
      "Skipped entry 6 due to missing or invalid data\n"
     ]
    },
    {
     "data": {
      "text/plain": [
       "'URL: https://aurorasaurus.org/oval-data?end_date=2024-05-10T22:45&local_offset=0'"
      ]
     },
     "metadata": {},
     "output_type": "display_data"
    },
    {
     "name": "stdout",
     "output_type": "stream",
     "text": [
      "Skipped entry 1 due to missing or invalid data\n",
      "Skipped entry 2 due to missing or invalid data\n",
      "Skipped entry 3 due to missing or invalid data\n",
      "Processed entry 4 saved to C:/Users/alundkvi/Documents/work/scripts/oval_geojsons_south/2024-05-10-22-45/output4.geojson\n",
      "Skipped entry 5 due to missing or invalid data\n",
      "Processed entry 6 saved to C:/Users/alundkvi/Documents/work/scripts/oval_geojsons_south/2024-05-10-22-45/output6.geojson\n",
      "Skipped entry 7 due to missing or invalid data\n",
      "Skipped entry 8 due to missing or invalid data\n",
      "Skipped entry 9 due to missing or invalid data\n",
      "Skipped entry 10 due to missing or invalid data\n",
      "Skipped entry 11 due to missing or invalid data\n"
     ]
    },
    {
     "data": {
      "text/plain": [
       "'URL: https://aurorasaurus.org/oval-data?end_date=2024-05-10T23:00&local_offset=0'"
      ]
     },
     "metadata": {},
     "output_type": "display_data"
    },
    {
     "name": "stdout",
     "output_type": "stream",
     "text": [
      "Skipped entry 1 due to missing or invalid data\n",
      "Skipped entry 2 due to missing or invalid data\n",
      "Skipped entry 3 due to missing or invalid data\n",
      "Skipped entry 4 due to missing or invalid data\n",
      "Skipped entry 5 due to missing or invalid data\n"
     ]
    },
    {
     "data": {
      "text/plain": [
       "'URL: https://aurorasaurus.org/oval-data?end_date=2024-05-10T23:15&local_offset=0'"
      ]
     },
     "metadata": {},
     "output_type": "display_data"
    },
    {
     "name": "stdout",
     "output_type": "stream",
     "text": [
      "Skipped entry 1 due to missing or invalid data\n",
      "Skipped entry 2 due to missing or invalid data\n",
      "Skipped entry 3 due to missing or invalid data\n",
      "Skipped entry 4 due to missing or invalid data\n"
     ]
    },
    {
     "data": {
      "text/plain": [
       "'URL: https://aurorasaurus.org/oval-data?end_date=2024-05-10T23:30&local_offset=0'"
      ]
     },
     "metadata": {},
     "output_type": "display_data"
    },
    {
     "name": "stdout",
     "output_type": "stream",
     "text": [
      "Skipped entry 1 due to missing or invalid data\n",
      "Skipped entry 2 due to missing or invalid data\n",
      "Processed entry 3 saved to C:/Users/alundkvi/Documents/work/scripts/oval_geojsons_south/2024-05-10-23-30/output3.geojson\n",
      "Skipped entry 4 due to missing or invalid data\n",
      "Skipped entry 5 due to missing or invalid data\n"
     ]
    },
    {
     "data": {
      "text/plain": [
       "'URL: https://aurorasaurus.org/oval-data?end_date=2024-05-10T23:45&local_offset=0'"
      ]
     },
     "metadata": {},
     "output_type": "display_data"
    },
    {
     "name": "stdout",
     "output_type": "stream",
     "text": [
      "Skipped entry 1 due to missing or invalid data\n",
      "Skipped entry 2 due to missing or invalid data\n",
      "Processed entry 3 saved to C:/Users/alundkvi/Documents/work/scripts/oval_geojsons_south/2024-05-10-23-45/output3.geojson\n",
      "Skipped entry 4 due to missing or invalid data\n",
      "Skipped entry 5 due to missing or invalid data\n"
     ]
    },
    {
     "data": {
      "text/plain": [
       "'URL: https://aurorasaurus.org/oval-data?end_date=2024-05-11T00:00&local_offset=0'"
      ]
     },
     "metadata": {},
     "output_type": "display_data"
    },
    {
     "name": "stdout",
     "output_type": "stream",
     "text": [
      "Skipped entry 1 due to missing or invalid data\n",
      "Processed entry 2 saved to C:/Users/alundkvi/Documents/work/scripts/oval_geojsons_south/2024-05-11-00-00/output2.geojson\n",
      "Skipped entry 3 due to missing or invalid data\n"
     ]
    },
    {
     "data": {
      "text/plain": [
       "'URL: https://aurorasaurus.org/oval-data?end_date=2024-05-11T00:15&local_offset=0'"
      ]
     },
     "metadata": {},
     "output_type": "display_data"
    },
    {
     "name": "stdout",
     "output_type": "stream",
     "text": [
      "Skipped entry 1 due to missing or invalid data\n",
      "Processed entry 2 saved to C:/Users/alundkvi/Documents/work/scripts/oval_geojsons_south/2024-05-11-00-15/output2.geojson\n",
      "Skipped entry 3 due to missing or invalid data\n",
      "Skipped entry 4 due to missing or invalid data\n"
     ]
    },
    {
     "data": {
      "text/plain": [
       "'URL: https://aurorasaurus.org/oval-data?end_date=2024-05-11T00:30&local_offset=0'"
      ]
     },
     "metadata": {},
     "output_type": "display_data"
    },
    {
     "name": "stdout",
     "output_type": "stream",
     "text": [
      "Skipped entry 1 due to missing or invalid data\n",
      "Skipped entry 2 due to missing or invalid data\n",
      "Processed entry 3 saved to C:/Users/alundkvi/Documents/work/scripts/oval_geojsons_south/2024-05-11-00-30/output3.geojson\n",
      "Skipped entry 4 due to missing or invalid data\n",
      "Skipped entry 5 due to missing or invalid data\n"
     ]
    },
    {
     "data": {
      "text/plain": [
       "'URL: https://aurorasaurus.org/oval-data?end_date=2024-05-11T00:45&local_offset=0'"
      ]
     },
     "metadata": {},
     "output_type": "display_data"
    },
    {
     "name": "stdout",
     "output_type": "stream",
     "text": [
      "Skipped entry 1 due to missing or invalid data\n",
      "Processed entry 2 saved to C:/Users/alundkvi/Documents/work/scripts/oval_geojsons_south/2024-05-11-00-45/output2.geojson\n",
      "Processed entry 3 saved to C:/Users/alundkvi/Documents/work/scripts/oval_geojsons_south/2024-05-11-00-45/output3.geojson\n",
      "Skipped entry 4 due to missing or invalid data\n"
     ]
    },
    {
     "data": {
      "text/plain": [
       "'URL: https://aurorasaurus.org/oval-data?end_date=2024-05-11T01:00&local_offset=0'"
      ]
     },
     "metadata": {},
     "output_type": "display_data"
    },
    {
     "name": "stdout",
     "output_type": "stream",
     "text": [
      "Skipped entry 1 due to missing or invalid data\n",
      "Processed entry 2 saved to C:/Users/alundkvi/Documents/work/scripts/oval_geojsons_south/2024-05-11-01-00/output2.geojson\n",
      "Processed entry 3 saved to C:/Users/alundkvi/Documents/work/scripts/oval_geojsons_south/2024-05-11-01-00/output3.geojson\n",
      "Skipped entry 4 due to missing or invalid data\n"
     ]
    },
    {
     "data": {
      "text/plain": [
       "'URL: https://aurorasaurus.org/oval-data?end_date=2024-05-11T01:15&local_offset=0'"
      ]
     },
     "metadata": {},
     "output_type": "display_data"
    },
    {
     "name": "stdout",
     "output_type": "stream",
     "text": [
      "Skipped entry 1 due to missing or invalid data\n",
      "Processed entry 2 saved to C:/Users/alundkvi/Documents/work/scripts/oval_geojsons_south/2024-05-11-01-15/output2.geojson\n",
      "Skipped entry 3 due to missing or invalid data\n"
     ]
    },
    {
     "data": {
      "text/plain": [
       "'URL: https://aurorasaurus.org/oval-data?end_date=2024-05-11T01:30&local_offset=0'"
      ]
     },
     "metadata": {},
     "output_type": "display_data"
    },
    {
     "name": "stdout",
     "output_type": "stream",
     "text": [
      "Skipped entry 1 due to missing or invalid data\n",
      "Skipped entry 2 due to missing or invalid data\n",
      "Processed entry 3 saved to C:/Users/alundkvi/Documents/work/scripts/oval_geojsons_south/2024-05-11-01-30/output3.geojson\n",
      "Skipped entry 4 due to missing or invalid data\n",
      "Skipped entry 5 due to missing or invalid data\n"
     ]
    },
    {
     "data": {
      "text/plain": [
       "'URL: https://aurorasaurus.org/oval-data?end_date=2024-05-11T01:45&local_offset=0'"
      ]
     },
     "metadata": {},
     "output_type": "display_data"
    },
    {
     "name": "stdout",
     "output_type": "stream",
     "text": [
      "Skipped entry 1 due to missing or invalid data\n",
      "Processed entry 2 saved to C:/Users/alundkvi/Documents/work/scripts/oval_geojsons_south/2024-05-11-01-45/output2.geojson\n",
      "Skipped entry 3 due to missing or invalid data\n"
     ]
    },
    {
     "data": {
      "text/plain": [
       "'URL: https://aurorasaurus.org/oval-data?end_date=2024-05-11T02:00&local_offset=0'"
      ]
     },
     "metadata": {},
     "output_type": "display_data"
    },
    {
     "name": "stdout",
     "output_type": "stream",
     "text": [
      "Skipped entry 1 due to missing or invalid data\n",
      "Processed entry 2 saved to C:/Users/alundkvi/Documents/work/scripts/oval_geojsons_south/2024-05-11-02-00/output2.geojson\n",
      "Skipped entry 3 due to missing or invalid data\n"
     ]
    },
    {
     "data": {
      "text/plain": [
       "'URL: https://aurorasaurus.org/oval-data?end_date=2024-05-11T02:15&local_offset=0'"
      ]
     },
     "metadata": {},
     "output_type": "display_data"
    },
    {
     "name": "stdout",
     "output_type": "stream",
     "text": [
      "Skipped entry 1 due to missing or invalid data\n",
      "Processed entry 2 saved to C:/Users/alundkvi/Documents/work/scripts/oval_geojsons_south/2024-05-11-02-15/output2.geojson\n",
      "Skipped entry 3 due to missing or invalid data\n"
     ]
    },
    {
     "data": {
      "text/plain": [
       "'URL: https://aurorasaurus.org/oval-data?end_date=2024-05-11T02:30&local_offset=0'"
      ]
     },
     "metadata": {},
     "output_type": "display_data"
    },
    {
     "name": "stdout",
     "output_type": "stream",
     "text": [
      "Skipped entry 1 due to missing or invalid data\n",
      "Processed entry 2 saved to C:/Users/alundkvi/Documents/work/scripts/oval_geojsons_south/2024-05-11-02-30/output2.geojson\n",
      "Processed entry 3 saved to C:/Users/alundkvi/Documents/work/scripts/oval_geojsons_south/2024-05-11-02-30/output3.geojson\n",
      "Skipped entry 4 due to missing or invalid data\n"
     ]
    },
    {
     "data": {
      "text/plain": [
       "'URL: https://aurorasaurus.org/oval-data?end_date=2024-05-11T02:45&local_offset=0'"
      ]
     },
     "metadata": {},
     "output_type": "display_data"
    },
    {
     "name": "stdout",
     "output_type": "stream",
     "text": [
      "Skipped entry 1 due to missing or invalid data\n",
      "Processed entry 2 saved to C:/Users/alundkvi/Documents/work/scripts/oval_geojsons_south/2024-05-11-02-45/output2.geojson\n",
      "Skipped entry 3 due to missing or invalid data\n"
     ]
    },
    {
     "data": {
      "text/plain": [
       "'URL: https://aurorasaurus.org/oval-data?end_date=2024-05-11T03:00&local_offset=0'"
      ]
     },
     "metadata": {},
     "output_type": "display_data"
    },
    {
     "name": "stdout",
     "output_type": "stream",
     "text": [
      "Skipped entry 1 due to missing or invalid data\n",
      "Processed entry 2 saved to C:/Users/alundkvi/Documents/work/scripts/oval_geojsons_south/2024-05-11-03-00/output2.geojson\n",
      "Processed entry 3 saved to C:/Users/alundkvi/Documents/work/scripts/oval_geojsons_south/2024-05-11-03-00/output3.geojson\n",
      "Processed entry 4 saved to C:/Users/alundkvi/Documents/work/scripts/oval_geojsons_south/2024-05-11-03-00/output4.geojson\n",
      "Skipped entry 5 due to missing or invalid data\n"
     ]
    },
    {
     "data": {
      "text/plain": [
       "'URL: https://aurorasaurus.org/oval-data?end_date=2024-05-11T03:15&local_offset=0'"
      ]
     },
     "metadata": {},
     "output_type": "display_data"
    },
    {
     "name": "stdout",
     "output_type": "stream",
     "text": [
      "Skipped entry 1 due to missing or invalid data\n",
      "Processed entry 2 saved to C:/Users/alundkvi/Documents/work/scripts/oval_geojsons_south/2024-05-11-03-15/output2.geojson\n",
      "Processed entry 3 saved to C:/Users/alundkvi/Documents/work/scripts/oval_geojsons_south/2024-05-11-03-15/output3.geojson\n",
      "Processed entry 4 saved to C:/Users/alundkvi/Documents/work/scripts/oval_geojsons_south/2024-05-11-03-15/output4.geojson\n",
      "Skipped entry 5 due to missing or invalid data\n"
     ]
    },
    {
     "data": {
      "text/plain": [
       "'URL: https://aurorasaurus.org/oval-data?end_date=2024-05-11T03:30&local_offset=0'"
      ]
     },
     "metadata": {},
     "output_type": "display_data"
    },
    {
     "name": "stdout",
     "output_type": "stream",
     "text": [
      "Skipped entry 1 due to missing or invalid data\n",
      "Processed entry 2 saved to C:/Users/alundkvi/Documents/work/scripts/oval_geojsons_south/2024-05-11-03-30/output2.geojson\n",
      "Processed entry 3 saved to C:/Users/alundkvi/Documents/work/scripts/oval_geojsons_south/2024-05-11-03-30/output3.geojson\n",
      "Processed entry 4 saved to C:/Users/alundkvi/Documents/work/scripts/oval_geojsons_south/2024-05-11-03-30/output4.geojson\n",
      "Skipped entry 5 due to missing or invalid data\n"
     ]
    },
    {
     "data": {
      "text/plain": [
       "'URL: https://aurorasaurus.org/oval-data?end_date=2024-05-11T03:45&local_offset=0'"
      ]
     },
     "metadata": {},
     "output_type": "display_data"
    },
    {
     "name": "stdout",
     "output_type": "stream",
     "text": [
      "Skipped entry 1 due to missing or invalid data\n"
     ]
    },
    {
     "data": {
      "text/plain": [
       "'URL: https://aurorasaurus.org/oval-data?end_date=2024-05-11T04:00&local_offset=0'"
      ]
     },
     "metadata": {},
     "output_type": "display_data"
    },
    {
     "name": "stdout",
     "output_type": "stream",
     "text": [
      "Processed entry 1 saved to C:/Users/alundkvi/Documents/work/scripts/oval_geojsons_south/2024-05-11-04-00/output1.geojson\n",
      "Skipped entry 2 due to missing or invalid data\n",
      "Processed entry 3 saved to C:/Users/alundkvi/Documents/work/scripts/oval_geojsons_south/2024-05-11-04-00/output3.geojson\n",
      "Skipped entry 4 due to missing or invalid data\n"
     ]
    },
    {
     "data": {
      "text/plain": [
       "'URL: https://aurorasaurus.org/oval-data?end_date=2024-05-11T04:15&local_offset=0'"
      ]
     },
     "metadata": {},
     "output_type": "display_data"
    },
    {
     "name": "stdout",
     "output_type": "stream",
     "text": [
      "Processed entry 1 saved to C:/Users/alundkvi/Documents/work/scripts/oval_geojsons_south/2024-05-11-04-15/output1.geojson\n",
      "Skipped entry 2 due to missing or invalid data\n",
      "Processed entry 3 saved to C:/Users/alundkvi/Documents/work/scripts/oval_geojsons_south/2024-05-11-04-15/output3.geojson\n",
      "Processed entry 4 saved to C:/Users/alundkvi/Documents/work/scripts/oval_geojsons_south/2024-05-11-04-15/output4.geojson\n",
      "Skipped entry 5 due to missing or invalid data\n"
     ]
    },
    {
     "data": {
      "text/plain": [
       "'URL: https://aurorasaurus.org/oval-data?end_date=2024-05-11T04:30&local_offset=0'"
      ]
     },
     "metadata": {},
     "output_type": "display_data"
    },
    {
     "name": "stdout",
     "output_type": "stream",
     "text": [
      "Processed entry 1 saved to C:/Users/alundkvi/Documents/work/scripts/oval_geojsons_south/2024-05-11-04-30/output1.geojson\n",
      "Skipped entry 2 due to missing or invalid data\n",
      "Skipped entry 3 due to missing or invalid data\n",
      "Processed entry 4 saved to C:/Users/alundkvi/Documents/work/scripts/oval_geojsons_south/2024-05-11-04-30/output4.geojson\n",
      "Processed entry 5 saved to C:/Users/alundkvi/Documents/work/scripts/oval_geojsons_south/2024-05-11-04-30/output5.geojson\n",
      "Skipped entry 6 due to missing or invalid data\n",
      "Skipped entry 7 due to missing or invalid data\n"
     ]
    },
    {
     "data": {
      "text/plain": [
       "'URL: https://aurorasaurus.org/oval-data?end_date=2024-05-11T04:45&local_offset=0'"
      ]
     },
     "metadata": {},
     "output_type": "display_data"
    },
    {
     "name": "stdout",
     "output_type": "stream",
     "text": [
      "Processed entry 1 saved to C:/Users/alundkvi/Documents/work/scripts/oval_geojsons_south/2024-05-11-04-45/output1.geojson\n",
      "Skipped entry 2 due to missing or invalid data\n",
      "Skipped entry 3 due to missing or invalid data\n",
      "Processed entry 4 saved to C:/Users/alundkvi/Documents/work/scripts/oval_geojsons_south/2024-05-11-04-45/output4.geojson\n",
      "Skipped entry 5 due to missing or invalid data\n",
      "Skipped entry 6 due to missing or invalid data\n"
     ]
    },
    {
     "data": {
      "text/plain": [
       "'URL: https://aurorasaurus.org/oval-data?end_date=2024-05-11T05:00&local_offset=0'"
      ]
     },
     "metadata": {},
     "output_type": "display_data"
    },
    {
     "name": "stdout",
     "output_type": "stream",
     "text": [
      "Processed entry 1 saved to C:/Users/alundkvi/Documents/work/scripts/oval_geojsons_south/2024-05-11-05-00/output1.geojson\n",
      "Processed entry 2 saved to C:/Users/alundkvi/Documents/work/scripts/oval_geojsons_south/2024-05-11-05-00/output2.geojson\n",
      "Skipped entry 3 due to missing or invalid data\n",
      "Skipped entry 4 due to missing or invalid data\n",
      "Processed entry 5 saved to C:/Users/alundkvi/Documents/work/scripts/oval_geojsons_south/2024-05-11-05-00/output5.geojson\n",
      "Processed entry 6 saved to C:/Users/alundkvi/Documents/work/scripts/oval_geojsons_south/2024-05-11-05-00/output6.geojson\n",
      "Skipped entry 7 due to missing or invalid data\n",
      "Skipped entry 8 due to missing or invalid data\n"
     ]
    },
    {
     "data": {
      "text/plain": [
       "'URL: https://aurorasaurus.org/oval-data?end_date=2024-05-11T05:15&local_offset=0'"
      ]
     },
     "metadata": {},
     "output_type": "display_data"
    },
    {
     "name": "stdout",
     "output_type": "stream",
     "text": [
      "Processed entry 1 saved to C:/Users/alundkvi/Documents/work/scripts/oval_geojsons_south/2024-05-11-05-15/output1.geojson\n",
      "Processed entry 2 saved to C:/Users/alundkvi/Documents/work/scripts/oval_geojsons_south/2024-05-11-05-15/output2.geojson\n",
      "Skipped entry 3 due to missing or invalid data\n",
      "Skipped entry 4 due to missing or invalid data\n",
      "Skipped entry 5 due to missing or invalid data\n",
      "Skipped entry 6 due to missing or invalid data\n",
      "Skipped entry 7 due to missing or invalid data\n",
      "Skipped entry 8 due to missing or invalid data\n"
     ]
    },
    {
     "data": {
      "text/plain": [
       "'URL: https://aurorasaurus.org/oval-data?end_date=2024-05-11T05:30&local_offset=0'"
      ]
     },
     "metadata": {},
     "output_type": "display_data"
    },
    {
     "name": "stdout",
     "output_type": "stream",
     "text": [
      "Processed entry 1 saved to C:/Users/alundkvi/Documents/work/scripts/oval_geojsons_south/2024-05-11-05-30/output1.geojson\n",
      "Processed entry 2 saved to C:/Users/alundkvi/Documents/work/scripts/oval_geojsons_south/2024-05-11-05-30/output2.geojson\n",
      "Processed entry 3 saved to C:/Users/alundkvi/Documents/work/scripts/oval_geojsons_south/2024-05-11-05-30/output3.geojson\n",
      "Skipped entry 4 due to missing or invalid data\n",
      "Skipped entry 5 due to missing or invalid data\n",
      "Skipped entry 6 due to missing or invalid data\n",
      "Skipped entry 7 due to missing or invalid data\n",
      "Skipped entry 8 due to missing or invalid data\n",
      "Skipped entry 9 due to missing or invalid data\n",
      "Skipped entry 10 due to missing or invalid data\n",
      "Skipped entry 11 due to missing or invalid data\n"
     ]
    },
    {
     "data": {
      "text/plain": [
       "'URL: https://aurorasaurus.org/oval-data?end_date=2024-05-11T05:45&local_offset=0'"
      ]
     },
     "metadata": {},
     "output_type": "display_data"
    },
    {
     "name": "stdout",
     "output_type": "stream",
     "text": [
      "Processed entry 1 saved to C:/Users/alundkvi/Documents/work/scripts/oval_geojsons_south/2024-05-11-05-45/output1.geojson\n",
      "Processed entry 2 saved to C:/Users/alundkvi/Documents/work/scripts/oval_geojsons_south/2024-05-11-05-45/output2.geojson\n",
      "Processed entry 3 saved to C:/Users/alundkvi/Documents/work/scripts/oval_geojsons_south/2024-05-11-05-45/output3.geojson\n",
      "Skipped entry 4 due to missing or invalid data\n",
      "Skipped entry 5 due to missing or invalid data\n",
      "Skipped entry 6 due to missing or invalid data\n",
      "Skipped entry 7 due to missing or invalid data\n",
      "Processed entry 8 saved to C:/Users/alundkvi/Documents/work/scripts/oval_geojsons_south/2024-05-11-05-45/output8.geojson\n",
      "Skipped entry 9 due to missing or invalid data\n",
      "Skipped entry 10 due to missing or invalid data\n",
      "Skipped entry 11 due to missing or invalid data\n",
      "Skipped entry 12 due to missing or invalid data\n"
     ]
    },
    {
     "data": {
      "text/plain": [
       "'URL: https://aurorasaurus.org/oval-data?end_date=2024-05-11T06:00&local_offset=0'"
      ]
     },
     "metadata": {},
     "output_type": "display_data"
    },
    {
     "name": "stdout",
     "output_type": "stream",
     "text": [
      "Processed entry 1 saved to C:/Users/alundkvi/Documents/work/scripts/oval_geojsons_south/2024-05-11-06-00/output1.geojson\n",
      "Skipped entry 2 due to missing or invalid data\n",
      "Processed entry 3 saved to C:/Users/alundkvi/Documents/work/scripts/oval_geojsons_south/2024-05-11-06-00/output3.geojson\n",
      "Skipped entry 4 due to missing or invalid data\n",
      "Skipped entry 5 due to missing or invalid data\n",
      "Skipped entry 6 due to missing or invalid data\n",
      "Processed entry 7 saved to C:/Users/alundkvi/Documents/work/scripts/oval_geojsons_south/2024-05-11-06-00/output7.geojson\n",
      "Skipped entry 8 due to missing or invalid data\n",
      "Skipped entry 9 due to missing or invalid data\n",
      "Skipped entry 10 due to missing or invalid data\n",
      "Skipped entry 11 due to missing or invalid data\n"
     ]
    },
    {
     "data": {
      "text/plain": [
       "'URL: https://aurorasaurus.org/oval-data?end_date=2024-05-11T06:15&local_offset=0'"
      ]
     },
     "metadata": {},
     "output_type": "display_data"
    },
    {
     "name": "stdout",
     "output_type": "stream",
     "text": [
      "Processed entry 1 saved to C:/Users/alundkvi/Documents/work/scripts/oval_geojsons_south/2024-05-11-06-15/output1.geojson\n",
      "Processed entry 2 saved to C:/Users/alundkvi/Documents/work/scripts/oval_geojsons_south/2024-05-11-06-15/output2.geojson\n",
      "Skipped entry 3 due to missing or invalid data\n",
      "Processed entry 4 saved to C:/Users/alundkvi/Documents/work/scripts/oval_geojsons_south/2024-05-11-06-15/output4.geojson\n",
      "Skipped entry 5 due to missing or invalid data\n",
      "Skipped entry 6 due to missing or invalid data\n",
      "Skipped entry 7 due to missing or invalid data\n",
      "Processed entry 8 saved to C:/Users/alundkvi/Documents/work/scripts/oval_geojsons_south/2024-05-11-06-15/output8.geojson\n",
      "Skipped entry 9 due to missing or invalid data\n",
      "Skipped entry 10 due to missing or invalid data\n",
      "Skipped entry 11 due to missing or invalid data\n",
      "Skipped entry 12 due to missing or invalid data\n"
     ]
    },
    {
     "data": {
      "text/plain": [
       "'URL: https://aurorasaurus.org/oval-data?end_date=2024-05-11T06:30&local_offset=0'"
      ]
     },
     "metadata": {},
     "output_type": "display_data"
    },
    {
     "name": "stdout",
     "output_type": "stream",
     "text": [
      "Processed entry 1 saved to C:/Users/alundkvi/Documents/work/scripts/oval_geojsons_south/2024-05-11-06-30/output1.geojson\n",
      "Skipped entry 2 due to missing or invalid data\n",
      "Skipped entry 3 due to missing or invalid data\n",
      "Skipped entry 4 due to missing or invalid data\n",
      "Skipped entry 5 due to missing or invalid data\n",
      "Skipped entry 6 due to missing or invalid data\n"
     ]
    },
    {
     "data": {
      "text/plain": [
       "'URL: https://aurorasaurus.org/oval-data?end_date=2024-05-11T06:45&local_offset=0'"
      ]
     },
     "metadata": {},
     "output_type": "display_data"
    },
    {
     "name": "stdout",
     "output_type": "stream",
     "text": [
      "Processed entry 1 saved to C:/Users/alundkvi/Documents/work/scripts/oval_geojsons_south/2024-05-11-06-45/output1.geojson\n",
      "Skipped entry 2 due to missing or invalid data\n",
      "Skipped entry 3 due to missing or invalid data\n",
      "Skipped entry 4 due to missing or invalid data\n",
      "Processed entry 5 saved to C:/Users/alundkvi/Documents/work/scripts/oval_geojsons_south/2024-05-11-06-45/output5.geojson\n",
      "Skipped entry 6 due to missing or invalid data\n",
      "Skipped entry 7 due to missing or invalid data\n",
      "Skipped entry 8 due to missing or invalid data\n"
     ]
    },
    {
     "data": {
      "text/plain": [
       "'URL: https://aurorasaurus.org/oval-data?end_date=2024-05-11T07:00&local_offset=0'"
      ]
     },
     "metadata": {},
     "output_type": "display_data"
    },
    {
     "name": "stdout",
     "output_type": "stream",
     "text": [
      "Processed entry 1 saved to C:/Users/alundkvi/Documents/work/scripts/oval_geojsons_south/2024-05-11-07-00/output1.geojson\n",
      "Skipped entry 2 due to missing or invalid data\n",
      "Skipped entry 3 due to missing or invalid data\n",
      "Skipped entry 4 due to missing or invalid data\n",
      "Skipped entry 5 due to missing or invalid data\n"
     ]
    },
    {
     "data": {
      "text/plain": [
       "'URL: https://aurorasaurus.org/oval-data?end_date=2024-05-11T07:15&local_offset=0'"
      ]
     },
     "metadata": {},
     "output_type": "display_data"
    },
    {
     "name": "stdout",
     "output_type": "stream",
     "text": [
      "Processed entry 1 saved to C:/Users/alundkvi/Documents/work/scripts/oval_geojsons_south/2024-05-11-07-15/output1.geojson\n",
      "Processed entry 2 saved to C:/Users/alundkvi/Documents/work/scripts/oval_geojsons_south/2024-05-11-07-15/output2.geojson\n",
      "Skipped entry 3 due to missing or invalid data\n",
      "Skipped entry 4 due to missing or invalid data\n",
      "Skipped entry 5 due to missing or invalid data\n",
      "Skipped entry 6 due to missing or invalid data\n",
      "Processed entry 7 saved to C:/Users/alundkvi/Documents/work/scripts/oval_geojsons_south/2024-05-11-07-15/output7.geojson\n",
      "Skipped entry 8 due to missing or invalid data\n",
      "Skipped entry 9 due to missing or invalid data\n",
      "Skipped entry 10 due to missing or invalid data\n",
      "Skipped entry 11 due to missing or invalid data\n"
     ]
    },
    {
     "data": {
      "text/plain": [
       "'URL: https://aurorasaurus.org/oval-data?end_date=2024-05-11T07:30&local_offset=0'"
      ]
     },
     "metadata": {},
     "output_type": "display_data"
    },
    {
     "name": "stdout",
     "output_type": "stream",
     "text": [
      "Processed entry 1 saved to C:/Users/alundkvi/Documents/work/scripts/oval_geojsons_south/2024-05-11-07-30/output1.geojson\n",
      "Skipped entry 2 due to missing or invalid data\n",
      "Processed entry 3 saved to C:/Users/alundkvi/Documents/work/scripts/oval_geojsons_south/2024-05-11-07-30/output3.geojson\n",
      "Skipped entry 4 due to missing or invalid data\n",
      "Skipped entry 5 due to missing or invalid data\n",
      "Skipped entry 6 due to missing or invalid data\n",
      "Processed entry 7 saved to C:/Users/alundkvi/Documents/work/scripts/oval_geojsons_south/2024-05-11-07-30/output7.geojson\n",
      "Skipped entry 8 due to missing or invalid data\n",
      "Skipped entry 9 due to missing or invalid data\n",
      "Skipped entry 10 due to missing or invalid data\n",
      "Skipped entry 11 due to missing or invalid data\n"
     ]
    },
    {
     "data": {
      "text/plain": [
       "'URL: https://aurorasaurus.org/oval-data?end_date=2024-05-11T07:45&local_offset=0'"
      ]
     },
     "metadata": {},
     "output_type": "display_data"
    },
    {
     "name": "stdout",
     "output_type": "stream",
     "text": [
      "Skipped entry 1 due to missing or invalid data\n",
      "Processed entry 2 saved to C:/Users/alundkvi/Documents/work/scripts/oval_geojsons_south/2024-05-11-07-45/output2.geojson\n",
      "Skipped entry 3 due to missing or invalid data\n",
      "Skipped entry 4 due to missing or invalid data\n",
      "Skipped entry 5 due to missing or invalid data\n",
      "Skipped entry 6 due to missing or invalid data\n",
      "Skipped entry 7 due to missing or invalid data\n"
     ]
    },
    {
     "data": {
      "text/plain": [
       "'URL: https://aurorasaurus.org/oval-data?end_date=2024-05-11T08:00&local_offset=0'"
      ]
     },
     "metadata": {},
     "output_type": "display_data"
    },
    {
     "name": "stdout",
     "output_type": "stream",
     "text": [
      "Processed entry 1 saved to C:/Users/alundkvi/Documents/work/scripts/oval_geojsons_south/2024-05-11-08-00/output1.geojson\n",
      "Skipped entry 2 due to missing or invalid data\n",
      "Processed entry 3 saved to C:/Users/alundkvi/Documents/work/scripts/oval_geojsons_south/2024-05-11-08-00/output3.geojson\n",
      "Skipped entry 4 due to missing or invalid data\n",
      "Skipped entry 5 due to missing or invalid data\n",
      "Processed entry 6 saved to C:/Users/alundkvi/Documents/work/scripts/oval_geojsons_south/2024-05-11-08-00/output6.geojson\n",
      "Skipped entry 7 due to missing or invalid data\n",
      "Skipped entry 8 due to missing or invalid data\n",
      "Skipped entry 9 due to missing or invalid data\n",
      "Skipped entry 10 due to missing or invalid data\n",
      "Skipped entry 11 due to missing or invalid data\n"
     ]
    },
    {
     "data": {
      "text/plain": [
       "'URL: https://aurorasaurus.org/oval-data?end_date=2024-05-11T08:15&local_offset=0'"
      ]
     },
     "metadata": {},
     "output_type": "display_data"
    },
    {
     "name": "stdout",
     "output_type": "stream",
     "text": [
      "Processed entry 1 saved to C:/Users/alundkvi/Documents/work/scripts/oval_geojsons_south/2024-05-11-08-15/output1.geojson\n",
      "Processed entry 2 saved to C:/Users/alundkvi/Documents/work/scripts/oval_geojsons_south/2024-05-11-08-15/output2.geojson\n",
      "Skipped entry 3 due to missing or invalid data\n",
      "Skipped entry 4 due to missing or invalid data\n",
      "Skipped entry 5 due to missing or invalid data\n",
      "Skipped entry 6 due to missing or invalid data\n"
     ]
    },
    {
     "data": {
      "text/plain": [
       "'URL: https://aurorasaurus.org/oval-data?end_date=2024-05-11T08:30&local_offset=0'"
      ]
     },
     "metadata": {},
     "output_type": "display_data"
    },
    {
     "name": "stdout",
     "output_type": "stream",
     "text": [
      "Processed entry 1 saved to C:/Users/alundkvi/Documents/work/scripts/oval_geojsons_south/2024-05-11-08-30/output1.geojson\n",
      "Processed entry 2 saved to C:/Users/alundkvi/Documents/work/scripts/oval_geojsons_south/2024-05-11-08-30/output2.geojson\n",
      "Skipped entry 3 due to missing or invalid data\n",
      "Skipped entry 4 due to missing or invalid data\n",
      "Skipped entry 5 due to missing or invalid data\n",
      "Skipped entry 6 due to missing or invalid data\n"
     ]
    },
    {
     "data": {
      "text/plain": [
       "'URL: https://aurorasaurus.org/oval-data?end_date=2024-05-11T08:45&local_offset=0'"
      ]
     },
     "metadata": {},
     "output_type": "display_data"
    },
    {
     "name": "stdout",
     "output_type": "stream",
     "text": [
      "Processed entry 1 saved to C:/Users/alundkvi/Documents/work/scripts/oval_geojsons_south/2024-05-11-08-45/output1.geojson\n",
      "Skipped entry 2 due to missing or invalid data\n",
      "Processed entry 3 saved to C:/Users/alundkvi/Documents/work/scripts/oval_geojsons_south/2024-05-11-08-45/output3.geojson\n",
      "Skipped entry 4 due to missing or invalid data\n"
     ]
    },
    {
     "data": {
      "text/plain": [
       "'URL: https://aurorasaurus.org/oval-data?end_date=2024-05-11T09:00&local_offset=0'"
      ]
     },
     "metadata": {},
     "output_type": "display_data"
    },
    {
     "name": "stdout",
     "output_type": "stream",
     "text": [
      "Processed entry 1 saved to C:/Users/alundkvi/Documents/work/scripts/oval_geojsons_south/2024-05-11-09-00/output1.geojson\n",
      "Skipped entry 2 due to missing or invalid data\n",
      "Processed entry 3 saved to C:/Users/alundkvi/Documents/work/scripts/oval_geojsons_south/2024-05-11-09-00/output3.geojson\n",
      "Skipped entry 4 due to missing or invalid data\n",
      "Skipped entry 5 due to missing or invalid data\n"
     ]
    },
    {
     "data": {
      "text/plain": [
       "'URL: https://aurorasaurus.org/oval-data?end_date=2024-05-11T09:15&local_offset=0'"
      ]
     },
     "metadata": {},
     "output_type": "display_data"
    },
    {
     "name": "stdout",
     "output_type": "stream",
     "text": [
      "Processed entry 1 saved to C:/Users/alundkvi/Documents/work/scripts/oval_geojsons_south/2024-05-11-09-15/output1.geojson\n",
      "Skipped entry 2 due to missing or invalid data\n",
      "Processed entry 3 saved to C:/Users/alundkvi/Documents/work/scripts/oval_geojsons_south/2024-05-11-09-15/output3.geojson\n",
      "Processed entry 4 saved to C:/Users/alundkvi/Documents/work/scripts/oval_geojsons_south/2024-05-11-09-15/output4.geojson\n",
      "Skipped entry 5 due to missing or invalid data\n",
      "Skipped entry 6 due to missing or invalid data\n"
     ]
    },
    {
     "data": {
      "text/plain": [
       "'URL: https://aurorasaurus.org/oval-data?end_date=2024-05-11T09:30&local_offset=0'"
      ]
     },
     "metadata": {},
     "output_type": "display_data"
    },
    {
     "name": "stdout",
     "output_type": "stream",
     "text": [
      "Processed entry 1 saved to C:/Users/alundkvi/Documents/work/scripts/oval_geojsons_south/2024-05-11-09-30/output1.geojson\n",
      "Skipped entry 2 due to missing or invalid data\n",
      "Skipped entry 3 due to missing or invalid data\n",
      "Processed entry 4 saved to C:/Users/alundkvi/Documents/work/scripts/oval_geojsons_south/2024-05-11-09-30/output4.geojson\n",
      "Processed entry 5 saved to C:/Users/alundkvi/Documents/work/scripts/oval_geojsons_south/2024-05-11-09-30/output5.geojson\n",
      "Skipped entry 6 due to missing or invalid data\n",
      "Skipped entry 7 due to missing or invalid data\n",
      "Skipped entry 8 due to missing or invalid data\n"
     ]
    },
    {
     "data": {
      "text/plain": [
       "'URL: https://aurorasaurus.org/oval-data?end_date=2024-05-11T09:45&local_offset=0'"
      ]
     },
     "metadata": {},
     "output_type": "display_data"
    },
    {
     "name": "stdout",
     "output_type": "stream",
     "text": [
      "Processed entry 1 saved to C:/Users/alundkvi/Documents/work/scripts/oval_geojsons_south/2024-05-11-09-45/output1.geojson\n",
      "Skipped entry 2 due to missing or invalid data\n",
      "Processed entry 3 saved to C:/Users/alundkvi/Documents/work/scripts/oval_geojsons_south/2024-05-11-09-45/output3.geojson\n",
      "Skipped entry 4 due to missing or invalid data\n",
      "Skipped entry 5 due to missing or invalid data\n"
     ]
    },
    {
     "data": {
      "text/plain": [
       "'URL: https://aurorasaurus.org/oval-data?end_date=2024-05-11T10:00&local_offset=0'"
      ]
     },
     "metadata": {},
     "output_type": "display_data"
    },
    {
     "name": "stdout",
     "output_type": "stream",
     "text": [
      "Processed entry 1 saved to C:/Users/alundkvi/Documents/work/scripts/oval_geojsons_south/2024-05-11-10-00/output1.geojson\n",
      "Skipped entry 2 due to missing or invalid data\n",
      "Processed entry 3 saved to C:/Users/alundkvi/Documents/work/scripts/oval_geojsons_south/2024-05-11-10-00/output3.geojson\n",
      "Processed entry 4 saved to C:/Users/alundkvi/Documents/work/scripts/oval_geojsons_south/2024-05-11-10-00/output4.geojson\n",
      "Skipped entry 5 due to missing or invalid data\n",
      "Skipped entry 6 due to missing or invalid data\n"
     ]
    },
    {
     "data": {
      "text/plain": [
       "'URL: https://aurorasaurus.org/oval-data?end_date=2024-05-11T10:15&local_offset=0'"
      ]
     },
     "metadata": {},
     "output_type": "display_data"
    },
    {
     "name": "stdout",
     "output_type": "stream",
     "text": [
      "Processed entry 1 saved to C:/Users/alundkvi/Documents/work/scripts/oval_geojsons_south/2024-05-11-10-15/output1.geojson\n",
      "Processed entry 2 saved to C:/Users/alundkvi/Documents/work/scripts/oval_geojsons_south/2024-05-11-10-15/output2.geojson\n",
      "Skipped entry 3 due to missing or invalid data\n",
      "Processed entry 4 saved to C:/Users/alundkvi/Documents/work/scripts/oval_geojsons_south/2024-05-11-10-15/output4.geojson\n",
      "Skipped entry 5 due to missing or invalid data\n",
      "Skipped entry 6 due to missing or invalid data\n"
     ]
    },
    {
     "data": {
      "text/plain": [
       "'URL: https://aurorasaurus.org/oval-data?end_date=2024-05-11T10:30&local_offset=0'"
      ]
     },
     "metadata": {},
     "output_type": "display_data"
    },
    {
     "name": "stdout",
     "output_type": "stream",
     "text": [
      "Skipped entry 1 due to missing or invalid data\n",
      "Processed entry 2 saved to C:/Users/alundkvi/Documents/work/scripts/oval_geojsons_south/2024-05-11-10-30/output2.geojson\n",
      "Processed entry 3 saved to C:/Users/alundkvi/Documents/work/scripts/oval_geojsons_south/2024-05-11-10-30/output3.geojson\n",
      "Skipped entry 4 due to missing or invalid data\n",
      "Processed entry 5 saved to C:/Users/alundkvi/Documents/work/scripts/oval_geojsons_south/2024-05-11-10-30/output5.geojson\n",
      "Processed entry 6 saved to C:/Users/alundkvi/Documents/work/scripts/oval_geojsons_south/2024-05-11-10-30/output6.geojson\n",
      "Processed entry 7 saved to C:/Users/alundkvi/Documents/work/scripts/oval_geojsons_south/2024-05-11-10-30/output7.geojson\n",
      "Skipped entry 8 due to missing or invalid data\n",
      "Skipped entry 9 due to missing or invalid data\n"
     ]
    },
    {
     "data": {
      "text/plain": [
       "'URL: https://aurorasaurus.org/oval-data?end_date=2024-05-11T10:45&local_offset=0'"
      ]
     },
     "metadata": {},
     "output_type": "display_data"
    },
    {
     "name": "stdout",
     "output_type": "stream",
     "text": [
      "Processed entry 1 saved to C:/Users/alundkvi/Documents/work/scripts/oval_geojsons_south/2024-05-11-10-45/output1.geojson\n",
      "Skipped entry 2 due to missing or invalid data\n",
      "Processed entry 3 saved to C:/Users/alundkvi/Documents/work/scripts/oval_geojsons_south/2024-05-11-10-45/output3.geojson\n",
      "Skipped entry 4 due to missing or invalid data\n",
      "Skipped entry 5 due to missing or invalid data\n",
      "Skipped entry 6 due to missing or invalid data\n",
      "Skipped entry 7 due to missing or invalid data\n"
     ]
    },
    {
     "data": {
      "text/plain": [
       "'URL: https://aurorasaurus.org/oval-data?end_date=2024-05-11T11:00&local_offset=0'"
      ]
     },
     "metadata": {},
     "output_type": "display_data"
    },
    {
     "name": "stdout",
     "output_type": "stream",
     "text": [
      "Skipped entry 1 due to missing or invalid data\n",
      "Processed entry 2 saved to C:/Users/alundkvi/Documents/work/scripts/oval_geojsons_south/2024-05-11-11-00/output2.geojson\n",
      "Skipped entry 3 due to missing or invalid data\n",
      "Skipped entry 4 due to missing or invalid data\n",
      "Processed entry 5 saved to C:/Users/alundkvi/Documents/work/scripts/oval_geojsons_south/2024-05-11-11-00/output5.geojson\n",
      "Skipped entry 6 due to missing or invalid data\n",
      "Skipped entry 7 due to missing or invalid data\n",
      "Skipped entry 8 due to missing or invalid data\n"
     ]
    },
    {
     "data": {
      "text/plain": [
       "'URL: https://aurorasaurus.org/oval-data?end_date=2024-05-11T11:15&local_offset=0'"
      ]
     },
     "metadata": {},
     "output_type": "display_data"
    },
    {
     "name": "stdout",
     "output_type": "stream",
     "text": [
      "Skipped entry 1 due to missing or invalid data\n",
      "Skipped entry 2 due to missing or invalid data\n",
      "Processed entry 3 saved to C:/Users/alundkvi/Documents/work/scripts/oval_geojsons_south/2024-05-11-11-15/output3.geojson\n",
      "Skipped entry 4 due to missing or invalid data\n",
      "Processed entry 5 saved to C:/Users/alundkvi/Documents/work/scripts/oval_geojsons_south/2024-05-11-11-15/output5.geojson\n",
      "Processed entry 6 saved to C:/Users/alundkvi/Documents/work/scripts/oval_geojsons_south/2024-05-11-11-15/output6.geojson\n",
      "Processed entry 7 saved to C:/Users/alundkvi/Documents/work/scripts/oval_geojsons_south/2024-05-11-11-15/output7.geojson\n",
      "Skipped entry 8 due to missing or invalid data\n",
      "Skipped entry 9 due to missing or invalid data\n",
      "Skipped entry 10 due to missing or invalid data\n"
     ]
    },
    {
     "data": {
      "text/plain": [
       "'URL: https://aurorasaurus.org/oval-data?end_date=2024-05-11T11:30&local_offset=0'"
      ]
     },
     "metadata": {},
     "output_type": "display_data"
    },
    {
     "name": "stdout",
     "output_type": "stream",
     "text": [
      "Skipped entry 1 due to missing or invalid data\n",
      "Skipped entry 2 due to missing or invalid data\n",
      "Processed entry 3 saved to C:/Users/alundkvi/Documents/work/scripts/oval_geojsons_south/2024-05-11-11-30/output3.geojson\n",
      "Skipped entry 4 due to missing or invalid data\n",
      "Processed entry 5 saved to C:/Users/alundkvi/Documents/work/scripts/oval_geojsons_south/2024-05-11-11-30/output5.geojson\n",
      "Skipped entry 6 due to missing or invalid data\n",
      "Processed entry 7 saved to C:/Users/alundkvi/Documents/work/scripts/oval_geojsons_south/2024-05-11-11-30/output7.geojson\n",
      "Processed entry 8 saved to C:/Users/alundkvi/Documents/work/scripts/oval_geojsons_south/2024-05-11-11-30/output8.geojson\n",
      "Processed entry 9 saved to C:/Users/alundkvi/Documents/work/scripts/oval_geojsons_south/2024-05-11-11-30/output9.geojson\n",
      "Skipped entry 10 due to missing or invalid data\n",
      "Skipped entry 11 due to missing or invalid data\n",
      "Skipped entry 12 due to missing or invalid data\n",
      "Skipped entry 13 due to missing or invalid data\n"
     ]
    },
    {
     "data": {
      "text/plain": [
       "'URL: https://aurorasaurus.org/oval-data?end_date=2024-05-11T11:45&local_offset=0'"
      ]
     },
     "metadata": {},
     "output_type": "display_data"
    },
    {
     "name": "stdout",
     "output_type": "stream",
     "text": [
      "Skipped entry 1 due to missing or invalid data\n",
      "Processed entry 2 saved to C:/Users/alundkvi/Documents/work/scripts/oval_geojsons_south/2024-05-11-11-45/output2.geojson\n",
      "Skipped entry 3 due to missing or invalid data\n",
      "Processed entry 4 saved to C:/Users/alundkvi/Documents/work/scripts/oval_geojsons_south/2024-05-11-11-45/output4.geojson\n",
      "Processed entry 5 saved to C:/Users/alundkvi/Documents/work/scripts/oval_geojsons_south/2024-05-11-11-45/output5.geojson\n",
      "Processed entry 6 saved to C:/Users/alundkvi/Documents/work/scripts/oval_geojsons_south/2024-05-11-11-45/output6.geojson\n",
      "Skipped entry 7 due to missing or invalid data\n",
      "Skipped entry 8 due to missing or invalid data\n",
      "Skipped entry 9 due to missing or invalid data\n"
     ]
    },
    {
     "data": {
      "text/plain": [
       "'URL: https://aurorasaurus.org/oval-data?end_date=2024-05-11T12:00&local_offset=0'"
      ]
     },
     "metadata": {},
     "output_type": "display_data"
    },
    {
     "name": "stdout",
     "output_type": "stream",
     "text": [
      "Skipped entry 1 due to missing or invalid data\n",
      "Processed entry 2 saved to C:/Users/alundkvi/Documents/work/scripts/oval_geojsons_south/2024-05-11-12-00/output2.geojson\n",
      "Processed entry 3 saved to C:/Users/alundkvi/Documents/work/scripts/oval_geojsons_south/2024-05-11-12-00/output3.geojson\n",
      "Skipped entry 4 due to missing or invalid data\n",
      "Processed entry 5 saved to C:/Users/alundkvi/Documents/work/scripts/oval_geojsons_south/2024-05-11-12-00/output5.geojson\n",
      "Processed entry 6 saved to C:/Users/alundkvi/Documents/work/scripts/oval_geojsons_south/2024-05-11-12-00/output6.geojson\n",
      "Processed entry 7 saved to C:/Users/alundkvi/Documents/work/scripts/oval_geojsons_south/2024-05-11-12-00/output7.geojson\n",
      "Skipped entry 8 due to missing or invalid data\n",
      "Skipped entry 9 due to missing or invalid data\n"
     ]
    },
    {
     "data": {
      "text/plain": [
       "'URL: https://aurorasaurus.org/oval-data?end_date=2024-05-11T12:15&local_offset=0'"
      ]
     },
     "metadata": {},
     "output_type": "display_data"
    },
    {
     "name": "stdout",
     "output_type": "stream",
     "text": [
      "Skipped entry 1 due to missing or invalid data\n",
      "Processed entry 2 saved to C:/Users/alundkvi/Documents/work/scripts/oval_geojsons_south/2024-05-11-12-15/output2.geojson\n",
      "Skipped entry 3 due to missing or invalid data\n",
      "Processed entry 4 saved to C:/Users/alundkvi/Documents/work/scripts/oval_geojsons_south/2024-05-11-12-15/output4.geojson\n",
      "Processed entry 5 saved to C:/Users/alundkvi/Documents/work/scripts/oval_geojsons_south/2024-05-11-12-15/output5.geojson\n",
      "Processed entry 6 saved to C:/Users/alundkvi/Documents/work/scripts/oval_geojsons_south/2024-05-11-12-15/output6.geojson\n",
      "Processed entry 7 saved to C:/Users/alundkvi/Documents/work/scripts/oval_geojsons_south/2024-05-11-12-15/output7.geojson\n",
      "Skipped entry 8 due to missing or invalid data\n",
      "Skipped entry 9 due to missing or invalid data\n"
     ]
    },
    {
     "data": {
      "text/plain": [
       "'URL: https://aurorasaurus.org/oval-data?end_date=2024-05-11T12:30&local_offset=0'"
      ]
     },
     "metadata": {},
     "output_type": "display_data"
    },
    {
     "name": "stdout",
     "output_type": "stream",
     "text": [
      "Skipped entry 1 due to missing or invalid data\n",
      "Processed entry 2 saved to C:/Users/alundkvi/Documents/work/scripts/oval_geojsons_south/2024-05-11-12-30/output2.geojson\n",
      "Skipped entry 3 due to missing or invalid data\n",
      "Processed entry 4 saved to C:/Users/alundkvi/Documents/work/scripts/oval_geojsons_south/2024-05-11-12-30/output4.geojson\n",
      "Processed entry 5 saved to C:/Users/alundkvi/Documents/work/scripts/oval_geojsons_south/2024-05-11-12-30/output5.geojson\n",
      "Processed entry 6 saved to C:/Users/alundkvi/Documents/work/scripts/oval_geojsons_south/2024-05-11-12-30/output6.geojson\n",
      "Processed entry 7 saved to C:/Users/alundkvi/Documents/work/scripts/oval_geojsons_south/2024-05-11-12-30/output7.geojson\n",
      "Processed entry 8 saved to C:/Users/alundkvi/Documents/work/scripts/oval_geojsons_south/2024-05-11-12-30/output8.geojson\n",
      "Skipped entry 9 due to missing or invalid data\n",
      "Skipped entry 10 due to missing or invalid data\n"
     ]
    },
    {
     "data": {
      "text/plain": [
       "'URL: https://aurorasaurus.org/oval-data?end_date=2024-05-11T12:45&local_offset=0'"
      ]
     },
     "metadata": {},
     "output_type": "display_data"
    },
    {
     "name": "stdout",
     "output_type": "stream",
     "text": [
      "Skipped entry 1 due to missing or invalid data\n",
      "Skipped entry 2 due to missing or invalid data\n",
      "Processed entry 3 saved to C:/Users/alundkvi/Documents/work/scripts/oval_geojsons_south/2024-05-11-12-45/output3.geojson\n",
      "Processed entry 4 saved to C:/Users/alundkvi/Documents/work/scripts/oval_geojsons_south/2024-05-11-12-45/output4.geojson\n",
      "Processed entry 5 saved to C:/Users/alundkvi/Documents/work/scripts/oval_geojsons_south/2024-05-11-12-45/output5.geojson\n",
      "Processed entry 6 saved to C:/Users/alundkvi/Documents/work/scripts/oval_geojsons_south/2024-05-11-12-45/output6.geojson\n",
      "Processed entry 7 saved to C:/Users/alundkvi/Documents/work/scripts/oval_geojsons_south/2024-05-11-12-45/output7.geojson\n",
      "Processed entry 8 saved to C:/Users/alundkvi/Documents/work/scripts/oval_geojsons_south/2024-05-11-12-45/output8.geojson\n",
      "Skipped entry 9 due to missing or invalid data\n",
      "Skipped entry 10 due to missing or invalid data\n"
     ]
    },
    {
     "data": {
      "text/plain": [
       "'URL: https://aurorasaurus.org/oval-data?end_date=2024-05-11T13:00&local_offset=0'"
      ]
     },
     "metadata": {},
     "output_type": "display_data"
    },
    {
     "name": "stdout",
     "output_type": "stream",
     "text": [
      "Skipped entry 1 due to missing or invalid data\n",
      "Processed entry 2 saved to C:/Users/alundkvi/Documents/work/scripts/oval_geojsons_south/2024-05-11-13-00/output2.geojson\n",
      "Processed entry 3 saved to C:/Users/alundkvi/Documents/work/scripts/oval_geojsons_south/2024-05-11-13-00/output3.geojson\n",
      "Processed entry 4 saved to C:/Users/alundkvi/Documents/work/scripts/oval_geojsons_south/2024-05-11-13-00/output4.geojson\n",
      "Processed entry 5 saved to C:/Users/alundkvi/Documents/work/scripts/oval_geojsons_south/2024-05-11-13-00/output5.geojson\n",
      "Processed entry 6 saved to C:/Users/alundkvi/Documents/work/scripts/oval_geojsons_south/2024-05-11-13-00/output6.geojson\n",
      "Processed entry 7 saved to C:/Users/alundkvi/Documents/work/scripts/oval_geojsons_south/2024-05-11-13-00/output7.geojson\n",
      "Skipped entry 8 due to missing or invalid data\n"
     ]
    },
    {
     "data": {
      "text/plain": [
       "'URL: https://aurorasaurus.org/oval-data?end_date=2024-05-11T13:15&local_offset=0'"
      ]
     },
     "metadata": {},
     "output_type": "display_data"
    },
    {
     "name": "stdout",
     "output_type": "stream",
     "text": [
      "Processed entry 1 saved to C:/Users/alundkvi/Documents/work/scripts/oval_geojsons_south/2024-05-11-13-15/output1.geojson\n",
      "Skipped entry 2 due to missing or invalid data\n",
      "Processed entry 3 saved to C:/Users/alundkvi/Documents/work/scripts/oval_geojsons_south/2024-05-11-13-15/output3.geojson\n",
      "Processed entry 4 saved to C:/Users/alundkvi/Documents/work/scripts/oval_geojsons_south/2024-05-11-13-15/output4.geojson\n",
      "Processed entry 5 saved to C:/Users/alundkvi/Documents/work/scripts/oval_geojsons_south/2024-05-11-13-15/output5.geojson\n",
      "Processed entry 6 saved to C:/Users/alundkvi/Documents/work/scripts/oval_geojsons_south/2024-05-11-13-15/output6.geojson\n",
      "Processed entry 7 saved to C:/Users/alundkvi/Documents/work/scripts/oval_geojsons_south/2024-05-11-13-15/output7.geojson\n",
      "Skipped entry 8 due to missing or invalid data\n",
      "Skipped entry 9 due to missing or invalid data\n",
      "Skipped entry 10 due to missing or invalid data\n"
     ]
    },
    {
     "data": {
      "text/plain": [
       "'URL: https://aurorasaurus.org/oval-data?end_date=2024-05-11T13:30&local_offset=0'"
      ]
     },
     "metadata": {},
     "output_type": "display_data"
    },
    {
     "name": "stdout",
     "output_type": "stream",
     "text": [
      "Skipped entry 1 due to missing or invalid data\n",
      "Processed entry 2 saved to C:/Users/alundkvi/Documents/work/scripts/oval_geojsons_south/2024-05-11-13-30/output2.geojson\n",
      "Processed entry 3 saved to C:/Users/alundkvi/Documents/work/scripts/oval_geojsons_south/2024-05-11-13-30/output3.geojson\n",
      "Skipped entry 4 due to missing or invalid data\n",
      "Processed entry 5 saved to C:/Users/alundkvi/Documents/work/scripts/oval_geojsons_south/2024-05-11-13-30/output5.geojson\n",
      "Processed entry 6 saved to C:/Users/alundkvi/Documents/work/scripts/oval_geojsons_south/2024-05-11-13-30/output6.geojson\n",
      "Processed entry 7 saved to C:/Users/alundkvi/Documents/work/scripts/oval_geojsons_south/2024-05-11-13-30/output7.geojson\n",
      "Skipped entry 8 due to missing or invalid data\n",
      "Processed entry 9 saved to C:/Users/alundkvi/Documents/work/scripts/oval_geojsons_south/2024-05-11-13-30/output9.geojson\n",
      "Skipped entry 10 due to missing or invalid data\n",
      "Skipped entry 11 due to missing or invalid data\n"
     ]
    },
    {
     "data": {
      "text/plain": [
       "'URL: https://aurorasaurus.org/oval-data?end_date=2024-05-11T13:45&local_offset=0'"
      ]
     },
     "metadata": {},
     "output_type": "display_data"
    },
    {
     "name": "stdout",
     "output_type": "stream",
     "text": [
      "Skipped entry 1 due to missing or invalid data\n"
     ]
    },
    {
     "data": {
      "text/plain": [
       "'URL: https://aurorasaurus.org/oval-data?end_date=2024-05-11T14:00&local_offset=0'"
      ]
     },
     "metadata": {},
     "output_type": "display_data"
    },
    {
     "name": "stdout",
     "output_type": "stream",
     "text": [
      "Skipped entry 1 due to missing or invalid data\n",
      "Processed entry 2 saved to C:/Users/alundkvi/Documents/work/scripts/oval_geojsons_south/2024-05-11-14-00/output2.geojson\n",
      "Skipped entry 3 due to missing or invalid data\n",
      "Processed entry 4 saved to C:/Users/alundkvi/Documents/work/scripts/oval_geojsons_south/2024-05-11-14-00/output4.geojson\n",
      "Processed entry 5 saved to C:/Users/alundkvi/Documents/work/scripts/oval_geojsons_south/2024-05-11-14-00/output5.geojson\n",
      "Processed entry 6 saved to C:/Users/alundkvi/Documents/work/scripts/oval_geojsons_south/2024-05-11-14-00/output6.geojson\n",
      "Skipped entry 7 due to missing or invalid data\n",
      "Skipped entry 8 due to missing or invalid data\n"
     ]
    },
    {
     "data": {
      "text/plain": [
       "'URL: https://aurorasaurus.org/oval-data?end_date=2024-05-11T14:15&local_offset=0'"
      ]
     },
     "metadata": {},
     "output_type": "display_data"
    },
    {
     "name": "stdout",
     "output_type": "stream",
     "text": [
      "Processed entry 1 saved to C:/Users/alundkvi/Documents/work/scripts/oval_geojsons_south/2024-05-11-14-15/output1.geojson\n",
      "Skipped entry 2 due to missing or invalid data\n",
      "Processed entry 3 saved to C:/Users/alundkvi/Documents/work/scripts/oval_geojsons_south/2024-05-11-14-15/output3.geojson\n",
      "Processed entry 4 saved to C:/Users/alundkvi/Documents/work/scripts/oval_geojsons_south/2024-05-11-14-15/output4.geojson\n",
      "Processed entry 5 saved to C:/Users/alundkvi/Documents/work/scripts/oval_geojsons_south/2024-05-11-14-15/output5.geojson\n",
      "Processed entry 6 saved to C:/Users/alundkvi/Documents/work/scripts/oval_geojsons_south/2024-05-11-14-15/output6.geojson\n",
      "Skipped entry 7 due to missing or invalid data\n"
     ]
    },
    {
     "data": {
      "text/plain": [
       "'URL: https://aurorasaurus.org/oval-data?end_date=2024-05-11T14:30&local_offset=0'"
      ]
     },
     "metadata": {},
     "output_type": "display_data"
    },
    {
     "name": "stdout",
     "output_type": "stream",
     "text": [
      "Processed entry 1 saved to C:/Users/alundkvi/Documents/work/scripts/oval_geojsons_south/2024-05-11-14-30/output1.geojson\n",
      "Processed entry 2 saved to C:/Users/alundkvi/Documents/work/scripts/oval_geojsons_south/2024-05-11-14-30/output2.geojson\n",
      "Skipped entry 3 due to missing or invalid data\n",
      "Processed entry 4 saved to C:/Users/alundkvi/Documents/work/scripts/oval_geojsons_south/2024-05-11-14-30/output4.geojson\n",
      "Processed entry 5 saved to C:/Users/alundkvi/Documents/work/scripts/oval_geojsons_south/2024-05-11-14-30/output5.geojson\n",
      "Processed entry 6 saved to C:/Users/alundkvi/Documents/work/scripts/oval_geojsons_south/2024-05-11-14-30/output6.geojson\n",
      "Skipped entry 7 due to missing or invalid data\n"
     ]
    },
    {
     "data": {
      "text/plain": [
       "'URL: https://aurorasaurus.org/oval-data?end_date=2024-05-11T14:45&local_offset=0'"
      ]
     },
     "metadata": {},
     "output_type": "display_data"
    },
    {
     "name": "stdout",
     "output_type": "stream",
     "text": [
      "Processed entry 1 saved to C:/Users/alundkvi/Documents/work/scripts/oval_geojsons_south/2024-05-11-14-45/output1.geojson\n",
      "Processed entry 2 saved to C:/Users/alundkvi/Documents/work/scripts/oval_geojsons_south/2024-05-11-14-45/output2.geojson\n",
      "Skipped entry 3 due to missing or invalid data\n",
      "Processed entry 4 saved to C:/Users/alundkvi/Documents/work/scripts/oval_geojsons_south/2024-05-11-14-45/output4.geojson\n",
      "Processed entry 5 saved to C:/Users/alundkvi/Documents/work/scripts/oval_geojsons_south/2024-05-11-14-45/output5.geojson\n",
      "Processed entry 6 saved to C:/Users/alundkvi/Documents/work/scripts/oval_geojsons_south/2024-05-11-14-45/output6.geojson\n",
      "Skipped entry 7 due to missing or invalid data\n"
     ]
    },
    {
     "data": {
      "text/plain": [
       "'URL: https://aurorasaurus.org/oval-data?end_date=2024-05-11T15:00&local_offset=0'"
      ]
     },
     "metadata": {},
     "output_type": "display_data"
    },
    {
     "name": "stdout",
     "output_type": "stream",
     "text": [
      "Skipped entry 1 due to missing or invalid data\n",
      "Processed entry 2 saved to C:/Users/alundkvi/Documents/work/scripts/oval_geojsons_south/2024-05-11-15-00/output2.geojson\n",
      "Skipped entry 3 due to missing or invalid data\n",
      "Processed entry 4 saved to C:/Users/alundkvi/Documents/work/scripts/oval_geojsons_south/2024-05-11-15-00/output4.geojson\n",
      "Processed entry 5 saved to C:/Users/alundkvi/Documents/work/scripts/oval_geojsons_south/2024-05-11-15-00/output5.geojson\n",
      "Skipped entry 6 due to missing or invalid data\n",
      "Skipped entry 7 due to missing or invalid data\n"
     ]
    },
    {
     "data": {
      "text/plain": [
       "'URL: https://aurorasaurus.org/oval-data?end_date=2024-05-11T15:15&local_offset=0'"
      ]
     },
     "metadata": {},
     "output_type": "display_data"
    },
    {
     "name": "stdout",
     "output_type": "stream",
     "text": [
      "Skipped entry 1 due to missing or invalid data\n",
      "Processed entry 2 saved to C:/Users/alundkvi/Documents/work/scripts/oval_geojsons_south/2024-05-11-15-15/output2.geojson\n",
      "Skipped entry 3 due to missing or invalid data\n",
      "Processed entry 4 saved to C:/Users/alundkvi/Documents/work/scripts/oval_geojsons_south/2024-05-11-15-15/output4.geojson\n",
      "Processed entry 5 saved to C:/Users/alundkvi/Documents/work/scripts/oval_geojsons_south/2024-05-11-15-15/output5.geojson\n",
      "Processed entry 6 saved to C:/Users/alundkvi/Documents/work/scripts/oval_geojsons_south/2024-05-11-15-15/output6.geojson\n",
      "Processed entry 7 saved to C:/Users/alundkvi/Documents/work/scripts/oval_geojsons_south/2024-05-11-15-15/output7.geojson\n",
      "Skipped entry 8 due to missing or invalid data\n",
      "Skipped entry 9 due to missing or invalid data\n"
     ]
    },
    {
     "data": {
      "text/plain": [
       "'URL: https://aurorasaurus.org/oval-data?end_date=2024-05-11T15:30&local_offset=0'"
      ]
     },
     "metadata": {},
     "output_type": "display_data"
    },
    {
     "name": "stdout",
     "output_type": "stream",
     "text": [
      "Skipped entry 1 due to missing or invalid data\n",
      "Skipped entry 2 due to missing or invalid data\n",
      "Processed entry 3 saved to C:/Users/alundkvi/Documents/work/scripts/oval_geojsons_south/2024-05-11-15-30/output3.geojson\n",
      "Skipped entry 4 due to missing or invalid data\n",
      "Processed entry 5 saved to C:/Users/alundkvi/Documents/work/scripts/oval_geojsons_south/2024-05-11-15-30/output5.geojson\n",
      "Processed entry 6 saved to C:/Users/alundkvi/Documents/work/scripts/oval_geojsons_south/2024-05-11-15-30/output6.geojson\n",
      "Processed entry 7 saved to C:/Users/alundkvi/Documents/work/scripts/oval_geojsons_south/2024-05-11-15-30/output7.geojson\n",
      "Processed entry 8 saved to C:/Users/alundkvi/Documents/work/scripts/oval_geojsons_south/2024-05-11-15-30/output8.geojson\n",
      "Processed entry 9 saved to C:/Users/alundkvi/Documents/work/scripts/oval_geojsons_south/2024-05-11-15-30/output9.geojson\n",
      "Processed entry 10 saved to C:/Users/alundkvi/Documents/work/scripts/oval_geojsons_south/2024-05-11-15-30/output10.geojson\n",
      "Skipped entry 11 due to missing or invalid data\n",
      "Skipped entry 12 due to missing or invalid data\n",
      "Skipped entry 13 due to missing or invalid data\n"
     ]
    },
    {
     "data": {
      "text/plain": [
       "'URL: https://aurorasaurus.org/oval-data?end_date=2024-05-11T15:45&local_offset=0'"
      ]
     },
     "metadata": {},
     "output_type": "display_data"
    },
    {
     "name": "stdout",
     "output_type": "stream",
     "text": [
      "Skipped entry 1 due to missing or invalid data\n",
      "Skipped entry 2 due to missing or invalid data\n",
      "Skipped entry 3 due to missing or invalid data\n",
      "Processed entry 4 saved to C:/Users/alundkvi/Documents/work/scripts/oval_geojsons_south/2024-05-11-15-45/output4.geojson\n",
      "Skipped entry 5 due to missing or invalid data\n",
      "Processed entry 6 saved to C:/Users/alundkvi/Documents/work/scripts/oval_geojsons_south/2024-05-11-15-45/output6.geojson\n",
      "Processed entry 7 saved to C:/Users/alundkvi/Documents/work/scripts/oval_geojsons_south/2024-05-11-15-45/output7.geojson\n",
      "Processed entry 8 saved to C:/Users/alundkvi/Documents/work/scripts/oval_geojsons_south/2024-05-11-15-45/output8.geojson\n",
      "Processed entry 9 saved to C:/Users/alundkvi/Documents/work/scripts/oval_geojsons_south/2024-05-11-15-45/output9.geojson\n",
      "Processed entry 10 saved to C:/Users/alundkvi/Documents/work/scripts/oval_geojsons_south/2024-05-11-15-45/output10.geojson\n",
      "Processed entry 11 saved to C:/Users/alundkvi/Documents/work/scripts/oval_geojsons_south/2024-05-11-15-45/output11.geojson\n",
      "Skipped entry 12 due to missing or invalid data\n",
      "Skipped entry 13 due to missing or invalid data\n",
      "Skipped entry 14 due to missing or invalid data\n",
      "Skipped entry 15 due to missing or invalid data\n"
     ]
    },
    {
     "data": {
      "text/plain": [
       "'URL: https://aurorasaurus.org/oval-data?end_date=2024-05-11T16:00&local_offset=0'"
      ]
     },
     "metadata": {},
     "output_type": "display_data"
    },
    {
     "name": "stdout",
     "output_type": "stream",
     "text": [
      "Processed entry 1 saved to C:/Users/alundkvi/Documents/work/scripts/oval_geojsons_south/2024-05-11-16-00/output1.geojson\n",
      "Skipped entry 2 due to missing or invalid data\n",
      "Skipped entry 3 due to missing or invalid data\n",
      "Skipped entry 4 due to missing or invalid data\n",
      "Processed entry 5 saved to C:/Users/alundkvi/Documents/work/scripts/oval_geojsons_south/2024-05-11-16-00/output5.geojson\n",
      "Skipped entry 6 due to missing or invalid data\n",
      "Processed entry 7 saved to C:/Users/alundkvi/Documents/work/scripts/oval_geojsons_south/2024-05-11-16-00/output7.geojson\n",
      "Processed entry 8 saved to C:/Users/alundkvi/Documents/work/scripts/oval_geojsons_south/2024-05-11-16-00/output8.geojson\n",
      "Processed entry 9 saved to C:/Users/alundkvi/Documents/work/scripts/oval_geojsons_south/2024-05-11-16-00/output9.geojson\n",
      "Processed entry 10 saved to C:/Users/alundkvi/Documents/work/scripts/oval_geojsons_south/2024-05-11-16-00/output10.geojson\n",
      "Processed entry 11 saved to C:/Users/alundkvi/Documents/work/scripts/oval_geojsons_south/2024-05-11-16-00/output11.geojson\n",
      "Processed entry 12 saved to C:/Users/alundkvi/Documents/work/scripts/oval_geojsons_south/2024-05-11-16-00/output12.geojson\n",
      "Processed entry 13 saved to C:/Users/alundkvi/Documents/work/scripts/oval_geojsons_south/2024-05-11-16-00/output13.geojson\n",
      "Skipped entry 14 due to missing or invalid data\n",
      "Skipped entry 15 due to missing or invalid data\n",
      "Skipped entry 16 due to missing or invalid data\n",
      "Skipped entry 17 due to missing or invalid data\n"
     ]
    },
    {
     "data": {
      "text/plain": [
       "'URL: https://aurorasaurus.org/oval-data?end_date=2024-05-11T16:15&local_offset=0'"
      ]
     },
     "metadata": {},
     "output_type": "display_data"
    },
    {
     "name": "stdout",
     "output_type": "stream",
     "text": [
      "Skipped entry 1 due to missing or invalid data\n",
      "Processed entry 2 saved to C:/Users/alundkvi/Documents/work/scripts/oval_geojsons_south/2024-05-11-16-15/output2.geojson\n",
      "Skipped entry 3 due to missing or invalid data\n",
      "Skipped entry 4 due to missing or invalid data\n",
      "Processed entry 5 saved to C:/Users/alundkvi/Documents/work/scripts/oval_geojsons_south/2024-05-11-16-15/output5.geojson\n",
      "Processed entry 6 saved to C:/Users/alundkvi/Documents/work/scripts/oval_geojsons_south/2024-05-11-16-15/output6.geojson\n",
      "Skipped entry 7 due to missing or invalid data\n",
      "Processed entry 8 saved to C:/Users/alundkvi/Documents/work/scripts/oval_geojsons_south/2024-05-11-16-15/output8.geojson\n",
      "Processed entry 9 saved to C:/Users/alundkvi/Documents/work/scripts/oval_geojsons_south/2024-05-11-16-15/output9.geojson\n",
      "Processed entry 10 saved to C:/Users/alundkvi/Documents/work/scripts/oval_geojsons_south/2024-05-11-16-15/output10.geojson\n",
      "Processed entry 11 saved to C:/Users/alundkvi/Documents/work/scripts/oval_geojsons_south/2024-05-11-16-15/output11.geojson\n",
      "Processed entry 12 saved to C:/Users/alundkvi/Documents/work/scripts/oval_geojsons_south/2024-05-11-16-15/output12.geojson\n",
      "Skipped entry 13 due to missing or invalid data\n",
      "Skipped entry 14 due to missing or invalid data\n",
      "Skipped entry 15 due to missing or invalid data\n",
      "Skipped entry 16 due to missing or invalid data\n"
     ]
    },
    {
     "data": {
      "text/plain": [
       "'URL: https://aurorasaurus.org/oval-data?end_date=2024-05-11T16:30&local_offset=0'"
      ]
     },
     "metadata": {},
     "output_type": "display_data"
    },
    {
     "name": "stdout",
     "output_type": "stream",
     "text": [
      "Skipped entry 1 due to missing or invalid data\n",
      "Processed entry 2 saved to C:/Users/alundkvi/Documents/work/scripts/oval_geojsons_south/2024-05-11-16-30/output2.geojson\n",
      "Skipped entry 3 due to missing or invalid data\n",
      "Skipped entry 4 due to missing or invalid data\n",
      "Processed entry 5 saved to C:/Users/alundkvi/Documents/work/scripts/oval_geojsons_south/2024-05-11-16-30/output5.geojson\n",
      "Processed entry 6 saved to C:/Users/alundkvi/Documents/work/scripts/oval_geojsons_south/2024-05-11-16-30/output6.geojson\n",
      "Skipped entry 7 due to missing or invalid data\n",
      "Skipped entry 8 due to missing or invalid data\n",
      "Processed entry 9 saved to C:/Users/alundkvi/Documents/work/scripts/oval_geojsons_south/2024-05-11-16-30/output9.geojson\n",
      "Processed entry 10 saved to C:/Users/alundkvi/Documents/work/scripts/oval_geojsons_south/2024-05-11-16-30/output10.geojson\n",
      "Processed entry 11 saved to C:/Users/alundkvi/Documents/work/scripts/oval_geojsons_south/2024-05-11-16-30/output11.geojson\n",
      "Processed entry 12 saved to C:/Users/alundkvi/Documents/work/scripts/oval_geojsons_south/2024-05-11-16-30/output12.geojson\n",
      "Processed entry 13 saved to C:/Users/alundkvi/Documents/work/scripts/oval_geojsons_south/2024-05-11-16-30/output13.geojson\n",
      "Processed entry 14 saved to C:/Users/alundkvi/Documents/work/scripts/oval_geojsons_south/2024-05-11-16-30/output14.geojson\n",
      "Processed entry 15 saved to C:/Users/alundkvi/Documents/work/scripts/oval_geojsons_south/2024-05-11-16-30/output15.geojson\n",
      "Skipped entry 16 due to missing or invalid data\n",
      "Skipped entry 17 due to missing or invalid data\n",
      "Skipped entry 18 due to missing or invalid data\n",
      "Skipped entry 19 due to missing or invalid data\n",
      "Skipped entry 20 due to missing or invalid data\n"
     ]
    },
    {
     "data": {
      "text/plain": [
       "'URL: https://aurorasaurus.org/oval-data?end_date=2024-05-11T16:45&local_offset=0'"
      ]
     },
     "metadata": {},
     "output_type": "display_data"
    },
    {
     "name": "stdout",
     "output_type": "stream",
     "text": [
      "Skipped entry 1 due to missing or invalid data\n",
      "Processed entry 2 saved to C:/Users/alundkvi/Documents/work/scripts/oval_geojsons_south/2024-05-11-16-45/output2.geojson\n",
      "Skipped entry 3 due to missing or invalid data\n",
      "Processed entry 4 saved to C:/Users/alundkvi/Documents/work/scripts/oval_geojsons_south/2024-05-11-16-45/output4.geojson\n",
      "Skipped entry 5 due to missing or invalid data\n",
      "Processed entry 6 saved to C:/Users/alundkvi/Documents/work/scripts/oval_geojsons_south/2024-05-11-16-45/output6.geojson\n",
      "Skipped entry 7 due to missing or invalid data\n",
      "Skipped entry 8 due to missing or invalid data\n",
      "Skipped entry 9 due to missing or invalid data\n",
      "Processed entry 10 saved to C:/Users/alundkvi/Documents/work/scripts/oval_geojsons_south/2024-05-11-16-45/output10.geojson\n",
      "Processed entry 11 saved to C:/Users/alundkvi/Documents/work/scripts/oval_geojsons_south/2024-05-11-16-45/output11.geojson\n",
      "Processed entry 12 saved to C:/Users/alundkvi/Documents/work/scripts/oval_geojsons_south/2024-05-11-16-45/output12.geojson\n",
      "Skipped entry 13 due to missing or invalid data\n",
      "Skipped entry 14 due to missing or invalid data\n",
      "Skipped entry 15 due to missing or invalid data\n",
      "Skipped entry 16 due to missing or invalid data\n",
      "Skipped entry 17 due to missing or invalid data\n",
      "Skipped entry 18 due to missing or invalid data\n"
     ]
    },
    {
     "data": {
      "text/plain": [
       "'URL: https://aurorasaurus.org/oval-data?end_date=2024-05-11T17:00&local_offset=0'"
      ]
     },
     "metadata": {},
     "output_type": "display_data"
    },
    {
     "name": "stdout",
     "output_type": "stream",
     "text": [
      "Skipped entry 1 due to missing or invalid data\n",
      "Skipped entry 2 due to missing or invalid data\n",
      "Skipped entry 3 due to missing or invalid data\n",
      "Processed entry 4 saved to C:/Users/alundkvi/Documents/work/scripts/oval_geojsons_south/2024-05-11-17-00/output4.geojson\n",
      "Skipped entry 5 due to missing or invalid data\n",
      "Processed entry 6 saved to C:/Users/alundkvi/Documents/work/scripts/oval_geojsons_south/2024-05-11-17-00/output6.geojson\n",
      "Skipped entry 7 due to missing or invalid data\n",
      "Processed entry 8 saved to C:/Users/alundkvi/Documents/work/scripts/oval_geojsons_south/2024-05-11-17-00/output8.geojson\n",
      "Processed entry 9 saved to C:/Users/alundkvi/Documents/work/scripts/oval_geojsons_south/2024-05-11-17-00/output9.geojson\n",
      "Skipped entry 10 due to missing or invalid data\n",
      "Processed entry 11 saved to C:/Users/alundkvi/Documents/work/scripts/oval_geojsons_south/2024-05-11-17-00/output11.geojson\n",
      "Processed entry 12 saved to C:/Users/alundkvi/Documents/work/scripts/oval_geojsons_south/2024-05-11-17-00/output12.geojson\n",
      "Processed entry 13 saved to C:/Users/alundkvi/Documents/work/scripts/oval_geojsons_south/2024-05-11-17-00/output13.geojson\n",
      "Processed entry 14 saved to C:/Users/alundkvi/Documents/work/scripts/oval_geojsons_south/2024-05-11-17-00/output14.geojson\n",
      "Processed entry 15 saved to C:/Users/alundkvi/Documents/work/scripts/oval_geojsons_south/2024-05-11-17-00/output15.geojson\n",
      "Skipped entry 16 due to missing or invalid data\n",
      "Skipped entry 17 due to missing or invalid data\n",
      "Skipped entry 18 due to missing or invalid data\n",
      "Skipped entry 19 due to missing or invalid data\n",
      "Skipped entry 20 due to missing or invalid data\n",
      "Skipped entry 21 due to missing or invalid data\n"
     ]
    },
    {
     "data": {
      "text/plain": [
       "'URL: https://aurorasaurus.org/oval-data?end_date=2024-05-11T17:15&local_offset=0'"
      ]
     },
     "metadata": {},
     "output_type": "display_data"
    },
    {
     "name": "stdout",
     "output_type": "stream",
     "text": [
      "Skipped entry 1 due to missing or invalid data\n",
      "Processed entry 2 saved to C:/Users/alundkvi/Documents/work/scripts/oval_geojsons_south/2024-05-11-17-15/output2.geojson\n",
      "Skipped entry 3 due to missing or invalid data\n",
      "Processed entry 4 saved to C:/Users/alundkvi/Documents/work/scripts/oval_geojsons_south/2024-05-11-17-15/output4.geojson\n",
      "Skipped entry 5 due to missing or invalid data\n",
      "Processed entry 6 saved to C:/Users/alundkvi/Documents/work/scripts/oval_geojsons_south/2024-05-11-17-15/output6.geojson\n",
      "Skipped entry 7 due to missing or invalid data\n",
      "Processed entry 8 saved to C:/Users/alundkvi/Documents/work/scripts/oval_geojsons_south/2024-05-11-17-15/output8.geojson\n",
      "Processed entry 9 saved to C:/Users/alundkvi/Documents/work/scripts/oval_geojsons_south/2024-05-11-17-15/output9.geojson\n",
      "Skipped entry 10 due to missing or invalid data\n",
      "Processed entry 11 saved to C:/Users/alundkvi/Documents/work/scripts/oval_geojsons_south/2024-05-11-17-15/output11.geojson\n",
      "Processed entry 12 saved to C:/Users/alundkvi/Documents/work/scripts/oval_geojsons_south/2024-05-11-17-15/output12.geojson\n",
      "Skipped entry 13 due to missing or invalid data\n",
      "Skipped entry 14 due to missing or invalid data\n",
      "Skipped entry 15 due to missing or invalid data\n",
      "Skipped entry 16 due to missing or invalid data\n",
      "Skipped entry 17 due to missing or invalid data\n"
     ]
    },
    {
     "data": {
      "text/plain": [
       "'URL: https://aurorasaurus.org/oval-data?end_date=2024-05-11T17:30&local_offset=0'"
      ]
     },
     "metadata": {},
     "output_type": "display_data"
    },
    {
     "name": "stdout",
     "output_type": "stream",
     "text": [
      "Skipped entry 1 due to missing or invalid data\n",
      "Skipped entry 2 due to missing or invalid data\n",
      "Processed entry 3 saved to C:/Users/alundkvi/Documents/work/scripts/oval_geojsons_south/2024-05-11-17-30/output3.geojson\n",
      "Skipped entry 4 due to missing or invalid data\n",
      "Skipped entry 5 due to missing or invalid data\n",
      "Skipped entry 6 due to missing or invalid data\n",
      "Processed entry 7 saved to C:/Users/alundkvi/Documents/work/scripts/oval_geojsons_south/2024-05-11-17-30/output7.geojson\n",
      "Processed entry 8 saved to C:/Users/alundkvi/Documents/work/scripts/oval_geojsons_south/2024-05-11-17-30/output8.geojson\n",
      "Skipped entry 9 due to missing or invalid data\n",
      "Processed entry 10 saved to C:/Users/alundkvi/Documents/work/scripts/oval_geojsons_south/2024-05-11-17-30/output10.geojson\n",
      "Skipped entry 11 due to missing or invalid data\n",
      "Processed entry 12 saved to C:/Users/alundkvi/Documents/work/scripts/oval_geojsons_south/2024-05-11-17-30/output12.geojson\n",
      "Processed entry 13 saved to C:/Users/alundkvi/Documents/work/scripts/oval_geojsons_south/2024-05-11-17-30/output13.geojson\n",
      "Processed entry 14 saved to C:/Users/alundkvi/Documents/work/scripts/oval_geojsons_south/2024-05-11-17-30/output14.geojson\n",
      "Skipped entry 15 due to missing or invalid data\n",
      "Skipped entry 16 due to missing or invalid data\n",
      "Skipped entry 17 due to missing or invalid data\n",
      "Skipped entry 18 due to missing or invalid data\n",
      "Skipped entry 19 due to missing or invalid data\n",
      "Skipped entry 20 due to missing or invalid data\n",
      "Skipped entry 21 due to missing or invalid data\n"
     ]
    },
    {
     "data": {
      "text/plain": [
       "'URL: https://aurorasaurus.org/oval-data?end_date=2024-05-11T17:45&local_offset=0'"
      ]
     },
     "metadata": {},
     "output_type": "display_data"
    },
    {
     "name": "stdout",
     "output_type": "stream",
     "text": [
      "Skipped entry 1 due to missing or invalid data\n",
      "Processed entry 2 saved to C:/Users/alundkvi/Documents/work/scripts/oval_geojsons_south/2024-05-11-17-45/output2.geojson\n",
      "Skipped entry 3 due to missing or invalid data\n",
      "Skipped entry 4 due to missing or invalid data\n",
      "Skipped entry 5 due to missing or invalid data\n",
      "Processed entry 6 saved to C:/Users/alundkvi/Documents/work/scripts/oval_geojsons_south/2024-05-11-17-45/output6.geojson\n",
      "Processed entry 7 saved to C:/Users/alundkvi/Documents/work/scripts/oval_geojsons_south/2024-05-11-17-45/output7.geojson\n",
      "Processed entry 8 saved to C:/Users/alundkvi/Documents/work/scripts/oval_geojsons_south/2024-05-11-17-45/output8.geojson\n",
      "Skipped entry 9 due to missing or invalid data\n",
      "Processed entry 10 saved to C:/Users/alundkvi/Documents/work/scripts/oval_geojsons_south/2024-05-11-17-45/output10.geojson\n",
      "Skipped entry 11 due to missing or invalid data\n",
      "Processed entry 12 saved to C:/Users/alundkvi/Documents/work/scripts/oval_geojsons_south/2024-05-11-17-45/output12.geojson\n",
      "Processed entry 13 saved to C:/Users/alundkvi/Documents/work/scripts/oval_geojsons_south/2024-05-11-17-45/output13.geojson\n",
      "Skipped entry 14 due to missing or invalid data\n",
      "Processed entry 15 saved to C:/Users/alundkvi/Documents/work/scripts/oval_geojsons_south/2024-05-11-17-45/output15.geojson\n",
      "Skipped entry 16 due to missing or invalid data\n",
      "Processed entry 17 saved to C:/Users/alundkvi/Documents/work/scripts/oval_geojsons_south/2024-05-11-17-45/output17.geojson\n",
      "Skipped entry 18 due to missing or invalid data\n",
      "Processed entry 19 saved to C:/Users/alundkvi/Documents/work/scripts/oval_geojsons_south/2024-05-11-17-45/output19.geojson\n",
      "Skipped entry 20 due to missing or invalid data\n",
      "Skipped entry 21 due to missing or invalid data\n",
      "Skipped entry 22 due to missing or invalid data\n",
      "Skipped entry 23 due to missing or invalid data\n",
      "Skipped entry 24 due to missing or invalid data\n",
      "Skipped entry 25 due to missing or invalid data\n",
      "Skipped entry 26 due to missing or invalid data\n",
      "Skipped entry 27 due to missing or invalid data\n",
      "Skipped entry 28 due to missing or invalid data\n"
     ]
    },
    {
     "data": {
      "text/plain": [
       "'URL: https://aurorasaurus.org/oval-data?end_date=2024-05-11T18:00&local_offset=0'"
      ]
     },
     "metadata": {},
     "output_type": "display_data"
    },
    {
     "name": "stdout",
     "output_type": "stream",
     "text": [
      "Skipped entry 1 due to missing or invalid data\n",
      "Skipped entry 2 due to missing or invalid data\n",
      "Processed entry 3 saved to C:/Users/alundkvi/Documents/work/scripts/oval_geojsons_south/2024-05-11-18-00/output3.geojson\n",
      "Skipped entry 4 due to missing or invalid data\n",
      "Processed entry 5 saved to C:/Users/alundkvi/Documents/work/scripts/oval_geojsons_south/2024-05-11-18-00/output5.geojson\n",
      "Skipped entry 6 due to missing or invalid data\n",
      "Processed entry 7 saved to C:/Users/alundkvi/Documents/work/scripts/oval_geojsons_south/2024-05-11-18-00/output7.geojson\n",
      "Skipped entry 8 due to missing or invalid data\n",
      "Processed entry 9 saved to C:/Users/alundkvi/Documents/work/scripts/oval_geojsons_south/2024-05-11-18-00/output9.geojson\n",
      "Processed entry 10 saved to C:/Users/alundkvi/Documents/work/scripts/oval_geojsons_south/2024-05-11-18-00/output10.geojson\n",
      "Skipped entry 11 due to missing or invalid data\n",
      "Processed entry 12 saved to C:/Users/alundkvi/Documents/work/scripts/oval_geojsons_south/2024-05-11-18-00/output12.geojson\n",
      "Processed entry 13 saved to C:/Users/alundkvi/Documents/work/scripts/oval_geojsons_south/2024-05-11-18-00/output13.geojson\n",
      "Skipped entry 14 due to missing or invalid data\n",
      "Processed entry 15 saved to C:/Users/alundkvi/Documents/work/scripts/oval_geojsons_south/2024-05-11-18-00/output15.geojson\n",
      "Processed entry 16 saved to C:/Users/alundkvi/Documents/work/scripts/oval_geojsons_south/2024-05-11-18-00/output16.geojson\n",
      "Skipped entry 17 due to missing or invalid data\n",
      "Skipped entry 18 due to missing or invalid data\n",
      "Processed entry 19 saved to C:/Users/alundkvi/Documents/work/scripts/oval_geojsons_south/2024-05-11-18-00/output19.geojson\n",
      "Skipped entry 20 due to missing or invalid data\n",
      "Skipped entry 21 due to missing or invalid data\n",
      "Skipped entry 22 due to missing or invalid data\n",
      "Skipped entry 23 due to missing or invalid data\n",
      "Skipped entry 24 due to missing or invalid data\n",
      "Skipped entry 25 due to missing or invalid data\n",
      "Skipped entry 26 due to missing or invalid data\n",
      "Skipped entry 27 due to missing or invalid data\n",
      "Skipped entry 28 due to missing or invalid data\n"
     ]
    },
    {
     "data": {
      "text/plain": [
       "'URL: https://aurorasaurus.org/oval-data?end_date=2024-05-11T18:15&local_offset=0'"
      ]
     },
     "metadata": {},
     "output_type": "display_data"
    },
    {
     "name": "stdout",
     "output_type": "stream",
     "text": [
      "Skipped entry 1 due to missing or invalid data\n",
      "Processed entry 2 saved to C:/Users/alundkvi/Documents/work/scripts/oval_geojsons_south/2024-05-11-18-15/output2.geojson\n",
      "Skipped entry 3 due to missing or invalid data\n",
      "Skipped entry 4 due to missing or invalid data\n",
      "Processed entry 5 saved to C:/Users/alundkvi/Documents/work/scripts/oval_geojsons_south/2024-05-11-18-15/output5.geojson\n",
      "Skipped entry 6 due to missing or invalid data\n",
      "Skipped entry 7 due to missing or invalid data\n",
      "Processed entry 8 saved to C:/Users/alundkvi/Documents/work/scripts/oval_geojsons_south/2024-05-11-18-15/output8.geojson\n",
      "Processed entry 9 saved to C:/Users/alundkvi/Documents/work/scripts/oval_geojsons_south/2024-05-11-18-15/output9.geojson\n",
      "Processed entry 10 saved to C:/Users/alundkvi/Documents/work/scripts/oval_geojsons_south/2024-05-11-18-15/output10.geojson\n",
      "Skipped entry 11 due to missing or invalid data\n",
      "Processed entry 12 saved to C:/Users/alundkvi/Documents/work/scripts/oval_geojsons_south/2024-05-11-18-15/output12.geojson\n",
      "Skipped entry 13 due to missing or invalid data\n",
      "Processed entry 14 saved to C:/Users/alundkvi/Documents/work/scripts/oval_geojsons_south/2024-05-11-18-15/output14.geojson\n",
      "Processed entry 15 saved to C:/Users/alundkvi/Documents/work/scripts/oval_geojsons_south/2024-05-11-18-15/output15.geojson\n",
      "Skipped entry 16 due to missing or invalid data\n",
      "Skipped entry 17 due to missing or invalid data\n",
      "Processed entry 18 saved to C:/Users/alundkvi/Documents/work/scripts/oval_geojsons_south/2024-05-11-18-15/output18.geojson\n",
      "Skipped entry 19 due to missing or invalid data\n",
      "Skipped entry 20 due to missing or invalid data\n",
      "Skipped entry 21 due to missing or invalid data\n",
      "Skipped entry 22 due to missing or invalid data\n",
      "Skipped entry 23 due to missing or invalid data\n",
      "Skipped entry 24 due to missing or invalid data\n",
      "Skipped entry 25 due to missing or invalid data\n",
      "Skipped entry 26 due to missing or invalid data\n",
      "Skipped entry 27 due to missing or invalid data\n"
     ]
    },
    {
     "data": {
      "text/plain": [
       "'URL: https://aurorasaurus.org/oval-data?end_date=2024-05-11T18:30&local_offset=0'"
      ]
     },
     "metadata": {},
     "output_type": "display_data"
    },
    {
     "name": "stdout",
     "output_type": "stream",
     "text": [
      "Skipped entry 1 due to missing or invalid data\n",
      "Skipped entry 2 due to missing or invalid data\n",
      "Skipped entry 3 due to missing or invalid data\n",
      "Processed entry 4 saved to C:/Users/alundkvi/Documents/work/scripts/oval_geojsons_south/2024-05-11-18-30/output4.geojson\n",
      "Skipped entry 5 due to missing or invalid data\n",
      "Processed entry 6 saved to C:/Users/alundkvi/Documents/work/scripts/oval_geojsons_south/2024-05-11-18-30/output6.geojson\n",
      "Skipped entry 7 due to missing or invalid data\n",
      "Processed entry 8 saved to C:/Users/alundkvi/Documents/work/scripts/oval_geojsons_south/2024-05-11-18-30/output8.geojson\n",
      "Skipped entry 9 due to missing or invalid data\n",
      "Processed entry 10 saved to C:/Users/alundkvi/Documents/work/scripts/oval_geojsons_south/2024-05-11-18-30/output10.geojson\n",
      "Processed entry 11 saved to C:/Users/alundkvi/Documents/work/scripts/oval_geojsons_south/2024-05-11-18-30/output11.geojson\n",
      "Processed entry 12 saved to C:/Users/alundkvi/Documents/work/scripts/oval_geojsons_south/2024-05-11-18-30/output12.geojson\n",
      "Skipped entry 13 due to missing or invalid data\n",
      "Processed entry 14 saved to C:/Users/alundkvi/Documents/work/scripts/oval_geojsons_south/2024-05-11-18-30/output14.geojson\n",
      "Skipped entry 15 due to missing or invalid data\n",
      "Processed entry 16 saved to C:/Users/alundkvi/Documents/work/scripts/oval_geojsons_south/2024-05-11-18-30/output16.geojson\n",
      "Processed entry 17 saved to C:/Users/alundkvi/Documents/work/scripts/oval_geojsons_south/2024-05-11-18-30/output17.geojson\n",
      "Skipped entry 18 due to missing or invalid data\n",
      "Skipped entry 19 due to missing or invalid data\n",
      "Skipped entry 20 due to missing or invalid data\n",
      "Processed entry 21 saved to C:/Users/alundkvi/Documents/work/scripts/oval_geojsons_south/2024-05-11-18-30/output21.geojson\n",
      "Skipped entry 22 due to missing or invalid data\n",
      "Skipped entry 23 due to missing or invalid data\n",
      "Skipped entry 24 due to missing or invalid data\n",
      "Skipped entry 25 due to missing or invalid data\n",
      "Skipped entry 26 due to missing or invalid data\n",
      "Skipped entry 27 due to missing or invalid data\n",
      "Skipped entry 28 due to missing or invalid data\n",
      "Skipped entry 29 due to missing or invalid data\n",
      "Skipped entry 30 due to missing or invalid data\n",
      "Skipped entry 31 due to missing or invalid data\n",
      "Skipped entry 32 due to missing or invalid data\n"
     ]
    },
    {
     "data": {
      "text/plain": [
       "'URL: https://aurorasaurus.org/oval-data?end_date=2024-05-11T18:45&local_offset=0'"
      ]
     },
     "metadata": {},
     "output_type": "display_data"
    },
    {
     "name": "stdout",
     "output_type": "stream",
     "text": [
      "Skipped entry 1 due to missing or invalid data\n",
      "Skipped entry 2 due to missing or invalid data\n",
      "Processed entry 3 saved to C:/Users/alundkvi/Documents/work/scripts/oval_geojsons_south/2024-05-11-18-45/output3.geojson\n",
      "Skipped entry 4 due to missing or invalid data\n",
      "Processed entry 5 saved to C:/Users/alundkvi/Documents/work/scripts/oval_geojsons_south/2024-05-11-18-45/output5.geojson\n",
      "Skipped entry 6 due to missing or invalid data\n",
      "Processed entry 7 saved to C:/Users/alundkvi/Documents/work/scripts/oval_geojsons_south/2024-05-11-18-45/output7.geojson\n",
      "Skipped entry 8 due to missing or invalid data\n",
      "Processed entry 9 saved to C:/Users/alundkvi/Documents/work/scripts/oval_geojsons_south/2024-05-11-18-45/output9.geojson\n",
      "Processed entry 10 saved to C:/Users/alundkvi/Documents/work/scripts/oval_geojsons_south/2024-05-11-18-45/output10.geojson\n",
      "Skipped entry 11 due to missing or invalid data\n",
      "Processed entry 12 saved to C:/Users/alundkvi/Documents/work/scripts/oval_geojsons_south/2024-05-11-18-45/output12.geojson\n",
      "Skipped entry 13 due to missing or invalid data\n",
      "Processed entry 14 saved to C:/Users/alundkvi/Documents/work/scripts/oval_geojsons_south/2024-05-11-18-45/output14.geojson\n",
      "Processed entry 15 saved to C:/Users/alundkvi/Documents/work/scripts/oval_geojsons_south/2024-05-11-18-45/output15.geojson\n",
      "Skipped entry 16 due to missing or invalid data\n",
      "Processed entry 17 saved to C:/Users/alundkvi/Documents/work/scripts/oval_geojsons_south/2024-05-11-18-45/output17.geojson\n",
      "Skipped entry 18 due to missing or invalid data\n",
      "Processed entry 19 saved to C:/Users/alundkvi/Documents/work/scripts/oval_geojsons_south/2024-05-11-18-45/output19.geojson\n",
      "Skipped entry 20 due to missing or invalid data\n",
      "Processed entry 21 saved to C:/Users/alundkvi/Documents/work/scripts/oval_geojsons_south/2024-05-11-18-45/output21.geojson\n",
      "Skipped entry 22 due to missing or invalid data\n",
      "Skipped entry 23 due to missing or invalid data\n",
      "Skipped entry 24 due to missing or invalid data\n",
      "Skipped entry 25 due to missing or invalid data\n",
      "Skipped entry 26 due to missing or invalid data\n",
      "Skipped entry 27 due to missing or invalid data\n",
      "Skipped entry 28 due to missing or invalid data\n",
      "Skipped entry 29 due to missing or invalid data\n",
      "Skipped entry 30 due to missing or invalid data\n",
      "Skipped entry 31 due to missing or invalid data\n"
     ]
    },
    {
     "data": {
      "text/plain": [
       "'URL: https://aurorasaurus.org/oval-data?end_date=2024-05-11T19:00&local_offset=0'"
      ]
     },
     "metadata": {},
     "output_type": "display_data"
    },
    {
     "name": "stdout",
     "output_type": "stream",
     "text": [
      "Skipped entry 1 due to missing or invalid data\n",
      "Processed entry 2 saved to C:/Users/alundkvi/Documents/work/scripts/oval_geojsons_south/2024-05-11-19-00/output2.geojson\n",
      "Skipped entry 3 due to missing or invalid data\n",
      "Processed entry 4 saved to C:/Users/alundkvi/Documents/work/scripts/oval_geojsons_south/2024-05-11-19-00/output4.geojson\n",
      "Skipped entry 5 due to missing or invalid data\n",
      "Skipped entry 6 due to missing or invalid data\n",
      "Processed entry 7 saved to C:/Users/alundkvi/Documents/work/scripts/oval_geojsons_south/2024-05-11-19-00/output7.geojson\n",
      "Processed entry 8 saved to C:/Users/alundkvi/Documents/work/scripts/oval_geojsons_south/2024-05-11-19-00/output8.geojson\n",
      "Skipped entry 9 due to missing or invalid data\n",
      "Processed entry 10 saved to C:/Users/alundkvi/Documents/work/scripts/oval_geojsons_south/2024-05-11-19-00/output10.geojson\n",
      "Skipped entry 11 due to missing or invalid data\n",
      "Processed entry 12 saved to C:/Users/alundkvi/Documents/work/scripts/oval_geojsons_south/2024-05-11-19-00/output12.geojson\n",
      "Processed entry 13 saved to C:/Users/alundkvi/Documents/work/scripts/oval_geojsons_south/2024-05-11-19-00/output13.geojson\n",
      "Skipped entry 14 due to missing or invalid data\n",
      "Processed entry 15 saved to C:/Users/alundkvi/Documents/work/scripts/oval_geojsons_south/2024-05-11-19-00/output15.geojson\n",
      "Skipped entry 16 due to missing or invalid data\n",
      "Processed entry 17 saved to C:/Users/alundkvi/Documents/work/scripts/oval_geojsons_south/2024-05-11-19-00/output17.geojson\n",
      "Processed entry 18 saved to C:/Users/alundkvi/Documents/work/scripts/oval_geojsons_south/2024-05-11-19-00/output18.geojson\n",
      "Skipped entry 19 due to missing or invalid data\n",
      "Processed entry 20 saved to C:/Users/alundkvi/Documents/work/scripts/oval_geojsons_south/2024-05-11-19-00/output20.geojson\n",
      "Skipped entry 21 due to missing or invalid data\n",
      "Skipped entry 22 due to missing or invalid data\n",
      "Skipped entry 23 due to missing or invalid data\n",
      "Skipped entry 24 due to missing or invalid data\n",
      "Skipped entry 25 due to missing or invalid data\n",
      "Skipped entry 26 due to missing or invalid data\n",
      "Skipped entry 27 due to missing or invalid data\n",
      "Skipped entry 28 due to missing or invalid data\n",
      "Skipped entry 29 due to missing or invalid data\n",
      "Skipped entry 30 due to missing or invalid data\n"
     ]
    },
    {
     "data": {
      "text/plain": [
       "'URL: https://aurorasaurus.org/oval-data?end_date=2024-05-11T19:15&local_offset=0'"
      ]
     },
     "metadata": {},
     "output_type": "display_data"
    },
    {
     "name": "stdout",
     "output_type": "stream",
     "text": [
      "Skipped entry 1 due to missing or invalid data\n",
      "Skipped entry 2 due to missing or invalid data\n",
      "Processed entry 3 saved to C:/Users/alundkvi/Documents/work/scripts/oval_geojsons_south/2024-05-11-19-15/output3.geojson\n",
      "Skipped entry 4 due to missing or invalid data\n",
      "Processed entry 5 saved to C:/Users/alundkvi/Documents/work/scripts/oval_geojsons_south/2024-05-11-19-15/output5.geojson\n",
      "Processed entry 6 saved to C:/Users/alundkvi/Documents/work/scripts/oval_geojsons_south/2024-05-11-19-15/output6.geojson\n",
      "Skipped entry 7 due to missing or invalid data\n",
      "Processed entry 8 saved to C:/Users/alundkvi/Documents/work/scripts/oval_geojsons_south/2024-05-11-19-15/output8.geojson\n",
      "Skipped entry 9 due to missing or invalid data\n",
      "Processed entry 10 saved to C:/Users/alundkvi/Documents/work/scripts/oval_geojsons_south/2024-05-11-19-15/output10.geojson\n",
      "Processed entry 11 saved to C:/Users/alundkvi/Documents/work/scripts/oval_geojsons_south/2024-05-11-19-15/output11.geojson\n",
      "Skipped entry 12 due to missing or invalid data\n",
      "Processed entry 13 saved to C:/Users/alundkvi/Documents/work/scripts/oval_geojsons_south/2024-05-11-19-15/output13.geojson\n",
      "Processed entry 14 saved to C:/Users/alundkvi/Documents/work/scripts/oval_geojsons_south/2024-05-11-19-15/output14.geojson\n",
      "Skipped entry 15 due to missing or invalid data\n",
      "Processed entry 16 saved to C:/Users/alundkvi/Documents/work/scripts/oval_geojsons_south/2024-05-11-19-15/output16.geojson\n",
      "Processed entry 17 saved to C:/Users/alundkvi/Documents/work/scripts/oval_geojsons_south/2024-05-11-19-15/output17.geojson\n",
      "Skipped entry 18 due to missing or invalid data\n",
      "Skipped entry 19 due to missing or invalid data\n",
      "Skipped entry 20 due to missing or invalid data\n",
      "Skipped entry 21 due to missing or invalid data\n",
      "Skipped entry 22 due to missing or invalid data\n",
      "Skipped entry 23 due to missing or invalid data\n",
      "Skipped entry 24 due to missing or invalid data\n"
     ]
    },
    {
     "data": {
      "text/plain": [
       "'URL: https://aurorasaurus.org/oval-data?end_date=2024-05-11T19:30&local_offset=0'"
      ]
     },
     "metadata": {},
     "output_type": "display_data"
    },
    {
     "name": "stdout",
     "output_type": "stream",
     "text": [
      "Skipped entry 1 due to missing or invalid data\n",
      "Skipped entry 2 due to missing or invalid data\n",
      "Processed entry 3 saved to C:/Users/alundkvi/Documents/work/scripts/oval_geojsons_south/2024-05-11-19-30/output3.geojson\n",
      "Skipped entry 4 due to missing or invalid data\n",
      "Processed entry 5 saved to C:/Users/alundkvi/Documents/work/scripts/oval_geojsons_south/2024-05-11-19-30/output5.geojson\n",
      "Processed entry 6 saved to C:/Users/alundkvi/Documents/work/scripts/oval_geojsons_south/2024-05-11-19-30/output6.geojson\n",
      "Skipped entry 7 due to missing or invalid data\n",
      "Processed entry 8 saved to C:/Users/alundkvi/Documents/work/scripts/oval_geojsons_south/2024-05-11-19-30/output8.geojson\n",
      "Skipped entry 9 due to missing or invalid data\n",
      "Processed entry 10 saved to C:/Users/alundkvi/Documents/work/scripts/oval_geojsons_south/2024-05-11-19-30/output10.geojson\n",
      "Processed entry 11 saved to C:/Users/alundkvi/Documents/work/scripts/oval_geojsons_south/2024-05-11-19-30/output11.geojson\n",
      "Processed entry 12 saved to C:/Users/alundkvi/Documents/work/scripts/oval_geojsons_south/2024-05-11-19-30/output12.geojson\n",
      "Skipped entry 13 due to missing or invalid data\n",
      "Skipped entry 14 due to missing or invalid data\n",
      "Skipped entry 15 due to missing or invalid data\n",
      "Skipped entry 16 due to missing or invalid data\n",
      "Skipped entry 17 due to missing or invalid data\n"
     ]
    },
    {
     "data": {
      "text/plain": [
       "'URL: https://aurorasaurus.org/oval-data?end_date=2024-05-11T19:45&local_offset=0'"
      ]
     },
     "metadata": {},
     "output_type": "display_data"
    },
    {
     "name": "stdout",
     "output_type": "stream",
     "text": [
      "Skipped entry 1 due to missing or invalid data\n",
      "Processed entry 2 saved to C:/Users/alundkvi/Documents/work/scripts/oval_geojsons_south/2024-05-11-19-45/output2.geojson\n",
      "Skipped entry 3 due to missing or invalid data\n",
      "Processed entry 4 saved to C:/Users/alundkvi/Documents/work/scripts/oval_geojsons_south/2024-05-11-19-45/output4.geojson\n",
      "Skipped entry 5 due to missing or invalid data\n",
      "Processed entry 6 saved to C:/Users/alundkvi/Documents/work/scripts/oval_geojsons_south/2024-05-11-19-45/output6.geojson\n",
      "Processed entry 7 saved to C:/Users/alundkvi/Documents/work/scripts/oval_geojsons_south/2024-05-11-19-45/output7.geojson\n",
      "Skipped entry 8 due to missing or invalid data\n",
      "Processed entry 9 saved to C:/Users/alundkvi/Documents/work/scripts/oval_geojsons_south/2024-05-11-19-45/output9.geojson\n",
      "Processed entry 10 saved to C:/Users/alundkvi/Documents/work/scripts/oval_geojsons_south/2024-05-11-19-45/output10.geojson\n",
      "Skipped entry 11 due to missing or invalid data\n",
      "Skipped entry 12 due to missing or invalid data\n",
      "Skipped entry 13 due to missing or invalid data\n",
      "Skipped entry 14 due to missing or invalid data\n"
     ]
    },
    {
     "data": {
      "text/plain": [
       "'URL: https://aurorasaurus.org/oval-data?end_date=2024-05-11T20:00&local_offset=0'"
      ]
     },
     "metadata": {},
     "output_type": "display_data"
    },
    {
     "name": "stdout",
     "output_type": "stream",
     "text": [
      "Processed entry 1 saved to C:/Users/alundkvi/Documents/work/scripts/oval_geojsons_south/2024-05-11-20-00/output1.geojson\n",
      "Processed entry 2 saved to C:/Users/alundkvi/Documents/work/scripts/oval_geojsons_south/2024-05-11-20-00/output2.geojson\n",
      "Skipped entry 3 due to missing or invalid data\n",
      "Processed entry 4 saved to C:/Users/alundkvi/Documents/work/scripts/oval_geojsons_south/2024-05-11-20-00/output4.geojson\n",
      "Processed entry 5 saved to C:/Users/alundkvi/Documents/work/scripts/oval_geojsons_south/2024-05-11-20-00/output5.geojson\n",
      "Skipped entry 6 due to missing or invalid data\n",
      "Processed entry 7 saved to C:/Users/alundkvi/Documents/work/scripts/oval_geojsons_south/2024-05-11-20-00/output7.geojson\n",
      "Processed entry 8 saved to C:/Users/alundkvi/Documents/work/scripts/oval_geojsons_south/2024-05-11-20-00/output8.geojson\n",
      "Skipped entry 9 due to missing or invalid data\n",
      "Processed entry 10 saved to C:/Users/alundkvi/Documents/work/scripts/oval_geojsons_south/2024-05-11-20-00/output10.geojson\n",
      "Processed entry 11 saved to C:/Users/alundkvi/Documents/work/scripts/oval_geojsons_south/2024-05-11-20-00/output11.geojson\n",
      "Skipped entry 12 due to missing or invalid data\n",
      "Skipped entry 13 due to missing or invalid data\n",
      "Skipped entry 14 due to missing or invalid data\n",
      "Skipped entry 15 due to missing or invalid data\n"
     ]
    },
    {
     "data": {
      "text/plain": [
       "'URL: https://aurorasaurus.org/oval-data?end_date=2024-05-11T20:15&local_offset=0'"
      ]
     },
     "metadata": {},
     "output_type": "display_data"
    },
    {
     "name": "stdout",
     "output_type": "stream",
     "text": [
      "Processed entry 1 saved to C:/Users/alundkvi/Documents/work/scripts/oval_geojsons_south/2024-05-11-20-15/output1.geojson\n",
      "Processed entry 2 saved to C:/Users/alundkvi/Documents/work/scripts/oval_geojsons_south/2024-05-11-20-15/output2.geojson\n",
      "Skipped entry 3 due to missing or invalid data\n",
      "Processed entry 4 saved to C:/Users/alundkvi/Documents/work/scripts/oval_geojsons_south/2024-05-11-20-15/output4.geojson\n",
      "Processed entry 5 saved to C:/Users/alundkvi/Documents/work/scripts/oval_geojsons_south/2024-05-11-20-15/output5.geojson\n",
      "Skipped entry 6 due to missing or invalid data\n",
      "Processed entry 7 saved to C:/Users/alundkvi/Documents/work/scripts/oval_geojsons_south/2024-05-11-20-15/output7.geojson\n",
      "Processed entry 8 saved to C:/Users/alundkvi/Documents/work/scripts/oval_geojsons_south/2024-05-11-20-15/output8.geojson\n",
      "Skipped entry 9 due to missing or invalid data\n",
      "Skipped entry 10 due to missing or invalid data\n",
      "Skipped entry 11 due to missing or invalid data\n"
     ]
    },
    {
     "data": {
      "text/plain": [
       "'URL: https://aurorasaurus.org/oval-data?end_date=2024-05-11T20:30&local_offset=0'"
      ]
     },
     "metadata": {},
     "output_type": "display_data"
    },
    {
     "name": "stdout",
     "output_type": "stream",
     "text": [
      "Processed entry 1 saved to C:/Users/alundkvi/Documents/work/scripts/oval_geojsons_south/2024-05-11-20-30/output1.geojson\n",
      "Processed entry 2 saved to C:/Users/alundkvi/Documents/work/scripts/oval_geojsons_south/2024-05-11-20-30/output2.geojson\n",
      "Skipped entry 3 due to missing or invalid data\n",
      "Processed entry 4 saved to C:/Users/alundkvi/Documents/work/scripts/oval_geojsons_south/2024-05-11-20-30/output4.geojson\n",
      "Skipped entry 5 due to missing or invalid data\n",
      "Processed entry 6 saved to C:/Users/alundkvi/Documents/work/scripts/oval_geojsons_south/2024-05-11-20-30/output6.geojson\n",
      "Skipped entry 7 due to missing or invalid data\n",
      "Processed entry 8 saved to C:/Users/alundkvi/Documents/work/scripts/oval_geojsons_south/2024-05-11-20-30/output8.geojson\n",
      "Processed entry 9 saved to C:/Users/alundkvi/Documents/work/scripts/oval_geojsons_south/2024-05-11-20-30/output9.geojson\n",
      "Processed entry 10 saved to C:/Users/alundkvi/Documents/work/scripts/oval_geojsons_south/2024-05-11-20-30/output10.geojson\n",
      "Processed entry 11 saved to C:/Users/alundkvi/Documents/work/scripts/oval_geojsons_south/2024-05-11-20-30/output11.geojson\n",
      "Skipped entry 12 due to missing or invalid data\n",
      "Skipped entry 13 due to missing or invalid data\n",
      "Skipped entry 14 due to missing or invalid data\n",
      "Skipped entry 15 due to missing or invalid data\n"
     ]
    },
    {
     "data": {
      "text/plain": [
       "'URL: https://aurorasaurus.org/oval-data?end_date=2024-05-11T20:45&local_offset=0'"
      ]
     },
     "metadata": {},
     "output_type": "display_data"
    },
    {
     "name": "stdout",
     "output_type": "stream",
     "text": [
      "Processed entry 1 saved to C:/Users/alundkvi/Documents/work/scripts/oval_geojsons_south/2024-05-11-20-45/output1.geojson\n",
      "Processed entry 2 saved to C:/Users/alundkvi/Documents/work/scripts/oval_geojsons_south/2024-05-11-20-45/output2.geojson\n",
      "Skipped entry 3 due to missing or invalid data\n",
      "Processed entry 4 saved to C:/Users/alundkvi/Documents/work/scripts/oval_geojsons_south/2024-05-11-20-45/output4.geojson\n",
      "Skipped entry 5 due to missing or invalid data\n",
      "Processed entry 6 saved to C:/Users/alundkvi/Documents/work/scripts/oval_geojsons_south/2024-05-11-20-45/output6.geojson\n",
      "Skipped entry 7 due to missing or invalid data\n",
      "Processed entry 8 saved to C:/Users/alundkvi/Documents/work/scripts/oval_geojsons_south/2024-05-11-20-45/output8.geojson\n",
      "Processed entry 9 saved to C:/Users/alundkvi/Documents/work/scripts/oval_geojsons_south/2024-05-11-20-45/output9.geojson\n",
      "Skipped entry 10 due to missing or invalid data\n",
      "Processed entry 11 saved to C:/Users/alundkvi/Documents/work/scripts/oval_geojsons_south/2024-05-11-20-45/output11.geojson\n",
      "Skipped entry 12 due to missing or invalid data\n",
      "Processed entry 13 saved to C:/Users/alundkvi/Documents/work/scripts/oval_geojsons_south/2024-05-11-20-45/output13.geojson\n",
      "Processed entry 14 saved to C:/Users/alundkvi/Documents/work/scripts/oval_geojsons_south/2024-05-11-20-45/output14.geojson\n",
      "Skipped entry 15 due to missing or invalid data\n",
      "Processed entry 16 saved to C:/Users/alundkvi/Documents/work/scripts/oval_geojsons_south/2024-05-11-20-45/output16.geojson\n",
      "Processed entry 17 saved to C:/Users/alundkvi/Documents/work/scripts/oval_geojsons_south/2024-05-11-20-45/output17.geojson\n",
      "Processed entry 18 saved to C:/Users/alundkvi/Documents/work/scripts/oval_geojsons_south/2024-05-11-20-45/output18.geojson\n",
      "Processed entry 19 saved to C:/Users/alundkvi/Documents/work/scripts/oval_geojsons_south/2024-05-11-20-45/output19.geojson\n",
      "Skipped entry 20 due to missing or invalid data\n",
      "Skipped entry 21 due to missing or invalid data\n",
      "Skipped entry 22 due to missing or invalid data\n",
      "Skipped entry 23 due to missing or invalid data\n",
      "Skipped entry 24 due to missing or invalid data\n",
      "Skipped entry 25 due to missing or invalid data\n",
      "Skipped entry 26 due to missing or invalid data\n",
      "Skipped entry 27 due to missing or invalid data\n"
     ]
    },
    {
     "data": {
      "text/plain": [
       "'URL: https://aurorasaurus.org/oval-data?end_date=2024-05-11T21:00&local_offset=0'"
      ]
     },
     "metadata": {},
     "output_type": "display_data"
    },
    {
     "name": "stdout",
     "output_type": "stream",
     "text": [
      "Processed entry 1 saved to C:/Users/alundkvi/Documents/work/scripts/oval_geojsons_south/2024-05-11-21-00/output1.geojson\n",
      "Skipped entry 2 due to missing or invalid data\n",
      "Processed entry 3 saved to C:/Users/alundkvi/Documents/work/scripts/oval_geojsons_south/2024-05-11-21-00/output3.geojson\n",
      "Skipped entry 4 due to missing or invalid data\n",
      "Processed entry 5 saved to C:/Users/alundkvi/Documents/work/scripts/oval_geojsons_south/2024-05-11-21-00/output5.geojson\n",
      "Processed entry 6 saved to C:/Users/alundkvi/Documents/work/scripts/oval_geojsons_south/2024-05-11-21-00/output6.geojson\n",
      "Skipped entry 7 due to missing or invalid data\n",
      "Processed entry 8 saved to C:/Users/alundkvi/Documents/work/scripts/oval_geojsons_south/2024-05-11-21-00/output8.geojson\n",
      "Skipped entry 9 due to missing or invalid data\n",
      "Processed entry 10 saved to C:/Users/alundkvi/Documents/work/scripts/oval_geojsons_south/2024-05-11-21-00/output10.geojson\n",
      "Processed entry 11 saved to C:/Users/alundkvi/Documents/work/scripts/oval_geojsons_south/2024-05-11-21-00/output11.geojson\n",
      "Processed entry 12 saved to C:/Users/alundkvi/Documents/work/scripts/oval_geojsons_south/2024-05-11-21-00/output12.geojson\n",
      "Processed entry 13 saved to C:/Users/alundkvi/Documents/work/scripts/oval_geojsons_south/2024-05-11-21-00/output13.geojson\n",
      "Skipped entry 14 due to missing or invalid data\n",
      "Skipped entry 15 due to missing or invalid data\n",
      "Skipped entry 16 due to missing or invalid data\n",
      "Skipped entry 17 due to missing or invalid data\n",
      "Skipped entry 18 due to missing or invalid data\n"
     ]
    },
    {
     "data": {
      "text/plain": [
       "'URL: https://aurorasaurus.org/oval-data?end_date=2024-05-11T21:15&local_offset=0'"
      ]
     },
     "metadata": {},
     "output_type": "display_data"
    },
    {
     "name": "stdout",
     "output_type": "stream",
     "text": [
      "Processed entry 1 saved to C:/Users/alundkvi/Documents/work/scripts/oval_geojsons_south/2024-05-11-21-15/output1.geojson\n",
      "Skipped entry 2 due to missing or invalid data\n",
      "Processed entry 3 saved to C:/Users/alundkvi/Documents/work/scripts/oval_geojsons_south/2024-05-11-21-15/output3.geojson\n",
      "Skipped entry 4 due to missing or invalid data\n"
     ]
    },
    {
     "data": {
      "text/plain": [
       "'URL: https://aurorasaurus.org/oval-data?end_date=2024-05-11T21:30&local_offset=0'"
      ]
     },
     "metadata": {},
     "output_type": "display_data"
    },
    {
     "name": "stdout",
     "output_type": "stream",
     "text": [
      "Processed entry 1 saved to C:/Users/alundkvi/Documents/work/scripts/oval_geojsons_south/2024-05-11-21-30/output1.geojson\n",
      "Skipped entry 2 due to missing or invalid data\n",
      "Processed entry 3 saved to C:/Users/alundkvi/Documents/work/scripts/oval_geojsons_south/2024-05-11-21-30/output3.geojson\n",
      "Skipped entry 4 due to missing or invalid data\n",
      "Processed entry 5 saved to C:/Users/alundkvi/Documents/work/scripts/oval_geojsons_south/2024-05-11-21-30/output5.geojson\n",
      "Processed entry 6 saved to C:/Users/alundkvi/Documents/work/scripts/oval_geojsons_south/2024-05-11-21-30/output6.geojson\n",
      "Skipped entry 7 due to missing or invalid data\n",
      "Skipped entry 8 due to missing or invalid data\n"
     ]
    },
    {
     "data": {
      "text/plain": [
       "'URL: https://aurorasaurus.org/oval-data?end_date=2024-05-11T21:45&local_offset=0'"
      ]
     },
     "metadata": {},
     "output_type": "display_data"
    },
    {
     "name": "stdout",
     "output_type": "stream",
     "text": [
      "Processed entry 1 saved to C:/Users/alundkvi/Documents/work/scripts/oval_geojsons_south/2024-05-11-21-45/output1.geojson\n",
      "Processed entry 2 saved to C:/Users/alundkvi/Documents/work/scripts/oval_geojsons_south/2024-05-11-21-45/output2.geojson\n",
      "Skipped entry 3 due to missing or invalid data\n",
      "Processed entry 4 saved to C:/Users/alundkvi/Documents/work/scripts/oval_geojsons_south/2024-05-11-21-45/output4.geojson\n",
      "Skipped entry 5 due to missing or invalid data\n",
      "Processed entry 6 saved to C:/Users/alundkvi/Documents/work/scripts/oval_geojsons_south/2024-05-11-21-45/output6.geojson\n",
      "Skipped entry 7 due to missing or invalid data\n",
      "Processed entry 8 saved to C:/Users/alundkvi/Documents/work/scripts/oval_geojsons_south/2024-05-11-21-45/output8.geojson\n",
      "Skipped entry 9 due to missing or invalid data\n",
      "Processed entry 10 saved to C:/Users/alundkvi/Documents/work/scripts/oval_geojsons_south/2024-05-11-21-45/output10.geojson\n",
      "Processed entry 11 saved to C:/Users/alundkvi/Documents/work/scripts/oval_geojsons_south/2024-05-11-21-45/output11.geojson\n",
      "Processed entry 12 saved to C:/Users/alundkvi/Documents/work/scripts/oval_geojsons_south/2024-05-11-21-45/output12.geojson\n",
      "Processed entry 13 saved to C:/Users/alundkvi/Documents/work/scripts/oval_geojsons_south/2024-05-11-21-45/output13.geojson\n",
      "Processed entry 14 saved to C:/Users/alundkvi/Documents/work/scripts/oval_geojsons_south/2024-05-11-21-45/output14.geojson\n",
      "Skipped entry 15 due to missing or invalid data\n",
      "Skipped entry 16 due to missing or invalid data\n",
      "Skipped entry 17 due to missing or invalid data\n",
      "Skipped entry 18 due to missing or invalid data\n",
      "Skipped entry 19 due to missing or invalid data\n"
     ]
    },
    {
     "data": {
      "text/plain": [
       "'URL: https://aurorasaurus.org/oval-data?end_date=2024-05-11T22:00&local_offset=0'"
      ]
     },
     "metadata": {},
     "output_type": "display_data"
    },
    {
     "name": "stdout",
     "output_type": "stream",
     "text": [
      "Processed entry 1 saved to C:/Users/alundkvi/Documents/work/scripts/oval_geojsons_south/2024-05-11-22-00/output1.geojson\n",
      "Skipped entry 2 due to missing or invalid data\n",
      "Processed entry 3 saved to C:/Users/alundkvi/Documents/work/scripts/oval_geojsons_south/2024-05-11-22-00/output3.geojson\n",
      "Processed entry 4 saved to C:/Users/alundkvi/Documents/work/scripts/oval_geojsons_south/2024-05-11-22-00/output4.geojson\n",
      "Skipped entry 5 due to missing or invalid data\n",
      "Processed entry 6 saved to C:/Users/alundkvi/Documents/work/scripts/oval_geojsons_south/2024-05-11-22-00/output6.geojson\n",
      "Skipped entry 7 due to missing or invalid data\n",
      "Processed entry 8 saved to C:/Users/alundkvi/Documents/work/scripts/oval_geojsons_south/2024-05-11-22-00/output8.geojson\n",
      "Processed entry 9 saved to C:/Users/alundkvi/Documents/work/scripts/oval_geojsons_south/2024-05-11-22-00/output9.geojson\n",
      "Skipped entry 10 due to missing or invalid data\n",
      "Skipped entry 11 due to missing or invalid data\n",
      "Skipped entry 12 due to missing or invalid data\n"
     ]
    },
    {
     "data": {
      "text/plain": [
       "'URL: https://aurorasaurus.org/oval-data?end_date=2024-05-11T22:15&local_offset=0'"
      ]
     },
     "metadata": {},
     "output_type": "display_data"
    },
    {
     "name": "stdout",
     "output_type": "stream",
     "text": [
      "Processed entry 1 saved to C:/Users/alundkvi/Documents/work/scripts/oval_geojsons_south/2024-05-11-22-15/output1.geojson\n",
      "Skipped entry 2 due to missing or invalid data\n",
      "Skipped entry 3 due to missing or invalid data\n"
     ]
    },
    {
     "data": {
      "text/plain": [
       "'URL: https://aurorasaurus.org/oval-data?end_date=2024-05-11T22:30&local_offset=0'"
      ]
     },
     "metadata": {},
     "output_type": "display_data"
    },
    {
     "name": "stdout",
     "output_type": "stream",
     "text": [
      "Processed entry 1 saved to C:/Users/alundkvi/Documents/work/scripts/oval_geojsons_south/2024-05-11-22-30/output1.geojson\n",
      "Skipped entry 2 due to missing or invalid data\n",
      "Processed entry 3 saved to C:/Users/alundkvi/Documents/work/scripts/oval_geojsons_south/2024-05-11-22-30/output3.geojson\n",
      "Skipped entry 4 due to missing or invalid data\n"
     ]
    },
    {
     "data": {
      "text/plain": [
       "'URL: https://aurorasaurus.org/oval-data?end_date=2024-05-11T22:45&local_offset=0'"
      ]
     },
     "metadata": {},
     "output_type": "display_data"
    },
    {
     "name": "stdout",
     "output_type": "stream",
     "text": [
      "Processed entry 1 saved to C:/Users/alundkvi/Documents/work/scripts/oval_geojsons_south/2024-05-11-22-45/output1.geojson\n",
      "Processed entry 2 saved to C:/Users/alundkvi/Documents/work/scripts/oval_geojsons_south/2024-05-11-22-45/output2.geojson\n",
      "Skipped entry 3 due to missing or invalid data\n",
      "Processed entry 4 saved to C:/Users/alundkvi/Documents/work/scripts/oval_geojsons_south/2024-05-11-22-45/output4.geojson\n",
      "Skipped entry 5 due to missing or invalid data\n",
      "Processed entry 6 saved to C:/Users/alundkvi/Documents/work/scripts/oval_geojsons_south/2024-05-11-22-45/output6.geojson\n",
      "Skipped entry 7 due to missing or invalid data\n",
      "Processed entry 8 saved to C:/Users/alundkvi/Documents/work/scripts/oval_geojsons_south/2024-05-11-22-45/output8.geojson\n",
      "Processed entry 9 saved to C:/Users/alundkvi/Documents/work/scripts/oval_geojsons_south/2024-05-11-22-45/output9.geojson\n",
      "Skipped entry 10 due to missing or invalid data\n",
      "Skipped entry 11 due to missing or invalid data\n",
      "Skipped entry 12 due to missing or invalid data\n"
     ]
    },
    {
     "data": {
      "text/plain": [
       "'URL: https://aurorasaurus.org/oval-data?end_date=2024-05-11T23:00&local_offset=0'"
      ]
     },
     "metadata": {},
     "output_type": "display_data"
    },
    {
     "name": "stdout",
     "output_type": "stream",
     "text": [
      "Processed entry 1 saved to C:/Users/alundkvi/Documents/work/scripts/oval_geojsons_south/2024-05-11-23-00/output1.geojson\n",
      "Processed entry 2 saved to C:/Users/alundkvi/Documents/work/scripts/oval_geojsons_south/2024-05-11-23-00/output2.geojson\n",
      "Skipped entry 3 due to missing or invalid data\n",
      "Processed entry 4 saved to C:/Users/alundkvi/Documents/work/scripts/oval_geojsons_south/2024-05-11-23-00/output4.geojson\n",
      "Skipped entry 5 due to missing or invalid data\n",
      "Processed entry 6 saved to C:/Users/alundkvi/Documents/work/scripts/oval_geojsons_south/2024-05-11-23-00/output6.geojson\n",
      "Skipped entry 7 due to missing or invalid data\n",
      "Skipped entry 8 due to missing or invalid data\n"
     ]
    },
    {
     "data": {
      "text/plain": [
       "'URL: https://aurorasaurus.org/oval-data?end_date=2024-05-11T23:15&local_offset=0'"
      ]
     },
     "metadata": {},
     "output_type": "display_data"
    },
    {
     "name": "stdout",
     "output_type": "stream",
     "text": [
      "Processed entry 1 saved to C:/Users/alundkvi/Documents/work/scripts/oval_geojsons_south/2024-05-11-23-15/output1.geojson\n",
      "Skipped entry 2 due to missing or invalid data\n",
      "Processed entry 3 saved to C:/Users/alundkvi/Documents/work/scripts/oval_geojsons_south/2024-05-11-23-15/output3.geojson\n",
      "Skipped entry 4 due to missing or invalid data\n",
      "Processed entry 5 saved to C:/Users/alundkvi/Documents/work/scripts/oval_geojsons_south/2024-05-11-23-15/output5.geojson\n",
      "Processed entry 6 saved to C:/Users/alundkvi/Documents/work/scripts/oval_geojsons_south/2024-05-11-23-15/output6.geojson\n",
      "Skipped entry 7 due to missing or invalid data\n",
      "Skipped entry 8 due to missing or invalid data\n"
     ]
    },
    {
     "data": {
      "text/plain": [
       "'URL: https://aurorasaurus.org/oval-data?end_date=2024-05-11T23:30&local_offset=0'"
      ]
     },
     "metadata": {},
     "output_type": "display_data"
    },
    {
     "name": "stdout",
     "output_type": "stream",
     "text": [
      "Processed entry 1 saved to C:/Users/alundkvi/Documents/work/scripts/oval_geojsons_south/2024-05-11-23-30/output1.geojson\n",
      "Processed entry 2 saved to C:/Users/alundkvi/Documents/work/scripts/oval_geojsons_south/2024-05-11-23-30/output2.geojson\n",
      "Skipped entry 3 due to missing or invalid data\n",
      "Processed entry 4 saved to C:/Users/alundkvi/Documents/work/scripts/oval_geojsons_south/2024-05-11-23-30/output4.geojson\n",
      "Skipped entry 5 due to missing or invalid data\n",
      "Processed entry 6 saved to C:/Users/alundkvi/Documents/work/scripts/oval_geojsons_south/2024-05-11-23-30/output6.geojson\n",
      "Skipped entry 7 due to missing or invalid data\n",
      "Processed entry 8 saved to C:/Users/alundkvi/Documents/work/scripts/oval_geojsons_south/2024-05-11-23-30/output8.geojson\n",
      "Skipped entry 9 due to missing or invalid data\n",
      "Skipped entry 10 due to missing or invalid data\n",
      "Skipped entry 11 due to missing or invalid data\n"
     ]
    },
    {
     "data": {
      "text/plain": [
       "'URL: https://aurorasaurus.org/oval-data?end_date=2024-05-11T23:45&local_offset=0'"
      ]
     },
     "metadata": {},
     "output_type": "display_data"
    },
    {
     "name": "stdout",
     "output_type": "stream",
     "text": [
      "Processed entry 1 saved to C:/Users/alundkvi/Documents/work/scripts/oval_geojsons_south/2024-05-11-23-45/output1.geojson\n",
      "Skipped entry 2 due to missing or invalid data\n",
      "Processed entry 3 saved to C:/Users/alundkvi/Documents/work/scripts/oval_geojsons_south/2024-05-11-23-45/output3.geojson\n",
      "Processed entry 4 saved to C:/Users/alundkvi/Documents/work/scripts/oval_geojsons_south/2024-05-11-23-45/output4.geojson\n",
      "Skipped entry 5 due to missing or invalid data\n",
      "Processed entry 6 saved to C:/Users/alundkvi/Documents/work/scripts/oval_geojsons_south/2024-05-11-23-45/output6.geojson\n",
      "Skipped entry 7 due to missing or invalid data\n",
      "Processed entry 8 saved to C:/Users/alundkvi/Documents/work/scripts/oval_geojsons_south/2024-05-11-23-45/output8.geojson\n",
      "Skipped entry 9 due to missing or invalid data\n",
      "Processed entry 10 saved to C:/Users/alundkvi/Documents/work/scripts/oval_geojsons_south/2024-05-11-23-45/output10.geojson\n",
      "Skipped entry 11 due to missing or invalid data\n",
      "Skipped entry 12 due to missing or invalid data\n",
      "Skipped entry 13 due to missing or invalid data\n",
      "Skipped entry 14 due to missing or invalid data\n"
     ]
    },
    {
     "data": {
      "text/plain": [
       "'URL: https://aurorasaurus.org/oval-data?end_date=2024-05-12T00:00&local_offset=0'"
      ]
     },
     "metadata": {},
     "output_type": "display_data"
    },
    {
     "name": "stdout",
     "output_type": "stream",
     "text": [
      "Skipped entry 1 due to missing or invalid data\n",
      "Processed entry 2 saved to C:/Users/alundkvi/Documents/work/scripts/oval_geojsons_south/2024-05-12-00-00/output2.geojson\n",
      "Processed entry 3 saved to C:/Users/alundkvi/Documents/work/scripts/oval_geojsons_south/2024-05-12-00-00/output3.geojson\n",
      "Skipped entry 4 due to missing or invalid data\n",
      "Processed entry 5 saved to C:/Users/alundkvi/Documents/work/scripts/oval_geojsons_south/2024-05-12-00-00/output5.geojson\n",
      "Skipped entry 6 due to missing or invalid data\n",
      "Skipped entry 7 due to missing or invalid data\n",
      "Skipped entry 8 due to missing or invalid data\n",
      "Skipped entry 9 due to missing or invalid data\n",
      "Skipped entry 10 due to missing or invalid data\n",
      "Skipped entry 11 due to missing or invalid data\n"
     ]
    }
   ],
   "source": [
    "import json\n",
    "import requests\n",
    "import schedule\n",
    "import time\n",
    "import os\n",
    "from datetime import datetime, timedelta\n",
    "from shapely.geometry import Polygon\n",
    "from shapely.geometry.polygon import orient\n",
    "\n",
    "# Function to convert RGB to Hex\n",
    "def rgb_to_hex(rgb_str):\n",
    "    \"\"\"\n",
    "    Convert RGB color string in format 'rgb(r, g, b)' to HEX color code.\n",
    "\n",
    "    Parameters:\n",
    "    rgb_str (str): RGB color string in format 'rgb(r, g, b)'\n",
    "\n",
    "    Returns:\n",
    "    str: HEX color code\n",
    "    \"\"\"\n",
    "    # Extract numeric values from the string\n",
    "    rgb_values = rgb_str.split('(')[1].split(')')[0].split(',')\n",
    "    r = int(rgb_values[0].strip())\n",
    "    g = int(rgb_values[1].strip())\n",
    "    b = int(rgb_values[2].strip())\n",
    "\n",
    "\n",
    "    # Clamp RGB values within 0-255 range\n",
    "    r = max(0, min(r, 255))\n",
    "    g = max(0, min(g, 255))\n",
    "    b = max(0, min(b, 255))\n",
    "\n",
    "    # Convert RGB to HEX\n",
    "    return '#{:02x}{:02x}{:02x}'.format(r, g, b)\n",
    "\n",
    "\n",
    "\n",
    "def douglas_peucker(coords, tolerance):\n",
    "    \"\"\"Douglas-Peucker algorithm for simplifying coordinates.\"\"\"\n",
    "    from math import sqrt\n",
    "\n",
    "    def perpendicular_distance(pt, start, end):\n",
    "        # Calculate the perpendicular distance from pt to line defined by start-end\n",
    "        if start == end:\n",
    "            return sqrt((pt[0] - start[0]) ** 2 + (pt[1] - start[1]) ** 2)\n",
    "        else:\n",
    "            numerator = abs((end[1] - start[1]) * pt[0] - (end[0] - start[0]) * pt[1] + end[0] * start[1] - end[1] * start[0])\n",
    "            denominator = sqrt((end[1] - start[1]) ** 2 + (end[0] - start[0]) ** 2)\n",
    "            return numerator / denominator\n",
    "\n",
    "    def recursive_douglas_peucker(coords, tolerance, start=0, end=None):\n",
    "        if end is None:\n",
    "            end = len(coords) - 1\n",
    "\n",
    "        if end <= start + 1:\n",
    "            return [coords[start], coords[end]]\n",
    "\n",
    "        max_distance = 0\n",
    "        max_index = 0\n",
    "\n",
    "        for i in range(start + 1, end):\n",
    "            distance = perpendicular_distance(coords[i], coords[start], coords[end])\n",
    "            if distance > max_distance:\n",
    "                max_distance = distance\n",
    "                max_index = i\n",
    "\n",
    "        if max_distance >= tolerance:\n",
    "            first_part = recursive_douglas_peucker(coords, tolerance, start, max_index)\n",
    "            second_part = recursive_douglas_peucker(coords, tolerance, max_index, end)\n",
    "            return first_part[:-1] + second_part\n",
    "        else:\n",
    "            return [coords[start], coords[end]]\n",
    "\n",
    "    return recursive_douglas_peucker(coords, tolerance)\n",
    "\n",
    "\n",
    "# Function to ensure proper order, closure, and orientation of coordinates\n",
    "def process_coordinates(coords):\n",
    "    # Ensure proper order and closure\n",
    "    if coords[0] != coords[-1]:\n",
    "        coords.append(coords[0])  # Close the polygon if not closed already\n",
    "\n",
    "    # Orient the polygon\n",
    "    poly = Polygon(coords)\n",
    "    oriented_coords = list(orient(poly).exterior.coords)\n",
    "\n",
    "    oriented_coords.reverse()\n",
    "\n",
    "    # Convert coordinates to the correct format for GeoJSON\n",
    "    return [[round(x, 6), round(y, 6)] for x, y in oriented_coords]\n",
    "\n",
    "# Function to check if the polygon needs to be reversed (for poles)\n",
    "def is_polygon_reversed(coords):\n",
    "    # Determine if the polygon should be reversed based on its centroid\n",
    "    # Example logic: Check if the centroid latitude is above or below a certain threshold\n",
    "    centroid_y = sum(coord[1] for coord in coords) / len(coords)\n",
    "    if centroid_y > 0:  # Adjust this threshold as needed\n",
    "        return True\n",
    "    else:\n",
    "        return False\n",
    "\n",
    "\n",
    "# Function to simplify coordinates using Douglas-Peucker algorithm\n",
    "def simplify_coordinates(coords, tolerance=0.001):\n",
    "    simplified_coords = douglas_peucker(coords, tolerance)\n",
    "    return simplified_coords\n",
    "\n",
    "# Input and output file paths\n",
    "input_file = 'C:/Users/alundkvi/Documents/work/scripts/oval-dataTimeTest.json'\n",
    "output_file = 'C:/Users/alundkvi/Documents/work/scripts/oval_asset_output_not_simplified/output.geojson'\n",
    "\n",
    "# Function to process each entry and generate GeoJSON-like asset\n",
    "def process_entry(entry):\n",
    "    fill_color = entry.get('fill_color', None)\n",
    "    paths = entry.get('paths', [])\n",
    "\n",
    "    # Validate input structure\n",
    "    if not fill_color or not paths:\n",
    "        return None\n",
    "\n",
    "    # Convert RGB to Hex\n",
    "    fill_color_hex = rgb_to_hex(fill_color)\n",
    "\n",
    "    optimized_paths = []\n",
    "\n",
    "    # Process each path\n",
    "    for path in paths:\n",
    "        optimized_path = []\n",
    "        \n",
    "        # Modify each coordinate in the path and optimize\n",
    "        for coord in path:\n",
    "            lat = coord.get('lat', None)\n",
    "            lng = coord.get('lng', None)\n",
    "\n",
    "            # Skip if coordinates are in the northern hemisphere\n",
    "            if lat is not None and lat > 0:\n",
    "                continue\n",
    "\n",
    "            # Swap lat and lng, subtract 400 from lng\n",
    "            if lat is not None and lng is not None:\n",
    "                optimized_path.append([\n",
    "                    lng - 360,\n",
    "                    lat\n",
    "                ])\n",
    "\n",
    "        # Simplify coordinates if there are valid points in optimized_path\n",
    "        if optimized_path:\n",
    "            simplified_coords = simplify_coordinates(optimized_path)\n",
    "            final_coords = process_coordinates(simplified_coords)\n",
    "            optimized_paths.append(final_coords)\n",
    "\n",
    "    # Construct GeoJSON-like asset structure if optimized_paths is not empty\n",
    "    if optimized_paths:\n",
    "        asset = {\n",
    "            \"type\": \"Feature\",\n",
    "            \"properties\": {\n",
    "                \"stroke\": fill_color_hex,\n",
    "                \"stroke-width\": 2,\n",
    "                \"stroke-opacity\": 1,\n",
    "                \"fill\": fill_color_hex,\n",
    "                \"fill-opacity\": 0.75\n",
    "            },\n",
    "            \"geometry\": {\n",
    "                \"type\": \"Polygon\",\n",
    "                \"coordinates\": optimized_paths\n",
    "            }\n",
    "        }\n",
    "\n",
    "        return asset\n",
    "    else:\n",
    "        return None\n",
    "\n",
    "# Function to fetch data from URL\n",
    "def fetch_data_and_process(url):\n",
    "    response = requests.get(url)\n",
    "    if response.status_code == 200:\n",
    "        data = response.json()\n",
    "        return data\n",
    "    else:\n",
    "        print(f\"Failed to fetch data from {url}\")\n",
    "        return []   \n",
    "\n",
    "# Function to run the process for each 15-minute interval\n",
    "#def run_process():\n",
    "# Define the time range\n",
    "start_time = datetime(2024, 5, 10, 15, 0)\n",
    "end_time = datetime(2024, 5, 12, 0, 0)\n",
    "\n",
    "current_time = start_time\n",
    "interval_minutes = 15\n",
    "\n",
    "while current_time <= end_time:\n",
    "    formatted_time = current_time.strftime(\"%Y-%m-%d-%H-%M\")\n",
    "    folder_name = formatted_time.replace(':', '-')\n",
    "    output_folder = f'C:/Users/alundkvi/Documents/work/scripts/oval_geojsons_south/{folder_name}/'\n",
    "\n",
    "    # Create output folder if it doesn't exist\n",
    "    try:\n",
    "        os.makedirs(output_folder, exist_ok=True)\n",
    "    except OSError as e:\n",
    "        print(f\"Error creating directory {output_folder}: {e}\")\n",
    "        continue\n",
    "    # Fetch data from URL\n",
    "    url = f'https://aurorasaurus.org/oval-data?end_date={current_time.strftime(\"%Y-%m-%dT%H:%M%z\")}&local_offset=0'\n",
    "    data = fetch_data_and_process(url)\n",
    "    \n",
    "    display(f\"URL: {url}\")\n",
    "\n",
    "    if data:\n",
    "        # Process each entry and generate GeoJSON-like asset\n",
    "        for index, entry in enumerate(data):\n",
    "            asset = process_entry(entry)\n",
    "            if asset:\n",
    "                # Generate output file path\n",
    "                output_file = f'{output_folder}output{index + 1}.geojson'\n",
    "\n",
    "                # Write GeoJSON-like asset to output file\n",
    "                try:\n",
    "                    with open(output_file, 'w') as out_f:\n",
    "                        json.dump(asset, out_f, indent=2)\n",
    "                    print(f'Processed entry {index + 1} saved to {output_file}')\n",
    "                except Exception as e:\n",
    "                    print(f\"Error writing to {output_file}: {e}\")\n",
    "            else:\n",
    "                print(f'Skipped entry {index + 1} due to missing or invalid data')\n",
    "\n",
    "    # Move to the next interval\n",
    "    current_time += timedelta(minutes=interval_minutes)\n",
    "\n",
    "# Schedule the job every 15 minutes\n",
    "#schedule.every(1).minutes.do(run_process)\n",
    "\n",
    "# Run indefinitely\n",
    "#while True:\n",
    "#    schedule.run_pending()\n",
    "#    time.sleep(1)"
   ]
  },
  {
   "attachments": {},
   "cell_type": "markdown",
   "metadata": {},
   "source": [
    "OVAL ASSET GENERATOR"
   ]
  },
  {
   "cell_type": "code",
   "execution_count": null,
   "metadata": {},
   "outputs": [],
   "source": [
    "import os\n",
    "import json\n",
    "from datetime import datetime\n",
    "\n",
    "# Directory where GeoJSON files are stored\n",
    "output_directory = 'C:/Users/alundkvi/Documents/work/scripts/oval_output_only_south/'\n",
    "\n",
    "# Output directory for .asset files\n",
    "asset_output_directory = 'C:/Users/alundkvi/Documents/work/scripts/oval_only_south_assets/'\n",
    "\n",
    "# Function to generate .asset content for a folder of GeoJSON files\n",
    "def generate_asset(folder_path):\n",
    "    # Extract date and time from folder name\n",
    "    folder_name = os.path.basename(folder_path)\n",
    "    date_time_str = folder_name.replace('_', ' ')\n",
    "    date_time = datetime.strptime(date_time_str, \"%Y-%m-%d %H-%M-%S\")\n",
    "\n",
    "    # Define Lua script content template\n",
    "    lua_script = f\"\"\"\n",
    "local earth = asset.require(\"scene/solarsystem/planets/earth/earth\")\n",
    "\n",
    "local geojsonPath = asset.resource(\"C:/Users/alundkvi/Documents/work/OpenSpace/user/data/assets/aurorasaurus/geojson/oval_only_south_geojsons/{folder_name}/\")\n",
    "\n",
    "\"\"\"\n",
    "# Calculate start and end times for the 15-minute interval\n",
    "    start_time_str = date_time.strftime(\"%Y %B %d %H:%M:%S\")\n",
    "    end_time = date_time + timedelta(minutes=15)\n",
    "    end_time_str = end_time.strftime(\"%Y %B %d %H:%M:%S\")\n",
    "    # Process each GeoJSON file in the folder\n",
    "    file_index = 1\n",
    "    for filename in sorted(os.listdir(folder_path)):\n",
    "        if filename.endswith('.geojson'):\n",
    "            file_path = os.path.join(folder_path, filename)\n",
    "            # Generate Lua script for each GeoJSON file\n",
    "            lua_script += f\"\"\"\n",
    "local AuroraOval{file_index} = {{\n",
    "  Identifier = \"AuroraOval_{date_time_str}_{file_index}\",\n",
    "  File = geojsonPath .. \"{filename}\",\n",
    "  TimeFrame = {{\n",
    "    Type = \"TimeFrameInterval\",\n",
    "    Start = \"{start_time_str}\",\n",
    "    End = \"{end_time_str}\"\n",
    "  }},\n",
    "  HeightOffset = 75000,\n",
    "  Name = \"AuroraOval_{date_time_str}_{file_index}\"\n",
    "}}\n",
    "\n",
    "asset.onInitialize(function()\n",
    "\n",
    "  openspace.globebrowsing.addGeoJson(earth.Earth.Identifier, AuroraOval{file_index})\n",
    "\n",
    "end)\n",
    "\n",
    "asset.onDeinitialize(function()\n",
    "\n",
    "  openspace.globebrowsing.deleteGeoJson(earth.Earth.Identifier, AuroraOval{file_index})\n",
    "\n",
    "end)\n",
    "\n",
    "\"\"\"\n",
    "            file_index += 1\n",
    "\n",
    "            # Move to the next 15-minute interval\n",
    "            date_time = end_time\n",
    "\n",
    "    # Write Lua script to .asset file in asset_output_directory\n",
    "    asset_filename = f'{folder_name}.asset'\n",
    "    asset_filepath = os.path.join(asset_output_directory, asset_filename)\n",
    "    with open(asset_filepath, 'w') as asset_file:\n",
    "        asset_file.write(lua_script)\n",
    "\n",
    "    print(f'Generated {asset_filename} in {asset_output_directory}')\n",
    "\n",
    "# Ensure asset output directory exists\n",
    "os.makedirs(asset_output_directory, exist_ok=True)\n",
    "\n",
    "# Iterate through each folder in output_directory\n",
    "for folder_name in sorted(os.listdir(output_directory)):\n",
    "    folder_path = os.path.join(output_directory, folder_name)\n",
    "    if os.path.isdir(folder_path):\n",
    "        generate_asset(folder_path)"
   ]
  },
  {
   "cell_type": "code",
   "execution_count": null,
   "metadata": {},
   "outputs": [],
   "source": [
    "from datetime import datetime, timedelta\n",
    "\n",
    "# Define start and end datetime\n",
    "start_datetime = datetime(2024, 5, 10, 15, 0, 0)\n",
    "end_datetime = datetime(2024, 5, 12, 12, 0, 0)\n",
    "\n",
    "# Define interval duration (15 minutes)\n",
    "interval = timedelta(minutes=15)\n",
    "\n",
    "# Function to generate required asset paths\n",
    "def generate_asset_requirements(start, end, interval):\n",
    "    current = start\n",
    "    while current <= end:\n",
    "        asset_path = f'asset.require(\"./oval_only_south_assets/{current.strftime(\"%Y-%m-%d_%H-%M-%S\")}\")'\n",
    "        print(asset_path)\n",
    "        current += interval\n",
    "\n",
    "# Generate asset requirements\n",
    "generate_asset_requirements(start_datetime, end_datetime, interval)\n"
   ]
  },
  {
   "cell_type": "code",
   "execution_count": null,
   "metadata": {},
   "outputs": [],
   "source": [
    "import shapely\n",
    "print(shapely.__version__)\n"
   ]
  },
  {
   "attachments": {},
   "cell_type": "markdown",
   "metadata": {},
   "source": [
    "VIEWLINE GEOJSON GENERATOR"
   ]
  },
  {
   "cell_type": "code",
   "execution_count": 18,
   "metadata": {},
   "outputs": [],
   "source": [
    "import requests\n",
    "import json\n",
    "from datetime import datetime, timedelta\n",
    "import os\n",
    "\n",
    "# Function to fetch data from URL and adjust coordinates\n",
    "def fetch_northern_coordinates(url):\n",
    "    response = requests.get(url)\n",
    "    if response.status_code == 200:\n",
    "        data = response.json()\n",
    "        northern_coordinates = data.get('northern', [])\n",
    "        # Adjust lng coordinates by removing 360\n",
    "        adjusted_coordinates = [(item['lng'] - 360, item['lat']) for item in northern_coordinates]\n",
    "        return adjusted_coordinates\n",
    "    else:\n",
    "        print(f\"Failed to fetch data from {url}\")\n",
    "        return []\n",
    "    \n",
    "    \n",
    "# Function to fetch data from URL and adjust coordinates\n",
    "def fetch_southern_coordinates(url):\n",
    "    response = requests.get(url)\n",
    "    if response.status_code == 200:\n",
    "        data = response.json()\n",
    "        southern_coordinates = data.get('southern', [])\n",
    "        # Adjust lng coordinates by removing 360\n",
    "        adjusted_coordinates = [(item['lng'] - 360, item['lat']) for item in southern_coordinates]\n",
    "        return adjusted_coordinates\n",
    "    else:\n",
    "        print(f\"Failed to fetch data from {url}\")\n",
    "        return []\n",
    "\n",
    "# Function to create LineString GeoJSON and save to file\n",
    "def create_geojson_file(coordinates, output_path):\n",
    "    if not os.path.exists(os.path.dirname(output_path)):\n",
    "        os.makedirs(os.path.dirname(output_path))\n",
    "        \n",
    "    feature_collection = {\n",
    "        \"type\": \"FeatureCollection\",\n",
    "        \"features\": []\n",
    "    }\n",
    "\n",
    "    line_feature = {\n",
    "        \"type\": \"Feature\",\n",
    "        \"properties\": {\n",
    "            \"name\": \"Aurora viewline\",\n",
    "            \"stroke\": \"#FF5733\"\n",
    "        },\n",
    "        \"geometry\": {\n",
    "            \"type\": \"LineString\",\n",
    "            \"coordinates\": coordinates\n",
    "        }\n",
    "    }\n",
    "\n",
    "    feature_collection[\"features\"].append(line_feature)\n",
    "\n",
    "    with open(output_path, 'w') as f:\n",
    "        json.dump(feature_collection, f, indent=4)\n",
    "\n",
    "# Define output directory\n",
    "output_directory = \"C:/Users/alundkvi/Documents/work/scripts/southern_viewline_asset_output/\"\n",
    "\n",
    "# Define start and end datetime\n",
    "start_datetime = datetime(2024, 5, 10, 15, 0, 0)\n",
    "end_datetime = datetime(2024, 5, 12, 0, 0, 0)\n",
    "interval = timedelta(minutes=15)\n",
    "\n",
    "# Iterate through each 15-minute interval\n",
    "current_datetime = start_datetime\n",
    "while current_datetime <= end_datetime:\n",
    "    # Construct URL for the current interval\n",
    "    formatted_datetime = current_datetime.strftime(\"%Y-%m-%dT%H:%M:%S%z\")\n",
    "    url = f\"https://aurorasaurus.org/view-lines?end_date={formatted_datetime}&format=json&local_offset=0\"\n",
    "\n",
    "    # Fetch northern coordinates from URL\n",
    "    #northern_coordinates = fetch_northern_coordinates(url)\n",
    "\n",
    "    # Fetch southern coordinates from URL\n",
    "    southern_coordinates = fetch_southern_coordinates(url)\n",
    "\n",
    "    # Create output filename based on datetime\n",
    "    output_filename = current_datetime.strftime(\"%Y-%m-%d_%H-%M-%S\") + \".geojson\"\n",
    "    output_path = os.path.join(output_directory, output_filename)\n",
    "\n",
    "    # Create GeoJSON file with northern coordinates in the specified format\n",
    "    #create_geojson_file(northern_coordinates, output_path)\n",
    "    \n",
    "    # Create GeoJSON file with southern coordinates in the specified format\n",
    "    create_geojson_file(southern_coordinates, output_path)\n",
    "\n",
    "    # Move to the next interval\n",
    "    current_datetime += interval\n"
   ]
  },
  {
   "attachments": {},
   "cell_type": "markdown",
   "metadata": {},
   "source": [
    "VIEWLINE ASSET GENERATOR\n"
   ]
  },
  {
   "cell_type": "code",
   "execution_count": 21,
   "metadata": {},
   "outputs": [
    {
     "name": "stdout",
     "output_type": "stream",
     "text": [
      "Generated southernViewline.asset in C:/Users/alundkvi/Documents/work/scripts/southern_viewline_asset/\n"
     ]
    }
   ],
   "source": [
    "import os\n",
    "import json\n",
    "from datetime import datetime\n",
    "\n",
    "# Directory where GeoJSON files are stored\n",
    "output_directory = 'C:/Users/alundkvi/Documents/work/scripts/southern_viewline_asset_output/'\n",
    "\n",
    "# Output directory for .asset files\n",
    "asset_output_directory = 'C:/Users/alundkvi/Documents/work/scripts/southern_viewline_asset/'\n",
    "\n",
    "# Function to generate .asset content for a folder of GeoJSON files\n",
    "def generate_asset(folder_path):\n",
    "    # Define Lua script content template\n",
    "    lua_script = f\"\"\"\n",
    "local earth = asset.require(\"scene/solarsystem/planets/earth/earth\")\n",
    "\n",
    "local geojsonPath = asset.resource(\"geojson/southern_viewline_geojsons/\")\n",
    "\n",
    "\"\"\"\n",
    "\n",
    "    # Process each GeoJSON file in the folder\n",
    "    file_index = 1\n",
    "    for filename in sorted(os.listdir(folder_path)):\n",
    "        if filename.endswith('.geojson'):\n",
    "             # Extract date and time from file name\n",
    "            date_time_str = filename.replace('_', ' ')\n",
    "            date_time_str = date_time_str.replace('.geojson', '')\n",
    "            date_time = datetime.strptime(date_time_str, \"%Y-%m-%d %H-%M-%S\")\n",
    "\n",
    "        # Calculate start and end times for the 15-minute interval\n",
    "            start_time_str = date_time.strftime(\"%Y %B %d %H:%M:%S\")\n",
    "            end_time = date_time + timedelta(minutes=15)\n",
    "            end_time_str = end_time.strftime(\"%Y %B %d %H:%M:%S\")\n",
    "            file_path = os.path.join(folder_path, filename)\n",
    "            # Generate Lua script for each GeoJSON file\n",
    "            lua_script += f\"\"\"\n",
    "local southern_viewline_{file_index} = {{\n",
    "  Identifier = \"southern_viewline_{date_time_str}_{file_index}\",\n",
    "  File = geojsonPath .. \"{filename}\",\n",
    "  TimeFrame = {{\n",
    "    Type = \"TimeFrameInterval\",\n",
    "    Start = \"{start_time_str}\",\n",
    "    End = \"{end_time_str}\"\n",
    "  }},\n",
    "  HeightOffset = 75000,\n",
    "  Name = \"southern_viewline_{date_time_str}_{file_index}\"\n",
    "}}\n",
    "\n",
    "\"\"\"\n",
    "            file_index += 1\n",
    "\n",
    "            # Move to the next 15-minute interval\n",
    "            date_time = end_time\n",
    "\n",
    "\n",
    "    lua_script += f\"\"\"\n",
    "asset.onInitialize(function()\n",
    "\"\"\"\n",
    "\n",
    "    for i in range(1, file_index):\n",
    "      lua_script += f\"\"\"openspace.globebrowsing.addGeoJson(earth.Earth.Identifier, southern_viewline_{i})\n",
    "\"\"\"\n",
    "    lua_script += f\"\"\"\n",
    "end)\n",
    "\"\"\"\n",
    "\n",
    "\n",
    "    lua_script += f\"\"\"\n",
    "asset.onDeinitialize(function()\n",
    "\"\"\"\n",
    "    for i in range(1, file_index):\n",
    "      lua_script += f\"\"\"openspace.globebrowsing.deleteGeoJson(earth.Earth.Identifier, southern_viewline_{i})\n",
    "\"\"\"\n",
    "    lua_script += f\"\"\"\n",
    "end)\n",
    "\n",
    "\"\"\"\n",
    "    # Write Lua script to .asset file in asset_output_directory\n",
    "    asset_filename = 'southernViewline.asset'\n",
    "    asset_filepath = os.path.join(asset_output_directory, asset_filename)\n",
    "    with open(asset_filepath, 'w') as asset_file:\n",
    "        asset_file.write(lua_script)\n",
    "\n",
    "    print(f'Generated {asset_filename} in {asset_output_directory}')\n",
    "\n",
    "# Ensure asset output directory exists\n",
    "os.makedirs(asset_output_directory, exist_ok=True)\n",
    "\n",
    "generate_asset(output_directory)"
   ]
  },
  {
   "cell_type": "code",
   "execution_count": null,
   "metadata": {},
   "outputs": [],
   "source": [
    "!pip install geopandas"
   ]
  },
  {
   "cell_type": "code",
   "execution_count": null,
   "metadata": {},
   "outputs": [],
   "source": [
    "import json\n",
    "from PIL import Image, ImageDraw\n",
    "from shapely.geometry import shape\n",
    "from pyproj import Transformer\n",
    "\n",
    "# Read GeoJSON file\n",
    "geojson_file = 'C:/Users/alundkvi/Documents/work/OpenSpace/user/data/assets/aurorasaurus/geojson/oval_geojsons/2024-05-10_19-00-00/output2.geojson'\n",
    "\n",
    "with open(geojson_file, 'r') as f:\n",
    "    geojson_data = json.load(f)\n",
    "\n",
    "# Check if the file is a FeatureCollection or a single Feature\n",
    "if geojson_data['type'] == 'FeatureCollection':\n",
    "    features = geojson_data['features']\n",
    "elif geojson_data['type'] == 'Feature':\n",
    "    features = [geojson_data]\n",
    "else:\n",
    "    raise ValueError('Unsupported GeoJSON format')\n",
    "\n",
    "# Calculate image size and bounds\n",
    "width, height = 5400, 2700  # Image dimensions\n",
    "xmin, ymin, xmax, ymax = float('inf'), float('inf'), float('-inf'), float('-inf')\n",
    "\n",
    "for feature in features:\n",
    "    geom = shape(feature['geometry'])\n",
    "    xmin = min(xmin, geom.bounds[0])\n",
    "    ymin = min(ymin, geom.bounds[1])\n",
    "    xmax = max(xmax, geom.bounds[2])\n",
    "    ymax = max(ymax, geom.bounds[3])\n",
    "\n",
    "print(f\"xmin: {xmin}, ymin: {ymin}, xmax: {xmax}, ymax: {ymax}\")\n",
    "\n",
    "# Create a blank image canvas\n",
    "image = Image.new('RGBA', (width, height), (255, 255, 255, 0))  # Transparent background\n",
    "draw = ImageDraw.Draw(image)\n",
    "\n",
    "# Define a function to scale and project coordinates to fit image dimensions\n",
    "transformer = Transformer.from_crs('epsg:4326', 'epsg:3857', always_xy=True)\n",
    "\n",
    "def project_and_scale(x, y):\n",
    "    projected_x, projected_y = transformer.transform(x, y)\n",
    "    scaled_x = width * (projected_x - xmin) / (xmax - xmin)\n",
    "    scaled_y = height * (ymax - projected_y) / (ymax - ymin)\n",
    "    return (scaled_x, height - scaled_y)  # Flip y-axis for image coordinates\n",
    "\n",
    "# Draw each polygon with its specified fill color\n",
    "for feature in features:\n",
    "    geom = shape(feature['geometry'])\n",
    "    coords = [project_and_scale(x, y) for x, y in geom.exterior.coords]\n",
    "    fill_color = feature['properties']['fill']\n",
    "    draw.polygon(coords, fill=fill_color, outline='black')\n",
    "\n",
    "output_file = 'geojsonImages/output_image.png'\n",
    "image.save(output_file)\n",
    "print(f\"Image saved: {output_file}\")\n",
    "\n",
    "# Show image (optional for verification)\n",
    "image.show()\n"
   ]
  },
  {
   "cell_type": "code",
   "execution_count": null,
   "metadata": {},
   "outputs": [],
   "source": [
    "!pip install matplotlib geopandas"
   ]
  },
  {
   "cell_type": "code",
   "execution_count": null,
   "metadata": {},
   "outputs": [],
   "source": [
    "import geopandas as gpd\n",
    "import matplotlib.pyplot as plt\n",
    "from matplotlib.patches import Polygon\n",
    "from matplotlib.collections import PatchCollection\n",
    "from shapely.geometry import shape\n",
    "from PIL import Image\n",
    "\n",
    "# Load GeoJSON file\n",
    "geojson_file = 'C:/Users/alundkvi/Documents/work/OpenSpace/user/data/assets/aurorasaurus/geojson/oval_geojsons/2024-05-10_19-00-00/output2.geojson'\n",
    "gdf = gpd.read_file(geojson_file)\n",
    "\n",
    "# Initialize matplotlib figure\n",
    "fig, ax = plt.subplots(figsize=(54, 27))  # Size in inches (5400 / 100, 2700 / 100)\n",
    "\n",
    "# Iterate over each feature in GeoDataFrame\n",
    "for feature in gdf.iterrows():\n",
    "    geom = shape(feature[1]['geometry'])\n",
    "    if geom.geom_type == 'Polygon':\n",
    "        coords = geom.exterior.coords.xy\n",
    "        poly = Polygon(list(zip(coords[0], coords[1])), closed=True)\n",
    "        #fill_color = feature['properties']['fill']\n",
    "        print(coords)\n",
    "        ax.add_patch(poly)\n",
    "\n",
    "# Set limits and aspect ratio\n",
    "ax.set_xlim(-180, 180)\n",
    "ax.set_ylim(-90, 90)\n",
    "ax.set_aspect('equal')\n",
    "\n",
    "# Save the plot as an image\n",
    "plt.axis('off')\n",
    "plt.subplots_adjust(left=0, right=1, top=1, bottom=0)  # Adjust margins\n",
    "plt.savefig('geojsonImages/output_image.png', dpi=100, bbox_inches='tight', pad_inches=0)\n",
    "plt.close()\n",
    "\n",
    "# Resize image to 5400 x 2700 using PIL\n",
    "image = Image.open('geojsonImages/output_image.png')\n",
    "resized_image = image.resize((5400, 2700), Image.ANTIALIAS)\n",
    "resized_image.save('geojsonImages/resized_output_image.png')"
   ]
  },
  {
   "cell_type": "code",
   "execution_count": null,
   "metadata": {},
   "outputs": [],
   "source": [
    "!pip install GDAL\n"
   ]
  },
  {
   "cell_type": "code",
   "execution_count": null,
   "metadata": {},
   "outputs": [],
   "source": [
    "!pip install Fiona\n"
   ]
  },
  {
   "cell_type": "code",
   "execution_count": null,
   "metadata": {},
   "outputs": [],
   "source": [
    "!pip install Shapely"
   ]
  },
  {
   "cell_type": "code",
   "execution_count": null,
   "metadata": {},
   "outputs": [],
   "source": [
    "!pip uninstall numpy"
   ]
  },
  {
   "cell_type": "code",
   "execution_count": null,
   "metadata": {},
   "outputs": [],
   "source": [
    "!pip install Fiona"
   ]
  },
  {
   "cell_type": "code",
   "execution_count": null,
   "metadata": {},
   "outputs": [],
   "source": [
    "!pip install numpy==1.21.2"
   ]
  },
  {
   "cell_type": "code",
   "execution_count": 55,
   "metadata": {},
   "outputs": [
    {
     "name": "stdout",
     "output_type": "stream",
     "text": [
      "runns\n",
      "runns\n"
     ]
    },
    {
     "name": "stderr",
     "output_type": "stream",
     "text": [
      "C:\\Users\\alundkvi\\AppData\\Local\\Temp\\1\\ipykernel_40232\\2050354773.py:111: DeprecationWarning: ANTIALIAS is deprecated and will be removed in Pillow 10 (2023-07-01). Use Resampling.LANCZOS instead.\n",
      "  resized_image_neg = image_neg.resize((5400, 2700), Image.ANTIALIAS)\n"
     ]
    },
    {
     "ename": "KeyboardInterrupt",
     "evalue": "",
     "output_type": "error",
     "traceback": [
      "\u001b[1;31m---------------------------------------------------------------------------\u001b[0m",
      "\u001b[1;31mKeyboardInterrupt\u001b[0m                         Traceback (most recent call last)",
      "\u001b[1;32m~\\AppData\\Local\\Temp\\1\\ipykernel_40232\\2050354773.py\u001b[0m in \u001b[0;36m<module>\u001b[1;34m\u001b[0m\n\u001b[0;32m    112\u001b[0m \u001b[0mresized_image_neg\u001b[0m\u001b[1;33m.\u001b[0m\u001b[0msave\u001b[0m\u001b[1;33m(\u001b[0m\u001b[1;34m'geojsonImages/resized_negative_longitude_output.png'\u001b[0m\u001b[1;33m,\u001b[0m \u001b[0mformat\u001b[0m\u001b[1;33m=\u001b[0m\u001b[1;34m'PNG'\u001b[0m\u001b[1;33m)\u001b[0m\u001b[1;33m\u001b[0m\u001b[1;33m\u001b[0m\u001b[0m\n\u001b[0;32m    113\u001b[0m \u001b[1;33m\u001b[0m\u001b[0m\n\u001b[1;32m--> 114\u001b[1;33m \u001b[0mimage_pos\u001b[0m \u001b[1;33m=\u001b[0m \u001b[0mImage\u001b[0m\u001b[1;33m.\u001b[0m\u001b[0mopen\u001b[0m\u001b[1;33m(\u001b[0m\u001b[1;34m'geojsonImages/positive_longitude_output.png'\u001b[0m\u001b[1;33m)\u001b[0m\u001b[1;33m.\u001b[0m\u001b[0mconvert\u001b[0m\u001b[1;33m(\u001b[0m\u001b[1;34m'RGBA'\u001b[0m\u001b[1;33m)\u001b[0m\u001b[1;33m\u001b[0m\u001b[1;33m\u001b[0m\u001b[0m\n\u001b[0m\u001b[0;32m    115\u001b[0m \u001b[0mresized_image_pos\u001b[0m \u001b[1;33m=\u001b[0m \u001b[0mimage_pos\u001b[0m\u001b[1;33m.\u001b[0m\u001b[0mresize\u001b[0m\u001b[1;33m(\u001b[0m\u001b[1;33m(\u001b[0m\u001b[1;36m5400\u001b[0m\u001b[1;33m,\u001b[0m \u001b[1;36m2700\u001b[0m\u001b[1;33m)\u001b[0m\u001b[1;33m,\u001b[0m \u001b[0mImage\u001b[0m\u001b[1;33m.\u001b[0m\u001b[0mANTIALIAS\u001b[0m\u001b[1;33m)\u001b[0m\u001b[1;33m\u001b[0m\u001b[1;33m\u001b[0m\u001b[0m\n\u001b[0;32m    116\u001b[0m \u001b[0mresized_image_pos\u001b[0m\u001b[1;33m.\u001b[0m\u001b[0msave\u001b[0m\u001b[1;33m(\u001b[0m\u001b[1;34m'geojsonImages/resized_positive_longitude_output.png'\u001b[0m\u001b[1;33m,\u001b[0m \u001b[0mformat\u001b[0m\u001b[1;33m=\u001b[0m\u001b[1;34m'PNG'\u001b[0m\u001b[1;33m)\u001b[0m\u001b[1;33m\u001b[0m\u001b[1;33m\u001b[0m\u001b[0m\n",
      "\u001b[1;32mc:\\ProgramData\\Anaconda3\\lib\\site-packages\\PIL\\Image.py\u001b[0m in \u001b[0;36mconvert\u001b[1;34m(self, mode, matrix, dither, palette, colors)\u001b[0m\n\u001b[0;32m    899\u001b[0m         \"\"\"\n\u001b[0;32m    900\u001b[0m \u001b[1;33m\u001b[0m\u001b[0m\n\u001b[1;32m--> 901\u001b[1;33m         \u001b[0mself\u001b[0m\u001b[1;33m.\u001b[0m\u001b[0mload\u001b[0m\u001b[1;33m(\u001b[0m\u001b[1;33m)\u001b[0m\u001b[1;33m\u001b[0m\u001b[1;33m\u001b[0m\u001b[0m\n\u001b[0m\u001b[0;32m    902\u001b[0m \u001b[1;33m\u001b[0m\u001b[0m\n\u001b[0;32m    903\u001b[0m         \u001b[0mhas_transparency\u001b[0m \u001b[1;33m=\u001b[0m \u001b[0mself\u001b[0m\u001b[1;33m.\u001b[0m\u001b[0minfo\u001b[0m\u001b[1;33m.\u001b[0m\u001b[0mget\u001b[0m\u001b[1;33m(\u001b[0m\u001b[1;34m\"transparency\"\u001b[0m\u001b[1;33m)\u001b[0m \u001b[1;32mis\u001b[0m \u001b[1;32mnot\u001b[0m \u001b[1;32mNone\u001b[0m\u001b[1;33m\u001b[0m\u001b[1;33m\u001b[0m\u001b[0m\n",
      "\u001b[1;32mc:\\ProgramData\\Anaconda3\\lib\\site-packages\\PIL\\ImageFile.py\u001b[0m in \u001b[0;36mload\u001b[1;34m(self)\u001b[0m\n\u001b[0;32m    255\u001b[0m \u001b[1;33m\u001b[0m\u001b[0m\n\u001b[0;32m    256\u001b[0m                             \u001b[0mb\u001b[0m \u001b[1;33m=\u001b[0m \u001b[0mb\u001b[0m \u001b[1;33m+\u001b[0m \u001b[0ms\u001b[0m\u001b[1;33m\u001b[0m\u001b[1;33m\u001b[0m\u001b[0m\n\u001b[1;32m--> 257\u001b[1;33m                             \u001b[0mn\u001b[0m\u001b[1;33m,\u001b[0m \u001b[0merr_code\u001b[0m \u001b[1;33m=\u001b[0m \u001b[0mdecoder\u001b[0m\u001b[1;33m.\u001b[0m\u001b[0mdecode\u001b[0m\u001b[1;33m(\u001b[0m\u001b[0mb\u001b[0m\u001b[1;33m)\u001b[0m\u001b[1;33m\u001b[0m\u001b[1;33m\u001b[0m\u001b[0m\n\u001b[0m\u001b[0;32m    258\u001b[0m                             \u001b[1;32mif\u001b[0m \u001b[0mn\u001b[0m \u001b[1;33m<\u001b[0m \u001b[1;36m0\u001b[0m\u001b[1;33m:\u001b[0m\u001b[1;33m\u001b[0m\u001b[1;33m\u001b[0m\u001b[0m\n\u001b[0;32m    259\u001b[0m                                 \u001b[1;32mbreak\u001b[0m\u001b[1;33m\u001b[0m\u001b[1;33m\u001b[0m\u001b[0m\n",
      "\u001b[1;31mKeyboardInterrupt\u001b[0m: "
     ]
    }
   ],
   "source": [
    "import geopandas as gpd\n",
    "import matplotlib.pyplot as plt\n",
    "from matplotlib.patches import Polygon\n",
    "from PIL import Image\n",
    "\n",
    "# Load GeoJSON file\n",
    "geojson_file = 'C:/Users/alundkvi/Documents/work/scripts/oval_asset_output_not_simplified/2024-05-10_19-00-00/output1.geojson'\n",
    "gdf = gpd.read_file(geojson_file)\n",
    "\n",
    "# Initialize matplotlib figure with the desired aspect ratio\n",
    "fig_neg, ax_neg = plt.subplots(figsize=(54, 27))  # Size in inches (5400 / 100, 2700 / 100) for negative longitudes\n",
    "fig_pos, ax_pos = plt.subplots(figsize=(54, 27))  # Size in inches (5400 / 100, 2700 / 100) for positive longitudes\n",
    "\n",
    "# Set global plot limits for entire Earth\n",
    "ax_neg.set_xlim(-180, 180)\n",
    "ax_neg.set_ylim(-90, 90)\n",
    "ax_neg.set_aspect('equal')\n",
    "\n",
    "ax_pos.set_xlim(-180, 180)\n",
    "ax_pos.set_ylim(-90, 90)\n",
    "ax_pos.set_aspect('equal')\n",
    "\n",
    "# Function to correct longitude to be within -180 to 180 range\n",
    "def correct_longitude(lon):\n",
    "    while lon > 180:\n",
    "        lon -= 360\n",
    "    while lon < -180:\n",
    "        lon += 360\n",
    "    return lon\n",
    "\n",
    "\n",
    "# Lists to hold coordinates for negative and positive longitudes\n",
    "negative_coords = []\n",
    "positive_coords = []\n",
    "\n",
    "# Iterate over each feature in GeoDataFrame\n",
    "for index, row in gdf.iterrows():\n",
    "    geom = row['geometry']\n",
    "    if geom.geom_type == 'Polygon':\n",
    "        \n",
    "        # Extract fill color - adjust according to your GeoJSON structure\n",
    "        if 'fill' in row:  # Check if 'fill' property exists directly\n",
    "            fill_color = row['fill']\n",
    "        elif 'properties' in row and 'fill' in row['properties']:  # Check nested structure\n",
    "            fill_color = row['properties']['fill']\n",
    "        else:\n",
    "            fill_color = '#a6ff00'  # Default fill color if not found\n",
    "        \n",
    "        coords = geom.exterior.coords.xy\n",
    "\n",
    "        # Handle wrapping around the globe for longitude and ensure closure\n",
    "        wrapped_coords = [(correct_longitude(x), y) for x, y in zip(coords[0], coords[1])]\n",
    "        \n",
    "        \n",
    "        # Split wrapped coordinates into positive and negative based on longitude\n",
    "        positive_polygon = []\n",
    "        negative_polygon = []\n",
    "        \n",
    "        for lon, lat in wrapped_coords:\n",
    "            if lon >= -90:\n",
    "                positive_polygon.append((lon, lat))\n",
    "            else:\n",
    "                negative_polygon.append((lon, lat))\n",
    "        \n",
    "        # Add points to ensure polygons extend to image edges\n",
    "        if positive_polygon:\n",
    "            # Add point at 180 longitude if not already present\n",
    "            if not any(lon == -180 for lon, lat in negative_polygon):\n",
    "                print('runns')\n",
    "                max_lat = max(lat for lon, lat in positive_polygon)\n",
    "                min_lat = min(lat for lon, lat in positive_polygon)\n",
    "                positive_polygon.append((180, max_lat))\n",
    "                positive_polygon.append((180, min_lat))\n",
    "            positive_coords.append(positive_polygon)\n",
    "        \n",
    "        if negative_polygon:\n",
    "            # Add point at -180 longitude if not already present\n",
    "            if not any(lon == -180 for lon, lat in negative_polygon):\n",
    "                print('runns')\n",
    "                min_lat2 = min(lat for lon, lat in positive_polygon)\n",
    "                max_lat2 = max(lat for lon, lat in negative_polygon)\n",
    "                negative_polygon.insert(0,(-180, max_lat2))\n",
    "                negative_polygon.insert(0,(-180, min_lat2))\n",
    "            negative_coords.append(negative_polygon)\n",
    "\n",
    "# Create polygons for negative longitudes\n",
    "for coords in negative_coords:\n",
    "    poly_neg = Polygon(coords, closed=True)\n",
    "    poly_neg.set_facecolor(fill_color) \n",
    "    ax_neg.add_patch(poly_neg)\n",
    "\n",
    "# Create polygons for positive longitudes\n",
    "for coords in positive_coords:\n",
    "    poly_pos = Polygon(coords, closed=True)\n",
    "    poly_pos.set_facecolor(fill_color) \n",
    "    ax_pos.add_patch(poly_pos)\n",
    "\n",
    "# Save the plots as images with transparent backgrounds\n",
    "ax_neg.axis('off')\n",
    "fig_neg.subplots_adjust(left=0, right=1, top=1, bottom=0)  # Adjust margins for fig_neg\n",
    "fig_neg.savefig('geojsonImages/negative_longitude_output.png', dpi=100, bbox_inches='tight', pad_inches=0, transparent=True)\n",
    "plt.close(fig_neg)\n",
    "\n",
    "ax_pos.axis('off')\n",
    "fig_pos.subplots_adjust(left=0, right=1, top=1, bottom=0)  # Adjust margins for fig_pos\n",
    "fig_pos.savefig('geojsonImages/positive_longitude_output.png', dpi=100, bbox_inches='tight', pad_inches=0, transparent=True)\n",
    "plt.close(fig_pos)\n",
    "\n",
    "# Resize images to 5400 x 2700 using PIL and make background transparent\n",
    "image_neg = Image.open('geojsonImages/negative_longitude_output.png').convert('RGBA')\n",
    "resized_image_neg = image_neg.resize((5400, 2700), Image.ANTIALIAS)\n",
    "resized_image_neg.save('geojsonImages/resized_negative_longitude_output.png', format='PNG')\n",
    "\n",
    "image_pos = Image.open('geojsonImages/positive_longitude_output.png').convert('RGBA')\n",
    "resized_image_pos = image_pos.resize((5400, 2700), Image.ANTIALIAS)\n",
    "resized_image_pos.save('geojsonImages/resized_positive_longitude_output.png', format='PNG')\n"
   ]
  },
  {
   "cell_type": "code",
   "execution_count": 7,
   "metadata": {},
   "outputs": [
    {
     "name": "stdout",
     "output_type": "stream",
     "text": [
      "[(190, 60.207053), (179.382043, 60.207053), (178.307105, 60.226625), (177.231844, 60.242213), (175.887334, 60.256224), (175.080407, 60.261773), (174.273323, 60.265223), (172.927847, 60.266402), (171.312759, 60.260476), (169.966452, 60.249614), (168.350447, 60.229713), (167.003444, 60.207599), (165.386683, 60.174671), (164.039118, 60.142097), (162.421764, 60.09709), (160.804154, 60.045895), (159.186336, 59.988793), (157.568358, 59.926066), (155.950269, 59.857998), (154.332116, 59.784869), (152.444254, 59.693533), (151.09581, 59.62456), (149.477754, 59.537944), (148.12947, 59.462749), (146.511686, 59.369141), (144.894118, 59.272119), (143.276815, 59.171965), (141.659824, 59.068961), (139.773794, 58.945565), (136.811207, 58.745672), (133.312178, 58.502114), (130.084829, 58.272601), (122.029628, 57.69421), (119.617401, 57.523306), (117.475114, 57.373796), (115.334749, 57.227246), (113.196419, 57.084324), (111.060239, 56.9457), (109.192933, 56.828454), (106.79478, 56.684017), (104.66573, 56.562297), (102.539284, 56.44755), (100.68087, 56.353391), (98.824614, 56.265531), (96.970535, 56.184406), (95.118439, 56.110405), (93.26808, 56.043908), (92.211415, 56.009425), (91.155191, 55.977586), (90.099361, 55.948462), (89.043878, 55.922125), (87.988697, 55.898644), (86.933772, 55.878091), (85.879056, 55.860536), (85.088129, 55.84938), (84.033668, 55.837242), (82.979291, 55.828297), (81.92495, 55.822615), (81.13419, 55.820537), (80.079802, 55.820736), (79.025324, 55.824393), (77.970709, 55.831578), (77.179631, 55.839325), (76.124667, 55.852856), (75.333274, 55.865443), (74.277819, 55.885535), (73.486005, 55.903124), (72.429918, 55.929994), (71.637577, 55.952749), (70.580717, 55.986613), (69.787743, 56.014695), (68.729969, 56.055771), (67.936257, 56.089342), (66.877427, 56.137846), (66.08287, 56.177069), (65.022843, 56.233217), (64.227336, 56.278255), (63.431388, 56.325834), (62.634982, 56.375985), (61.572358, 56.446904), (60.508837, 56.522519), (59.444374, 56.602899), (58.645379, 56.666355), (57.579154, 56.755246), (56.778785, 56.825165), (55.710657, 56.922783), (54.908808, 56.99933), (53.838636, 57.105891), (53.035202, 57.189226), (51.962845, 57.304948), (51.157718, 57.395235), (50.083035, 57.520333), (49.276111, 57.617734), (48.19896, 57.752426), (47.390132, 57.857102), (46.310372, 58.001604), (45.499535, 58.113719), (44.417026, 58.268247), (43.604073, 58.387963), (42.518672, 58.552734), (41.703498, 58.680213), (40.88734, 58.81107), (40.070178, 58.945333), (38.979033, 59.129701), (38.159453, 59.272029), (37.065014, 59.467259), (36.24291, 59.617814), (35.145035, 59.824122), (34.320301, 59.983068), (33.494408, 60.145658), (32.667336, 60.311924), (31.839066, 60.481895), (31.28621, 60.597282), (30.178852, 60.833072), (29.069259, 61.075607), (27.957422, 61.324933), (26.843868, 61.580702), (25.450955, 61.90848), (24.337017, 62.17635), (22.946658, 62.517162), (21.837191, 62.793787), (20.455453, 63.143451), (19.081126, 63.496227), (17.444352, 63.921847), (16.092919, 64.276923), (14.754889, 64.63098), (10.077894, 65.877197), (8.331312, 66.340802), (6.633018, 66.78723), (4.98815, 67.212939), (4.074191, 67.445537), (3.401847, 67.614389), (2.741204, 67.778134), (2.092666, 67.936495), (1.456637, 68.089191), (0.833522, 68.235945), (-0.558959, 68.555825), (-0.932101, 68.643043), (-1.289719, 68.729281), (-1.629329, 68.815021), (-1.948446, 68.900742), (-2.099543, 68.943745), (-2.244586, 68.986925), (-2.383262, 69.030339), (-2.515263, 69.074049), (-2.640277, 69.118115), (-2.757993, 69.162596), (-2.868102, 69.207553), (-2.970291, 69.253045), (-3.064252, 69.299134), (-3.149673, 69.345878), (-3.226243, 69.393338), (-3.293653, 69.441574), (-3.351591, 69.490645), (-3.399747, 69.540613), (-3.43781, 69.591536), (-3.465576, 69.643453), (-3.483188, 69.696328), (-3.49086, 69.750109), (-3.488805, 69.804746), (-3.477236, 69.860187), (-3.456367, 69.916383), (-3.426411, 69.973282), (-3.387582, 70.030833), (-3.340094, 70.088985), (-3.284158, 70.147688), (-3.21999, 70.20689), (-3.147803, 70.266541), (-3.067809, 70.32659), (-2.980223, 70.386986), (-2.885258, 70.447678), (-2.783127, 70.508615), (-2.674044, 70.569746), (-2.558222, 70.63102), (-2.435875, 70.692387), (-2.307215, 70.753796), (-2.172458, 70.815196), (-2.031815, 70.876535), (-1.885501, 70.937763), (-1.733728, 70.99883), (-1.576711, 71.059684), (-1.247797, 71.180549), (-1.076326, 71.240459), (-0.720426, 71.358979), (-0.348667, 71.475428), (-0.157299, 71.532778), (0.236005, 71.645723), (0.642972, 71.756372), (0.851418, 71.81085), (1.277914, 71.918144), (1.716784, 72.023263), (1.940699, 72.075022), (2.397168, 72.176969), (2.864725, 72.276862), (3.585725, 72.422958), (4.078752, 72.51793), (4.835543, 72.656873), (5.350822, 72.747228), (6.138579, 72.879474), (6.672893, 72.965517), (7.48679, 73.091522), (8.314054, 73.214001), (9.152949, 73.33312), (10.001736, 73.449042), (10.85868, 73.561932), (11.722042, 73.671954), (12.880173, 73.814473), (14.042509, 73.952574), (15.204932, 74.086648), (16.364266, 74.217008), (17.808488, 74.374865), (18.959982, 74.497137), (20.394596, 74.645043), (21.538558, 74.759479), (22.96395, 74.897746), (24.100688, 75.004597), (25.517244, 75.133538), (26.647068, 75.233054), (28.055173, 75.352982), (29.178391, 75.445413), (30.578432, 75.556642), (31.695353, 75.642239), (33.087715, 75.745081), (34.198648, 75.824093), (35.583717, 75.918863), (36.964901, 76.009282), (38.34232, 76.095448), (39.441624, 76.161383), (40.812564, 76.240137), (42.180073, 76.314907), (43.544268, 76.385792), (44.905269, 76.452887), (46.263195, 76.516289), (47.618165, 76.576094), (48.970299, 76.6324), (50.319715, 76.685303), (51.666532, 76.734899), (53.010869, 76.781286), (54.620969, 76.832849), (55.960271, 76.872514), (57.297475, 76.909278), (58.632699, 76.943238), (60.232523, 76.980426), (61.563812, 77.008557), (63.159259, 77.03903), (64.752611, 77.066078), (66.344073, 77.089867), (67.933851, 77.110564), (69.522151, 77.128337), (71.109178, 77.143352), (72.695138, 77.155776), (74.280238, 77.165776), (76.128707, 77.174602), (77.712647, 77.179923), (79.560328, 77.183748), (81.672033, 77.1853), (84.048374, 77.183927), (86.690403, 77.179186), (89.335091, 77.171809), (93.043933, 77.158524), (102.629452, 77.120366), (109.597247, 77.088806), (114.70907, 77.059145), (117.135543, 77.042231), (119.56493, 77.02307), (121.726624, 77.003912), (123.890235, 76.982537), (126.055582, 76.958737), (128.222484, 76.932305), (131.74655, 76.883203), (135.002081, 76.830449), (136.630565, 76.801172), (138.259428, 76.769844), (139.888591, 76.736378), (141.517979, 76.700686), (143.147516, 76.66268), (144.777124, 76.622273), (146.406727, 76.579377), (147.764671, 76.541667), (149.394067, 76.49398), (150.751731, 76.452154), (152.380663, 76.399383), (153.737833, 76.353196), (155.366044, 76.295045), (156.722506, 76.244252), (158.078575, 76.191285), (159.434207, 76.136093), (161.060327, 76.066852), (162.414842, 76.006585), (163.768778, 75.94393), (165.122092, 75.878836), (166.474739, 75.811252), (167.826674, 75.741129), (169.177854, 75.668415), (170.528234, 75.59306), (171.877769, 75.515012), (173.226417, 75.434221), (174.574132, 75.350637), (175.651602, 75.281724), (176.997527, 75.192983), (178.342395, 75.101306), (179.686162, 75.006643), (190, 75.006643)]\n",
      "[(190, 60.201528), (179.650725, 60.201528), (178.575871, 60.222109), (177.500689, 60.238685), (176.425194, 60.251341), (175.080407, 60.261773), (173.735182, 60.266373), (172.389545, 60.265304), (170.774278, 60.256767), (169.427835, 60.2438), (167.81168, 60.22146), (166.464565, 60.197386), (164.847684, 60.162191), (163.500031, 60.1278), (161.882586, 60.080699), (160.264902, 60.027503), (158.647025, 59.968495), (157.029005, 59.903956), (155.410889, 59.83417), (153.792725, 59.759417), (152.174562, 59.679981), (150.826127, 59.610409), (149.208089, 59.523118), (147.859827, 59.447397), (146.242075, 59.3532), (144.624548, 59.255637), (143.007294, 59.154988), (141.39036, 59.051537), (139.773794, 58.945565), (136.811207, 58.745672), (133.312178, 58.502114), (130.084829, 58.272601), (122.029628, 57.69421), (119.617401, 57.523306), (117.475114, 57.373796), (115.334749, 57.227246), (113.196419, 57.084324), (111.060239, 56.9457), (109.192933, 56.828454), (107.061089, 56.699689), (104.931721, 56.577145), (102.804944, 56.461489), (100.946228, 56.366467), (99.089658, 56.27768), (97.235276, 56.195568), (95.382913, 56.120526), (93.53232, 56.052934), (92.475538, 56.0178), (91.419208, 55.985294), (90.363284, 55.955485), (89.307719, 55.928444), (88.252466, 55.904243), (87.197482, 55.882951), (86.142718, 55.86464), (85.351762, 55.852905), (84.297274, 55.83998), (83.24288, 55.83023), (82.188534, 55.823725), (81.397778, 55.82102), (80.343406, 55.820365), (79.552577, 55.822128), (78.498037, 55.82754), (77.707029, 55.833934), (76.652179, 55.84563), (75.860887, 55.856817), (74.805587, 55.875012), (74.013904, 55.891156), (72.958012, 55.916067), (72.165832, 55.937329), (71.109208, 55.969174), (70.316425, 55.995716), (69.258927, 56.03471), (68.465436, 56.066696), (67.406922, 56.113056), (66.612617, 56.150647), (65.552947, 56.204589), (64.757722, 56.247949), (63.96207, 56.293831), (63.165971, 56.342264), (62.103779, 56.410862), (61.040713, 56.48412), (59.976726, 56.562109), (59.178105, 56.623747), (58.112397, 56.710185), (57.312432, 56.778241), (56.244862, 56.873343), (55.443447, 56.94798), (54.373873, 57.051964), (53.303091, 57.161121), (52.231055, 57.275521), (51.426177, 57.364804), (50.351834, 57.48855), (49.545174, 57.584924), (48.468384, 57.718232), (47.659835, 57.821859), (46.580456, 57.964946), (45.769913, 58.075989), (44.687804, 58.229071), (43.875161, 58.347692), (42.790181, 58.510986), (41.975331, 58.637347), (41.159503, 58.767074), (40.342678, 58.900198), (39.251993, 59.083032), (38.432764, 59.224198), (37.338804, 59.417863), (36.517068, 59.567233), (35.419692, 59.771946), (34.59534, 59.929682), (33.769836, 60.091055), (32.943159, 60.256092), (32.11529, 60.424825), (31.562706, 60.539381), (30.455899, 60.773495), (29.346869, 61.014337), (28.235578, 61.261973), (27.122366, 61.516191), (25.729544, 61.842263), (24.337017, 62.17635), (22.946658, 62.517162), (21.837191, 62.793787), (20.455453, 63.143451), (19.081126, 63.496227), (17.444352, 63.921847), (16.092919, 64.276923), (14.754889, 64.63098), (10.077894, 65.877197), (8.331312, 66.340802), (6.633018, 66.78723), (4.98815, 67.212939), (4.074191, 67.445537), (3.401847, 67.614389), (2.741204, 67.778134), (2.092666, 67.936495), (1.456637, 68.089191), (0.833522, 68.235945), (-0.558959, 68.555825), (-0.932101, 68.643043), (-1.289719, 68.729281), (-1.629329, 68.815021), (-1.948446, 68.900742), (-2.099543, 68.943745), (-2.244586, 68.986925), (-2.383262, 69.030339), (-2.515263, 69.074049), (-2.640277, 69.118115), (-2.757993, 69.162596), (-2.868102, 69.207553), (-2.970291, 69.253045), (-3.064252, 69.299134), (-3.149673, 69.345878), (-3.226243, 69.393338), (-3.293653, 69.441574), (-3.351591, 69.490645), (-3.399747, 69.540613), (-3.43781, 69.591536), (-3.465576, 69.643453), (-3.483188, 69.696328), (-3.49086, 69.750109), (-3.488805, 69.804746), (-3.477236, 69.860187), (-3.456367, 69.916383), (-3.426411, 69.973282), (-3.387582, 70.030833), (-3.340094, 70.088985), (-3.284158, 70.147688), (-3.21999, 70.20689), (-3.147803, 70.266541), (-3.067809, 70.32659), (-2.980223, 70.386986), (-2.885258, 70.447678), (-2.783127, 70.508615), (-2.674044, 70.569746), (-2.558222, 70.63102), (-2.435875, 70.692387), (-2.307215, 70.753796), (-2.172458, 70.815196), (-2.031815, 70.876535), (-1.885501, 70.937763), (-1.733728, 70.99883), (-1.576711, 71.059684), (-1.247797, 71.180549), (-1.076326, 71.240459), (-0.720426, 71.358979), (-0.348667, 71.475428), (-0.157299, 71.532778), (0.236005, 71.645723), (0.642972, 71.756372), (0.851418, 71.81085), (1.277914, 71.918144), (1.716784, 72.023263), (1.940699, 72.075022), (2.397168, 72.176969), (2.864725, 72.276862), (3.585725, 72.422958), (4.078752, 72.51793), (4.835543, 72.656873), (5.350822, 72.747228), (6.138579, 72.879474), (6.672893, 72.965517), (7.48679, 73.091522), (8.314054, 73.214001), (9.152949, 73.33312), (10.001736, 73.449042), (10.85868, 73.561932), (11.722042, 73.671954), (12.590085, 73.779272), (13.751756, 73.918442), (14.914542, 74.053486), (16.074765, 74.184759), (17.520078, 74.343742), (18.672428, 74.466901), (20.108091, 74.615896), (21.252874, 74.731191), (22.679272, 74.870514), (23.816798, 74.978195), (25.234316, 75.108157), (26.364893, 75.208475), (27.773918, 75.32939), (28.897855, 75.422595), (30.298773, 75.534775), (31.416378, 75.621119), (32.809574, 75.724878), (33.921157, 75.804609), (35.307018, 75.90026), (36.688969, 75.991542), (38.067132, 76.07855), (39.167013, 76.145146), (40.538655, 76.224708), (41.90684, 76.300267), (43.271688, 76.371921), (44.633319, 76.439766), (45.99185, 76.503899), (47.347402, 76.564416), (48.700093, 76.621414), (50.050043, 76.67499), (51.39737, 76.72524), (52.742194, 76.772261), (54.084634, 76.816149), (55.424809, 76.857001), (56.762837, 76.894914), (58.098839, 76.929985), (59.699533, 76.968453), (61.031495, 76.997609), (62.627686, 77.029262), (63.956184, 77.052972), (65.548565, 77.078369), (67.13916, 77.100592), (68.728173, 77.119806), (70.31581, 77.136179), (71.902278, 77.149877), (73.487783, 77.161068), (75.336594, 77.171178), (76.920716, 77.17751), (78.768479, 77.182408), (80.880106, 77.185047), (83.256141, 77.184719), (85.897559, 77.18092), (88.541349, 77.174253), (92.513566, 77.160565), (101.026562, 77.12683), (107.986314, 77.096812), (113.362383, 77.06768), (117.945027, 77.036108), (120.105164, 77.018477), (122.267354, 76.998784), (124.431416, 76.976823), (126.597169, 76.952384), (130.119657, 76.906854), (133.37405, 76.857764), (136.630565, 76.801172), (138.259428, 76.769844), (139.888591, 76.736378), (141.517979, 76.700686), (143.147516, 76.66268), (144.777124, 76.622273), (146.13513, 76.586703), (147.764671, 76.541667), (149.122514, 76.502116), (150.751731, 76.452154), (152.109197, 76.408377), (153.737833, 76.353196), (155.094708, 76.304947), (156.451243, 76.254583), (157.807395, 76.202055), (159.434207, 76.136093), (160.789358, 76.078624), (162.143984, 76.018828), (163.49804, 75.956654), (164.851481, 75.892052), (166.204265, 75.824971), (167.556346, 75.75536), (168.90768, 75.683168), (170.258224, 75.608345), (171.607932, 75.530839), (172.956761, 75.450601), (174.035161, 75.384409), (175.382294, 75.299124), (176.728425, 75.210964), (178.073508, 75.119879), (179.417499, 75.025817), (190, 75.025817)]\n"
     ]
    }
   ],
   "source": [
    "import matplotlib.pyplot as plt\n",
    "from matplotlib.patches import Polygon\n",
    "import geopandas as gpd\n",
    "import numpy as np\n",
    "import os\n",
    "\n",
    "# Function to handle longitude wrapping and splitting into separate polygons\n",
    "def wrap_and_split_polygon(coords):\n",
    "    split_coords = []\n",
    "    remaining_coords = []\n",
    "    for i in range(len(coords)):\n",
    "        lon, lat = coords[i]\n",
    "        if lon > 180:\n",
    "            split_coords.append((lon - 360, lat))\n",
    "        elif lon < -180:\n",
    "            split_coords.append((lon + 360, lat))\n",
    "        else:\n",
    "            remaining_coords.append((lon, lat))\n",
    "    \n",
    "    return split_coords, remaining_coords\n",
    "\n",
    "# Function to add points to extend polygons to image edges\n",
    "def extend_to_edge(coords):\n",
    "    if len(coords) > 1:\n",
    "        lon1, lat1 = coords[0]\n",
    "        lon2, lat2 = coords[-1]\n",
    "        if lon1 != lon2:  # Only add points if there's a wrap-around\n",
    "            coords.append((180 if lon1 < lon2 else -180, lat1))\n",
    "            coords.append((180 if lon1 < lon2 else -180, lat2))\n",
    "\n",
    "def find_closest_to_minus180(coords):\n",
    "    closest_idx = None\n",
    "    closest_diff = float('inf')\n",
    "\n",
    "    for idx, (lon, lat) in enumerate(coords):\n",
    "        if abs(lon + 180) < closest_diff:\n",
    "            closest_diff = abs(lon + 180)\n",
    "            closest_idx = idx\n",
    "\n",
    "    return closest_idx\n",
    "\n",
    "def find_closest_to_180(coords):\n",
    "    closest_idx = None\n",
    "    closest_diff = float('inf')\n",
    "\n",
    "    for idx, (lon, lat) in enumerate(coords):\n",
    "        if abs(lon - 180) < closest_diff:\n",
    "            closest_diff = abs(lon - 180)\n",
    "            closest_idx = idx\n",
    "\n",
    "    return closest_idx\n",
    "\n",
    "# Root directory containing folders with GeoJSON files\n",
    "root_dir = 'C:/Users/alundkvi/Documents/work/scripts/oval_asset_output_not_simplified/temp/temp2/'\n",
    "\n",
    "# Iterate over all subdirectories and their files\n",
    "for dirpath, _, filenames in os.walk(root_dir):\n",
    "    for filename in filenames:\n",
    "        if filename.endswith('.geojson'):\n",
    "            # Read GeoJSON file\n",
    "            geojson_file = os.path.join(dirpath, filename)\n",
    "\n",
    "            gdf = gpd.read_file(geojson_file)\n",
    "\n",
    "            # Extract polygon coordinates\n",
    "            polygon_coords = np.array(gdf['geometry'][0].exterior.coords.xy).T\n",
    "\n",
    "            # Extract fill color from GeoJSON properties\n",
    "            fill_color = gdf['fill'][0]\n",
    "\n",
    "            # Apply wrapping and splitting to polygon coordinates\n",
    "            split_coords, coords = wrap_and_split_polygon(polygon_coords)\n",
    "            #print(split_coords)\n",
    "            #print(\"Next\")\n",
    "            #print(coords)\n",
    "\n",
    "            # Create a figure and axis with specific dimensions\n",
    "            fig, ax = plt.subplots(figsize=(54, 27))\n",
    "\n",
    "            # Plot each split polygon separately\n",
    "            if split_coords:\n",
    "                split_coords_lon_average = sum(split_coords[0]) / len(split_coords[0])\n",
    "\n",
    "                if split_coords_lon_average > 0:\n",
    "\n",
    "                    closest_index2 = find_closest_to_180(split_coords)\n",
    "\n",
    "                    if closest_index2 == 0:\n",
    "                        lon1, lat1 = split_coords[closest_index2]\n",
    "                        split_coords.insert(closest_index2, (190, lat1))\n",
    "                        lon2, lat2 = split_coords[len(split_coords)-1]\n",
    "                        split_coords.append((190, lat2))\n",
    "                    elif closest_index2 == len(split_coords)-1:\n",
    "                        lon1, lat1 = split_coords[len(split_coords)-1]\n",
    "                        lon2, lat2 = split_coords[0]\n",
    "                        split_coords.insert(0, (190, lat2))\n",
    "                        split_coords.append((190, lat1))\n",
    "                    else:\n",
    "                        if closest_index2 is not None:\n",
    "                                lon1, lat1 = split_coords[closest_index2]\n",
    "                                #coords.insert(closest_index, (190, lat1))\n",
    "                                #insert_values.append((closest_index,(190,lat1)))\n",
    "\n",
    "                                next_index_lon, next_index_lat = split_coords[closest_index2 + 1] if closest_index2 + 1 < len(split_coords) else None\n",
    "                                prev_index_lon, prev_index_lat = split_coords[closest_index2 - 1] if closest_index2 - 1 >= 0 else None\n",
    "\n",
    "                                #print(\"Denna testar du + \")\n",
    "                                if abs(next_index_lat - lat1) > abs(prev_index_lat - lat1):\n",
    "                                    split_coords.insert(closest_index2, (190, next_index_lat))\n",
    "                                    split_coords.insert(closest_index2, (190, lat1))\n",
    "                                else:\n",
    "                                    split_coords.insert(closest_index2, (190, lat1))\n",
    "                                    split_coords.insert(closest_index2, (190, prev_index_lat))\n",
    "                else:\n",
    "\n",
    "                    closest_index2 = find_closest_to_minus180(split_coords)\n",
    "\n",
    "                    if closest_index2 == 0:\n",
    "                        lon1, lat1 = split_coords[closest_index2]\n",
    "                        split_coords.insert(closest_index2, (-190, lat1))\n",
    "                        lon2, lat2 = split_coords[len(split_coords)-1]\n",
    "                        split_coords.append((-190, lat2))\n",
    "                    elif closest_index2 == len(split_coords)-1:\n",
    "                        lon1, lat1 = split_coords[len(split_coords)-1]\n",
    "                        lon2, lat2 = split_coords[0]\n",
    "                        split_coords.insert(0, (-190, lat2))\n",
    "                        split_coords.append((-190, lat1))\n",
    "                    else:\n",
    "                        if closest_index2 is not None:\n",
    "                                lon1, lat1 = split_coords[closest_index2]\n",
    "                                #coords.insert(closest_index, (-190, lat1))\n",
    "\n",
    "                                # Find the coordinate with the largest longitude just before or after the closest index\n",
    "                                next_index_lon, next_index_lat = split_coords[closest_index2 + 1] if closest_index2 + 1 < len(split_coords) else None\n",
    "                                prev_index_lon, prev_index_lat = split_coords[closest_index2 - 1] if closest_index2 - 1 >= 0 else None\n",
    "                                #print(\"Denna testar du -\")\n",
    "\n",
    "                                if abs(next_index_lat - lat1) > abs(prev_index_lat - lat1):\n",
    "                                    split_coords.insert(closest_index2, (-190, next_index_lat))\n",
    "                                    split_coords.insert(closest_index2, (-190, lat1))\n",
    "                                else:\n",
    "                                    split_coords.insert(closest_index2, (-190, lat1))\n",
    "                                    split_coords.insert(closest_index2, (-190, prev_index_lat))\n",
    "\n",
    "                # Create a polygon patch\n",
    "                polygon_patch = Polygon(split_coords, closed=True, edgecolor=fill_color, facecolor=fill_color, alpha=0.75)\n",
    "\n",
    "                # Add polygon patch to axis\n",
    "                ax.add_patch(polygon_patch)\n",
    "\n",
    "            # Plot the remaining part of the polygon (if any)\n",
    "            if coords:\n",
    "                if split_coords:\n",
    "\n",
    "                    coords_lon_average = sum(coords[0]) / len(coords[0])\n",
    "\n",
    "                    # Determine insertion values based on the average longitude\n",
    "                    insert_values = []\n",
    "\n",
    "                    if coords_lon_average < 0:\n",
    "                        # Find the index of the point where longitude is closest to -180\n",
    "                        closest_index = find_closest_to_minus180(coords)\n",
    "\n",
    "                        if closest_index == 0:\n",
    "                            lon1, lat1 = coords[closest_index]\n",
    "                            coords.insert(closest_index, (-190, lat1))\n",
    "                            lon2, lat2 = coords[len(coords)-1]\n",
    "                            coords.append((-190, lat2))\n",
    "                        elif closest_index == len(coords)-1:\n",
    "                            lon1, lat1 = coords[len(coords)-1]\n",
    "                            lon2, lat2 = coords[0]\n",
    "                            coords.insert(0, (-190, lat2))\n",
    "                            coords.append((-190, lat1))\n",
    "                        else:\n",
    "                            if closest_index is not None:\n",
    "                                lon1, lat1 = coords[closest_index]\n",
    "                                #coords.insert(closest_index, (-190, lat1))\n",
    "\n",
    "                                # Find the coordinate with the largest longitude just before or after the closest index\n",
    "                                next_index_lon, next_index_lat = coords[closest_index + 1] if closest_index + 1 < len(coords) else None\n",
    "                                prev_index_lon, prev_index_lat = coords[closest_index - 1] if closest_index - 1 >= 0 else None\n",
    "                                #print(\"Denna testar du -\")\n",
    "                                \n",
    "                                if abs(next_index_lat - lat1) > abs(prev_index_lat - lat1):\n",
    "                                    coords.insert(closest_index, (-190, next_index_lat))\n",
    "                                    coords.insert(closest_index, (-190, lat1))\n",
    "                                else:\n",
    "                                    coords.insert(closest_index, (-190, lat1))\n",
    "                                    coords.insert(closest_index, (-190, prev_index_lat))\n",
    "\n",
    "                                \"\"\" if closest_index - 1 >= 0 and coords[closest_index - 1] is not None:\n",
    "                                    lon2, lat2 = coords[closest_index - 1]\n",
    "                                    insert_values.append((closest_index, (-190, lat2)))\n",
    "\n",
    "                                if closest_index - 2 >= 0 and coords[closest_index - 2] is not None:\n",
    "                                    lon3, lat3 = coords[closest_index - 2]\n",
    "                                    insert_values.append((closest_index - 1, (-190, lat3)))\n",
    "\n",
    "                                if closest_index + 1 < len(coords) and coords[closest_index + 1] is not None:\n",
    "                                    lon4, lat4 = coords[closest_index + 1]\n",
    "                                    insert_values.append((closest_index + 2, (-190, lat4)))\n",
    "\n",
    "                                if closest_index + 2 < len(coords) and coords[closest_index + 2] is not None:\n",
    "                                    lon5, lat5 = coords[closest_index + 2]\n",
    "                                    insert_values.append((closest_index + 3, (-190, lat5))) \"\"\"\n",
    "\n",
    "                    elif coords_lon_average > 0:\n",
    "                        # Find the index of the point where longitude is closest to 180\n",
    "                        closest_index = find_closest_to_180(coords)\n",
    "                        if closest_index == 0:\n",
    "                            lon1, lat1 = coords[closest_index]\n",
    "                            coords.insert(closest_index, (190, lat1))\n",
    "                            lon2, lat2 = coords[len(coords)-1]\n",
    "                            coords.append((190, lat2))\n",
    "                        elif closest_index == len(coords)-1:\n",
    "                            lon1, lat1 = coords[len(coords)-1]\n",
    "                            lon2, lat2 = coords[0]\n",
    "                            coords.insert(0, (190, lat2))\n",
    "                            coords.append((190, lat1))\n",
    "                        else:\n",
    "                            if closest_index is not None:\n",
    "                                lon1, lat1 = coords[closest_index]\n",
    "                                #coords.insert(closest_index, (190, lat1))\n",
    "                                #insert_values.append((closest_index,(190,lat1)))\n",
    "\n",
    "                                next_index_lon, next_index_lat = coords[closest_index + 1] if closest_index + 1 < len(coords) else None\n",
    "                                prev_index_lon, prev_index_lat = coords[closest_index - 1] if closest_index - 1 >= 0 else None\n",
    "\n",
    "                                #print(\"Denna testar du + \")\n",
    "                                if abs(next_index_lat - lat1) > abs(prev_index_lat - lat1):\n",
    "                                    coords.insert(closest_index + 1, (190, next_index_lat))\n",
    "                                    coords.insert(closest_index + 1, (190, lat1))\n",
    "                                else:\n",
    "                                    coords.insert(closest_index, (190, lat1))\n",
    "                                    coords.insert(closest_index, (190, prev_index_lat))\n",
    "\n",
    "\n",
    "                                \"\"\" if closest_index + 1 < len(coords) and coords[closest_index + 1] is not None:\n",
    "                                    lon2, lat2 = coords[closest_index + 1]\n",
    "                                    insert_values.append((closest_index + 2, (190, lat2)))\n",
    "\n",
    "                                if closest_index - 1 >= 0 and coords[closest_index - 1] is not None:\n",
    "                                    lon3, lat3 = coords[closest_index - 1]\n",
    "                                    insert_values.append((closest_index, (190, lat3)))\n",
    "\n",
    "                                if closest_index - 2 >= 0 and coords[closest_index - 2] is not None:\n",
    "                                    lon4, lat4 = coords[closest_index - 2]\n",
    "                                    insert_values.append((closest_index - 1, (190, lat4)))\n",
    "\n",
    "                                if closest_index + 2 < len(coords) and coords[closest_index + 2] is not None:\n",
    "                                    lon5, lat5 = coords[closest_index + 2]\n",
    "                                    insert_values.append((closest_index + 3, (190, lat5))) \"\"\"\n",
    "\n",
    "                    \"\"\" # Apply the inserts in reverse order to maintain correct positions\n",
    "                    insert_values.sort(reverse=True, key=lambda x: x[0])\n",
    "                    for index, coord in insert_values:\n",
    "                        coords.insert(index, coord) \"\"\"\n",
    "                        \n",
    "                    print(coords)\n",
    "\n",
    "                # Create a polygon patch for the remaining part\n",
    "                polygon_patch = Polygon(coords, closed=True, edgecolor=fill_color, facecolor=fill_color, alpha=0.75)\n",
    "\n",
    "                # Add polygon patch to axis\n",
    "                ax.add_patch(polygon_patch)\n",
    "\n",
    "            # Set axis limits and aspect ratio\n",
    "            ax.set_xlim(-180, 180)\n",
    "            ax.set_ylim(-90, 90)\n",
    "            ax.set_aspect('equal')\n",
    "\n",
    "            # Remove axes\n",
    "            ax.axis('off')\n",
    "\n",
    "            # Output image file path\n",
    "            output_file = os.path.splitext(filename)[0] + '.png'\n",
    "            output_path = os.path.join(dirpath, output_file)\n",
    "\n",
    "            # Save the image\n",
    "            plt.savefig(output_path, bbox_inches='tight', pad_inches=0, transparent=True)\n",
    "            plt.close()  # Close the current figure to free up memory"
   ]
  },
  {
   "attachments": {},
   "cell_type": "markdown",
   "metadata": {},
   "source": [
    "LAYER OVAL THIS IS THE ACTUAL ONE"
   ]
  },
  {
   "cell_type": "code",
   "execution_count": 4,
   "metadata": {},
   "outputs": [
    {
     "name": "stdout",
     "output_type": "stream",
     "text": [
      "C:/Users/alundkvi/Documents/work/scripts/oval_geojsons_south/2024-05-10-15-00\n",
      "0\n",
      "C:/Users/alundkvi/Documents/work/scripts/oval_geojsons_south/2024-05-10-15-15\n",
      "0\n",
      "C:/Users/alundkvi/Documents/work/scripts/oval_geojsons_south/2024-05-10-15-30\n",
      "0\n",
      "C:/Users/alundkvi/Documents/work/scripts/oval_geojsons_south/2024-05-10-15-45\n",
      "0\n",
      "C:/Users/alundkvi/Documents/work/scripts/oval_geojsons_south/2024-05-10-16-00\n",
      "0\n",
      "C:/Users/alundkvi/Documents/work/scripts/oval_geojsons_south/2024-05-10-16-15\n",
      "0\n",
      "C:/Users/alundkvi/Documents/work/scripts/oval_geojsons_south/2024-05-10-16-30\n",
      "0\n",
      "C:/Users/alundkvi/Documents/work/scripts/oval_geojsons_south/2024-05-10-16-45\n",
      "0\n",
      "C:/Users/alundkvi/Documents/work/scripts/oval_geojsons_south/2024-05-10-17-00\n",
      "6.916502000000008\n",
      "C:/Users/alundkvi/Documents/work/scripts/oval_geojsons_south/2024-05-10-17-15\n",
      "15.046841999999998\n",
      "C:/Users/alundkvi/Documents/work/scripts/oval_geojsons_south/2024-05-10-17-30\n",
      "0\n",
      "C:/Users/alundkvi/Documents/work/scripts/oval_geojsons_south/2024-05-10-17-45\n",
      "0\n",
      "C:/Users/alundkvi/Documents/work/scripts/oval_geojsons_south/2024-05-10-18-00\n",
      "0\n",
      "C:/Users/alundkvi/Documents/work/scripts/oval_geojsons_south/2024-05-10-18-15\n",
      "0\n",
      "C:/Users/alundkvi/Documents/work/scripts/oval_geojsons_south/2024-05-10-18-30\n",
      "0\n",
      "C:/Users/alundkvi/Documents/work/scripts/oval_geojsons_south/2024-05-10-18-45\n",
      "0\n",
      "C:/Users/alundkvi/Documents/work/scripts/oval_geojsons_south/2024-05-10-19-00\n",
      "0\n",
      "C:/Users/alundkvi/Documents/work/scripts/oval_geojsons_south/2024-05-10-19-15\n",
      "0\n",
      "C:/Users/alundkvi/Documents/work/scripts/oval_geojsons_south/2024-05-10-19-30\n",
      "0\n",
      "C:/Users/alundkvi/Documents/work/scripts/oval_geojsons_south/2024-05-10-19-45\n",
      "0\n",
      "C:/Users/alundkvi/Documents/work/scripts/oval_geojsons_south/2024-05-10-20-00\n",
      "0\n",
      "C:/Users/alundkvi/Documents/work/scripts/oval_geojsons_south/2024-05-10-20-15\n",
      "0\n",
      "C:/Users/alundkvi/Documents/work/scripts/oval_geojsons_south/2024-05-10-20-30\n",
      "0\n",
      "C:/Users/alundkvi/Documents/work/scripts/oval_geojsons_south/2024-05-10-20-45\n",
      "0\n",
      "C:/Users/alundkvi/Documents/work/scripts/oval_geojsons_south/2024-05-10-21-00\n",
      "0\n",
      "C:/Users/alundkvi/Documents/work/scripts/oval_geojsons_south/2024-05-10-21-15\n",
      "0\n",
      "C:/Users/alundkvi/Documents/work/scripts/oval_geojsons_south/2024-05-10-22-30\n",
      "0\n",
      "C:/Users/alundkvi/Documents/work/scripts/oval_geojsons_south/2024-05-10-22-45\n",
      "0\n",
      "C:/Users/alundkvi/Documents/work/scripts/oval_geojsons_south/2024-05-10-23-30\n",
      "0\n",
      "C:/Users/alundkvi/Documents/work/scripts/oval_geojsons_south/2024-05-10-23-45\n",
      "20.771950000000004\n",
      "C:/Users/alundkvi/Documents/work/scripts/oval_geojsons_south/2024-05-11-00-00\n",
      "20.14704499999999\n",
      "C:/Users/alundkvi/Documents/work/scripts/oval_geojsons_south/2024-05-11-00-15\n",
      "14.291169999999994\n",
      "C:/Users/alundkvi/Documents/work/scripts/oval_geojsons_south/2024-05-11-00-30\n",
      "19.18166199999999\n",
      "C:/Users/alundkvi/Documents/work/scripts/oval_geojsons_south/2024-05-11-00-45\n",
      "26.623940000000005\n",
      "C:/Users/alundkvi/Documents/work/scripts/oval_geojsons_south/2024-05-11-01-00\n",
      "24.406941999999987\n",
      "C:/Users/alundkvi/Documents/work/scripts/oval_geojsons_south/2024-05-11-01-15\n",
      "11.695147999999989\n",
      "C:/Users/alundkvi/Documents/work/scripts/oval_geojsons_south/2024-05-11-01-30\n",
      "14.170314999999988\n",
      "C:/Users/alundkvi/Documents/work/scripts/oval_geojsons_south/2024-05-11-01-45\n",
      "15.545187999999996\n",
      "C:/Users/alundkvi/Documents/work/scripts/oval_geojsons_south/2024-05-11-02-00\n",
      "20.101432999999986\n",
      "C:/Users/alundkvi/Documents/work/scripts/oval_geojsons_south/2024-05-11-02-15\n",
      "17.60515000000001\n",
      "C:/Users/alundkvi/Documents/work/scripts/oval_geojsons_south/2024-05-11-02-30\n",
      "31.14409599999999\n",
      "C:/Users/alundkvi/Documents/work/scripts/oval_geojsons_south/2024-05-11-02-45\n",
      "27.726377000000014\n",
      "C:/Users/alundkvi/Documents/work/scripts/oval_geojsons_south/2024-05-11-03-00\n",
      "45.54495800000001\n",
      "C:/Users/alundkvi/Documents/work/scripts/oval_geojsons_south/2024-05-11-03-15\n",
      "41.39068399999999\n",
      "C:/Users/alundkvi/Documents/work/scripts/oval_geojsons_south/2024-05-11-03-30\n",
      "35.66232500000001\n",
      "C:/Users/alundkvi/Documents/work/scripts/oval_geojsons_south/2024-05-11-04-00\n",
      "36.65902299999999\n",
      "C:/Users/alundkvi/Documents/work/scripts/oval_geojsons_south/2024-05-11-04-15\n",
      "37.15073899999999\n",
      "C:/Users/alundkvi/Documents/work/scripts/oval_geojsons_south/2024-05-11-04-30\n",
      "56.709306\n",
      "C:/Users/alundkvi/Documents/work/scripts/oval_geojsons_south/2024-05-11-04-45\n",
      "37.301175\n",
      "C:/Users/alundkvi/Documents/work/scripts/oval_geojsons_south/2024-05-11-05-00\n",
      "50.91241400000001\n",
      "C:/Users/alundkvi/Documents/work/scripts/oval_geojsons_south/2024-05-11-05-15\n",
      "48.94987900000001\n",
      "C:/Users/alundkvi/Documents/work/scripts/oval_geojsons_south/2024-05-11-05-30\n",
      "53.464586\n",
      "C:/Users/alundkvi/Documents/work/scripts/oval_geojsons_south/2024-05-11-05-45\n",
      "54.380629\n",
      "C:/Users/alundkvi/Documents/work/scripts/oval_geojsons_south/2024-05-11-06-00\n",
      "47.86082099999999\n",
      "C:/Users/alundkvi/Documents/work/scripts/oval_geojsons_south/2024-05-11-06-15\n",
      "58.70335399999999\n",
      "C:/Users/alundkvi/Documents/work/scripts/oval_geojsons_south/2024-05-11-06-30\n",
      "51.96632199999999\n",
      "C:/Users/alundkvi/Documents/work/scripts/oval_geojsons_south/2024-05-11-06-45\n",
      "55.923782999999986\n",
      "C:/Users/alundkvi/Documents/work/scripts/oval_geojsons_south/2024-05-11-07-00\n",
      "57.974042999999995\n",
      "C:/Users/alundkvi/Documents/work/scripts/oval_geojsons_south/2024-05-11-07-15\n",
      "69.45062100000001\n",
      "C:/Users/alundkvi/Documents/work/scripts/oval_geojsons_south/2024-05-11-07-30\n",
      "74.02328299999999\n",
      "C:/Users/alundkvi/Documents/work/scripts/oval_geojsons_south/2024-05-11-07-45\n",
      "62.669624\n",
      "C:/Users/alundkvi/Documents/work/scripts/oval_geojsons_south/2024-05-11-08-00\n",
      "77.86368800000002\n",
      "C:/Users/alundkvi/Documents/work/scripts/oval_geojsons_south/2024-05-11-08-15\n",
      "80.59544699999998\n",
      "C:/Users/alundkvi/Documents/work/scripts/oval_geojsons_south/2024-05-11-08-30\n",
      "81.78904699999998\n",
      "C:/Users/alundkvi/Documents/work/scripts/oval_geojsons_south/2024-05-11-08-45\n",
      "78.802459\n",
      "C:/Users/alundkvi/Documents/work/scripts/oval_geojsons_south/2024-05-11-09-00\n",
      "79.30708399999997\n",
      "C:/Users/alundkvi/Documents/work/scripts/oval_geojsons_south/2024-05-11-09-15\n",
      "115.90582899999998\n",
      "C:/Users/alundkvi/Documents/work/scripts/oval_geojsons_south/2024-05-11-09-30\n",
      "120.58145000000002\n",
      "C:/Users/alundkvi/Documents/work/scripts/oval_geojsons_south/2024-05-11-09-45\n",
      "117.05379399999998\n",
      "C:/Users/alundkvi/Documents/work/scripts/oval_geojsons_south/2024-05-11-10-00\n",
      "119.27732800000001\n",
      "C:/Users/alundkvi/Documents/work/scripts/oval_geojsons_south/2024-05-11-10-15\n",
      "119.768754\n",
      "C:/Users/alundkvi/Documents/work/scripts/oval_geojsons_south/2024-05-11-10-30\n",
      "119.94509199999999\n",
      "C:/Users/alundkvi/Documents/work/scripts/oval_geojsons_south/2024-05-11-10-45\n",
      "97.74051200000002\n",
      "C:/Users/alundkvi/Documents/work/scripts/oval_geojsons_south/2024-05-11-11-00\n",
      "103.52954799999998\n",
      "C:/Users/alundkvi/Documents/work/scripts/oval_geojsons_south/2024-05-11-11-15\n",
      "104.87847299999999\n",
      "C:/Users/alundkvi/Documents/work/scripts/oval_geojsons_south/2024-05-11-11-30\n",
      "154.03970500000003\n",
      "C:/Users/alundkvi/Documents/work/scripts/oval_geojsons_south/2024-05-11-11-45\n",
      "140.119997\n",
      "C:/Users/alundkvi/Documents/work/scripts/oval_geojsons_south/2024-05-11-12-00\n",
      "126.50987800000001\n",
      "C:/Users/alundkvi/Documents/work/scripts/oval_geojsons_south/2024-05-11-12-15\n",
      "118.52587699999998\n",
      "C:/Users/alundkvi/Documents/work/scripts/oval_geojsons_south/2024-05-11-12-30\n",
      "130.278883\n",
      "C:/Users/alundkvi/Documents/work/scripts/oval_geojsons_south/2024-05-11-12-45\n",
      "130.59945399999998\n",
      "C:/Users/alundkvi/Documents/work/scripts/oval_geojsons_south/2024-05-11-13-00\n",
      "136.48394100000002\n",
      "C:/Users/alundkvi/Documents/work/scripts/oval_geojsons_south/2024-05-11-13-15\n",
      "139.713259\n",
      "C:/Users/alundkvi/Documents/work/scripts/oval_geojsons_south/2024-05-11-13-30\n",
      "110.004798\n",
      "C:/Users/alundkvi/Documents/work/scripts/oval_geojsons_south/2024-05-11-14-00\n",
      "128.115023\n",
      "C:/Users/alundkvi/Documents/work/scripts/oval_geojsons_south/2024-05-11-14-15\n",
      "132.150019\n",
      "C:/Users/alundkvi/Documents/work/scripts/oval_geojsons_south/2024-05-11-14-30\n",
      "105.58461399999999\n",
      "C:/Users/alundkvi/Documents/work/scripts/oval_geojsons_south/2024-05-11-14-45\n",
      "104.537169\n",
      "C:/Users/alundkvi/Documents/work/scripts/oval_geojsons_south/2024-05-11-15-00\n",
      "57.535977\n",
      "C:/Users/alundkvi/Documents/work/scripts/oval_geojsons_south/2024-05-11-15-15\n",
      "64.007024\n",
      "C:/Users/alundkvi/Documents/work/scripts/oval_geojsons_south/2024-05-11-15-30\n",
      "41.822438000000005\n",
      "C:/Users/alundkvi/Documents/work/scripts/oval_geojsons_south/2024-05-11-15-45\n",
      "34.955445\n",
      "C:/Users/alundkvi/Documents/work/scripts/oval_geojsons_south/2024-05-11-16-00\n",
      "75.22036499999999\n",
      "C:/Users/alundkvi/Documents/work/scripts/oval_geojsons_south/2024-05-11-16-15\n",
      "27.094176000000004\n",
      "C:/Users/alundkvi/Documents/work/scripts/oval_geojsons_south/2024-05-11-16-30\n",
      "25.631880999999993\n",
      "C:/Users/alundkvi/Documents/work/scripts/oval_geojsons_south/2024-05-11-16-45\n",
      "17.589343000000014\n",
      "C:/Users/alundkvi/Documents/work/scripts/oval_geojsons_south/2024-05-11-17-00\n",
      "9.542844000000002\n",
      "C:/Users/alundkvi/Documents/work/scripts/oval_geojsons_south/2024-05-11-17-15\n",
      "4.621963999999991\n",
      "C:/Users/alundkvi/Documents/work/scripts/oval_geojsons_south/2024-05-11-17-30\n",
      "0\n",
      "C:/Users/alundkvi/Documents/work/scripts/oval_geojsons_south/2024-05-11-17-45\n",
      "0\n",
      "C:/Users/alundkvi/Documents/work/scripts/oval_geojsons_south/2024-05-11-18-00\n",
      "0\n",
      "C:/Users/alundkvi/Documents/work/scripts/oval_geojsons_south/2024-05-11-18-15\n",
      "0\n",
      "C:/Users/alundkvi/Documents/work/scripts/oval_geojsons_south/2024-05-11-18-30\n",
      "0\n",
      "C:/Users/alundkvi/Documents/work/scripts/oval_geojsons_south/2024-05-11-18-45\n",
      "0\n",
      "C:/Users/alundkvi/Documents/work/scripts/oval_geojsons_south/2024-05-11-19-00\n",
      "0\n",
      "C:/Users/alundkvi/Documents/work/scripts/oval_geojsons_south/2024-05-11-19-15\n",
      "0\n",
      "C:/Users/alundkvi/Documents/work/scripts/oval_geojsons_south/2024-05-11-19-30\n",
      "0\n",
      "C:/Users/alundkvi/Documents/work/scripts/oval_geojsons_south/2024-05-11-19-45\n",
      "0\n",
      "C:/Users/alundkvi/Documents/work/scripts/oval_geojsons_south/2024-05-11-20-00\n",
      "0\n",
      "C:/Users/alundkvi/Documents/work/scripts/oval_geojsons_south/2024-05-11-20-15\n",
      "0\n",
      "C:/Users/alundkvi/Documents/work/scripts/oval_geojsons_south/2024-05-11-20-30\n",
      "0\n",
      "C:/Users/alundkvi/Documents/work/scripts/oval_geojsons_south/2024-05-11-20-45\n",
      "0\n",
      "C:/Users/alundkvi/Documents/work/scripts/oval_geojsons_south/2024-05-11-21-00\n",
      "0\n",
      "C:/Users/alundkvi/Documents/work/scripts/oval_geojsons_south/2024-05-11-21-15\n",
      "0\n",
      "C:/Users/alundkvi/Documents/work/scripts/oval_geojsons_south/2024-05-11-21-30\n",
      "0\n",
      "C:/Users/alundkvi/Documents/work/scripts/oval_geojsons_south/2024-05-11-21-45\n",
      "0\n",
      "C:/Users/alundkvi/Documents/work/scripts/oval_geojsons_south/2024-05-11-22-00\n",
      "0\n",
      "C:/Users/alundkvi/Documents/work/scripts/oval_geojsons_south/2024-05-11-22-15\n",
      "0\n",
      "C:/Users/alundkvi/Documents/work/scripts/oval_geojsons_south/2024-05-11-22-30\n",
      "0\n",
      "C:/Users/alundkvi/Documents/work/scripts/oval_geojsons_south/2024-05-11-22-45\n",
      "0\n",
      "C:/Users/alundkvi/Documents/work/scripts/oval_geojsons_south/2024-05-11-23-00\n",
      "0\n",
      "C:/Users/alundkvi/Documents/work/scripts/oval_geojsons_south/2024-05-11-23-15\n",
      "0\n",
      "C:/Users/alundkvi/Documents/work/scripts/oval_geojsons_south/2024-05-11-23-30\n",
      "0\n",
      "C:/Users/alundkvi/Documents/work/scripts/oval_geojsons_south/2024-05-11-23-45\n",
      "0\n",
      "C:/Users/alundkvi/Documents/work/scripts/oval_geojsons_south/2024-05-12-00-00\n",
      "0\n"
     ]
    }
   ],
   "source": [
    "import matplotlib.pyplot as plt\n",
    "from matplotlib.patches import Polygon\n",
    "import geopandas as gpd\n",
    "import numpy as np\n",
    "import os\n",
    "from PIL import Image\n",
    "\n",
    "# Root directory containing folders with GeoJSON files\n",
    "root_dir = 'C:/Users/alundkvi/Documents/work/scripts/oval_geojsons_south/temp/'\n",
    "\n",
    "# Function to determine the shift needed for longitudes to fit within -180 to 180\n",
    "def calculate_shift_amounts(coords):\n",
    "    longitudes = coords[:, 0]\n",
    "    shift = 0\n",
    "    plus = True\n",
    "    abs_max = abs(np.max(longitudes))\n",
    "    abs_min = abs(np.min(longitudes))\n",
    "\n",
    "    if abs_max > abs_min and np.max(longitudes) > 180:\n",
    "        shift = np.max(longitudes) - 180\n",
    "        plus = False\n",
    "    elif abs_max < abs_min and np.min(longitudes) < -180:\n",
    "        shift = -180 - np.min(coords[:, 0])\n",
    "        plus = True\n",
    "\n",
    "    return shift, plus\n",
    "\n",
    "def shift_image(image_path, degrees, output_path):\n",
    "    # Load the image\n",
    "    image = Image.open(image_path).convert(\"RGBA\")  # Ensure the image is in RGBA mode to handle transparency\n",
    "    width, height = image.size\n",
    "    \n",
    "    # Calculate how many pixels to shift\n",
    "    pixels_per_degree = width / 360\n",
    "    shift_pixels = int(degrees * pixels_per_degree)\n",
    "\n",
    "    # Create a new image with transparent background\n",
    "    new_image = Image.new('RGBA', (width, height), (0, 0, 0, 0))\n",
    "\n",
    "    # Split the image into two parts, considering transparency\n",
    "    right_part = image.crop((width - shift_pixels, 0, width, height))\n",
    "    left_part = image.crop((0, 0, width - shift_pixels, height))\n",
    "\n",
    "    # Paste the shifted parts onto the new image\n",
    "    new_image.paste(right_part, (0, 0), right_part)  # Use the image itself as a mask to preserve transparency\n",
    "    new_image.paste(left_part, (shift_pixels, 0), left_part)  # Use the image itself as a mask to preserve transparency\n",
    "\n",
    "    # Save the result\n",
    "    new_image.save(output_path)\n",
    "    \n",
    "def shift_image_left(image_path, degrees, output_path):\n",
    "    # Load the image\n",
    "    image = Image.open(image_path).convert(\"RGBA\")  # Ensure the image is in RGBA mode to handle transparency\n",
    "    width, height = image.size\n",
    "    \n",
    "    # Calculate how many pixels to shift\n",
    "    pixels_per_degree = width / 360\n",
    "    shift_pixels = int(degrees * pixels_per_degree)\n",
    "\n",
    "    # Create a new image with transparent background\n",
    "    new_image = Image.new('RGBA', (width, height), (0, 0, 0, 0))\n",
    "\n",
    "    # Split the image into two parts, considering transparency\n",
    "    left_part = image.crop((0, 0, shift_pixels, height))\n",
    "    right_part = image.crop((shift_pixels, 0, width, height))\n",
    "\n",
    "    # Paste the shifted parts onto the new image\n",
    "    new_image.paste(left_part, (width - shift_pixels, 0), left_part)  # Paste left part at the end to wrap around\n",
    "    new_image.paste(right_part, (0, 0), right_part)  # Paste right part in its original position\n",
    "\n",
    "    # Save the result\n",
    "    new_image.save(output_path)\n",
    "\n",
    "# Function to adjust coordinates based on shift amounts\n",
    "def adjust_longitudes(coords, shift, plus):\n",
    "    if plus == False:\n",
    "        coords[:, 0] -= shift\n",
    "    else:\n",
    "        coords[:, 0] += shift\n",
    "    return coords\n",
    "\n",
    "# Iterate over all subdirectories and their files\n",
    "for dirpath, _, filenames in os.walk(root_dir):\n",
    "    geojson_files = [f for f in filenames if f.endswith('.geojson')]\n",
    "\n",
    "    if not geojson_files:\n",
    "        continue\n",
    "\n",
    "    # Process each GeoJSON file to determine the maximum and minimum longitudes\n",
    "    all_coords = []\n",
    "    for filename in geojson_files:\n",
    "        geojson_file = os.path.join(dirpath, filename)\n",
    "        gdf = gpd.read_file(geojson_file)\n",
    "        polygon_coords = np.array(gdf['geometry'][0].exterior.coords.xy).T\n",
    "        all_coords.append(polygon_coords)\n",
    "\n",
    "    # Flatten list of coordinates\n",
    "    all_coords = np.vstack(all_coords)\n",
    "\n",
    "    # Calculate the shift amounts\n",
    "    shift, plus = calculate_shift_amounts(all_coords)\n",
    "\n",
    "    print(dirpath)\n",
    "    print(shift)\n",
    "    #print(\" \")\n",
    "\n",
    "    # Apply the shift to each file\n",
    "    for filename in geojson_files:\n",
    "        geojson_file = os.path.join(dirpath, filename)\n",
    "        gdf = gpd.read_file(geojson_file)\n",
    "        polygon_coords = np.array(gdf['geometry'][0].exterior.coords.xy).T\n",
    "\n",
    "        # Adjust longitudes\n",
    "        adjusted_coords = adjust_longitudes(polygon_coords, shift, plus)\n",
    "\n",
    "        # Extract fill color from GeoJSON properties\n",
    "        fill_color = gdf['fill'][0]\n",
    "\n",
    "        # Create a figure and axis with specific dimensions\n",
    "        fig, ax = plt.subplots(figsize=(72, 36))\n",
    "\n",
    "        # Create a polygon patch for the adjusted coordinates\n",
    "        if len(adjusted_coords) > 0:\n",
    "            polygon_patch = Polygon(adjusted_coords, closed=True, edgecolor=fill_color, facecolor=fill_color, alpha=1)\n",
    "            ax.add_patch(polygon_patch)\n",
    "\n",
    "        # Set axis limits and aspect ratio\n",
    "        ax.set_xlim(-180, 180)\n",
    "        ax.set_ylim(-90, 90)\n",
    "        ax.set_aspect('equal')\n",
    "\n",
    "        # Remove axes\n",
    "        ax.axis('off')\n",
    "\n",
    "        # Output image file path\n",
    "        output_file = os.path.splitext(filename)[0] + '.png'\n",
    "        output_path = os.path.join(dirpath, output_file)\n",
    "\n",
    "        # Save the image\n",
    "        plt.savefig(output_path, bbox_inches='tight', pad_inches=0, transparent=True)\n",
    "        plt.close()  # Close the current figure to free up memory\n",
    "\n",
    "        shift_image_left(output_path, shift, output_path)\n"
   ]
  },
  {
   "cell_type": "code",
   "execution_count": 1,
   "metadata": {},
   "outputs": [],
   "source": [
    "from PIL import Image\n",
    "import numpy as np\n",
    "import os  # Make sure to import the os module\n",
    "\n",
    "def add_transparency(image_path, output_path, left_lon, right_lon, top_lat, bottom_lat, image_width, image_height):\n",
    "    # Load the original image\n",
    "    image = Image.open(image_path).convert(\"RGBA\")\n",
    "    \n",
    "    # Define the dimensions of the output image\n",
    "    new_width = 3600  # Width in pixels for a 360° image\n",
    "    new_height = 1800  # Height in pixels for a 180° image\n",
    "    new_image = Image.new(\"RGBA\", (new_width, new_height), (0, 0, 0, 0))\n",
    "    \n",
    "    # Calculate scaling factors\n",
    "    lon_range = right_lon - left_lon\n",
    "    lat_range = top_lat - bottom_lat\n",
    "    \n",
    "    scale_x = new_width / lon_range\n",
    "    scale_y = new_height / lat_range\n",
    "    \n",
    "    # Calculate position to paste the original image\n",
    "    left = int((left_lon - (-180)) * scale_x)\n",
    "    top = int((90 - top_lat) * scale_y)\n",
    "    \n",
    "    # Paste the original image onto the transparent background\n",
    "    new_image.paste(image, (left, top))\n",
    "    \n",
    "    # Save the new image\n",
    "    new_image.save(output_path)\n",
    "\n",
    "\n",
    "# Coordinates for the US\n",
    "left_lon = -130  # Westernmost longitude of the image\n",
    "right_lon = -60   # Easternmost longitude of the image\n",
    "bottom_lat = 25.837592  # Southernmost latitude of Florida (approx)\n",
    "top_lat = 55.837592     # Northernmost latitude of the US (approx)\n",
    "\n",
    "\n",
    "# Example usage\n",
    "add_transparency(\n",
    "    image_path=\"C:/Users/alundkvi/Documents/work/scripts/conus-aurora-nolabels.png\",\n",
    "    output_path=\"C:/Users/alundkvi/Documents/work/scripts/us_image_transparent4.png\",\n",
    "    left_lon=left_lon,\n",
    "    right_lon=right_lon,\n",
    "    top_lat=top_lat,\n",
    "    bottom_lat=bottom_lat,\n",
    "    image_width=2212,\n",
    "    image_height=1239\n",
    ")\n"
   ]
  },
  {
   "cell_type": "code",
   "execution_count": 17,
   "metadata": {},
   "outputs": [
    {
     "name": "stderr",
     "output_type": "stream",
     "text": [
      "C:\\Users\\alundkvi\\AppData\\Local\\Temp\\4\\ipykernel_5712\\3876751299.py:11: DeprecationWarning: ANTIALIAS is deprecated and will be removed in Pillow 10 (2023-07-01). Use Resampling.LANCZOS instead.\n",
      "  image_resized = image.resize((scaled_width, scaled_height), Image.ANTIALIAS)\n"
     ]
    },
    {
     "name": "stdout",
     "output_type": "stream",
     "text": [
      "Image saved successfully at C:/Users/alundkvi/Documents/work/scripts/us_image_transparent2.png\n"
     ]
    }
   ],
   "source": [
    "from PIL import Image\n",
    "import numpy as np\n",
    "import cartopy.crs as ccrs\n",
    "import matplotlib.pyplot as plt\n",
    "\n",
    "def add_transparency(image_path, output_path, left_lon, right_lon, top_lat, bottom_lat, image_width, image_height, scale_factor):\n",
    " # Load and resize the original image\n",
    "    image = Image.open(image_path).convert(\"RGBA\")\n",
    "    scaled_width = int(image_width * scale_factor)\n",
    "    scaled_height = int(image_height * scale_factor)\n",
    "    image_resized = image.resize((scaled_width, scaled_height), Image.ANTIALIAS)\n",
    "    \n",
    "    # Define the size of the new image with transparency\n",
    "    new_width = 3600  # Width for the equirectangular projection\n",
    "    new_height = 1800  # Height for the equirectangular projection\n",
    "\n",
    "    # Create a new image with a transparent background\n",
    "    new_image = Image.new(\"RGBA\", (new_width, new_height), (0, 0, 0, 0))\n",
    "\n",
    "    # Setup the projection\n",
    "    proj = ccrs.PlateCarree()\n",
    "    \n",
    "    # Setup figure and axis with Cartopy\n",
    "    fig = plt.figure(figsize=(new_width / 100, new_height / 100), dpi=100)\n",
    "    ax = fig.add_subplot(1, 1, 1, projection=proj)\n",
    "    \n",
    "    # Set extent to match the coordinates\n",
    "    ax.set_extent([left_lon, right_lon, bottom_lat, top_lat], crs=proj)\n",
    "    \n",
    "    # Add the image to the axis with transparency\n",
    "    ax.imshow(np.array(image_resized), origin='upper', transform=proj, extent=[left_lon, right_lon, bottom_lat, top_lat], alpha=1.0)\n",
    "    \n",
    "    # Save the new image with transparency\n",
    "    plt.savefig(output_path, format='png', bbox_inches='tight', pad_inches=0, dpi=100, transparent=True)\n",
    "    plt.close(fig)\n",
    "    \n",
    "    print(f\"Image saved successfully at {output_path}\")\n",
    "\n",
    "\n",
    "# Coordinates for the US\n",
    "left_lon = -135  # Westernmost longitude of the image\n",
    "right_lon = -55  # Easternmost longitude of the image\n",
    "bottom_lat = 25.837592  # Southernmost latitude of Florida (approx)\n",
    "top_lat = 60.078868     # Northernmost latitude of the US (approx)\n",
    "\n",
    "# Example usage\n",
    "add_transparency(\n",
    "    image_path=\"C:/Users/alundkvi/Documents/work/scripts/conus-aurora-nolabels.png\",\n",
    "    output_path=\"C:/Users/alundkvi/Documents/work/scripts/us_image_transparent2.png\",\n",
    "    left_lon=left_lon,\n",
    "    right_lon=right_lon,\n",
    "    top_lat=top_lat,\n",
    "    bottom_lat=bottom_lat,\n",
    "    image_width=5544,\n",
    "    image_height=2772,\n",
    "    scale_factor=1.0  # Scale up by 5%\n",
    ")"
   ]
  }
 ],
 "metadata": {
  "kernelspec": {
   "display_name": "base",
   "language": "python",
   "name": "python3"
  },
  "language_info": {
   "codemirror_mode": {
    "name": "ipython",
    "version": 3
   },
   "file_extension": ".py",
   "mimetype": "text/x-python",
   "name": "python",
   "nbconvert_exporter": "python",
   "pygments_lexer": "ipython3",
   "version": "3.9.13"
  },
  "orig_nbformat": 4
 },
 "nbformat": 4,
 "nbformat_minor": 2
}
