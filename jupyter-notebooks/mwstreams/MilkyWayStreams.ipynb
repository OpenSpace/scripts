{
 "cells": [
  {
   "cell_type": "code",
   "execution_count": 2,
   "metadata": {},
   "outputs": [],
   "source": [
    "def int2rgb(n):\n",
    "    b = n % 256\n",
    "    g = int( ((n-b)/256) % 256 )      # always an integer\n",
    "    r = int( ((n-b)/256**2) - g/256 ) # ditto\n",
    "    return (str(r/255),str(g/255),str(b/255))\n"
   ]
  },
  {
   "cell_type": "code",
   "execution_count": 3,
   "metadata": {},
   "outputs": [
    {
     "name": "stdout",
     "output_type": "stream",
     "text": [
      "('0.9058823529411765', '0.5411764705882353', '0.7647058823529411')\n"
     ]
    }
   ],
   "source": [
    "#load streams from Adrian and show them in openspace\n",
    "import requests\n",
    "import json\n",
    "from matplotlib.colors import to_rgb\n",
    "\n",
    "with open(\"mwstreams.json\", \"r\") as read_file:\n",
    "    streams = json.load(read_file)\n",
    "\n",
    "color = streams[\"Jhelum\"][\"color\"]\n",
    "\n",
    "rgb_color = int2rgb(int(color,16))\n",
    "\n",
    "print(rgb_color)\n"
   ]
  },
  {
   "cell_type": "code",
   "execution_count": 4,
   "metadata": {},
   "outputs": [
    {
     "name": "stdout",
     "output_type": "stream",
     "text": [
      "Disk\n",
      "Disk\n",
      "MagellanicClouds\n",
      "MagellanicClouds\n",
      "Sagittarius\n",
      "Sagittarius\n",
      "GD-1\n",
      "GD1\n",
      "Orphan\n",
      "Orphan\n",
      "Pal 5\n",
      "Pal5\n",
      "Ophiuchus\n",
      "Ophiuchus\n",
      "ATLAS\n",
      "ATLAS\n",
      "Aliqa Uma\n",
      "AliqaUma\n",
      "Chenab\n",
      "Chenab\n",
      "Elqui\n",
      "Elqui\n",
      "Indus\n",
      "Indus\n",
      "Jhelum\n",
      "Jhelum\n",
      "Phoenix\n",
      "Phoenix\n",
      "Tucana III\n",
      "TucanaIII\n",
      "Turranburra\n",
      "Turranburra\n"
     ]
    }
   ],
   "source": [
    "keys = []\n",
    "asset = \"local assetHelper = asset.require('util/asset_helper')\\n\"\n",
    "asset += \"local transforms = asset.require('scene/solarsystem/sun/transforms')\"\n",
    "for stream_key in streams:\n",
    "    stream = streams[stream_key]\n",
    "    stream_name = stream_key.replace('-', ' ')\n",
    "    stream_name = stream_name.replace(' ', '')\n",
    "    print(stream_key);\n",
    "    color = stream[\"color\"]\n",
    "    rgb_color = int2rgb(int(color,16))\n",
    "    \n",
    "    print(stream_name);\n",
    "    \n",
    "    speck = \"\"\n",
    "    scale = 1\n",
    "    for star in stream[\"data\"]:\n",
    "        speck += str(star[0]*scale) + \"\\t\" + str(star[1]*scale) + \"\\t\" + str(star[2]*scale) + \"\\n\"\n",
    "\n",
    "    speck_file = open(stream_name + \".speck\", \"w\")\n",
    "    speck_file.write(speck)\n",
    "    speck_file.close()\n",
    "    \n",
    "    asset += \"local \" + stream_name + \" = {\\n\\\n",
    "        Identifier = '\" + stream_name + \"',\\n\\\n",
    "        Parent = 'Root',\\n\\\n",
    "        Transform = {\\n\\\n",
    "            Translation = {\\n\\\n",
    "                Type = 'StaticTranslation',\\n\\\n",
    "                -- The center of the Milky Way is approximately 8 kiloparsec from the Sun.\\n\\\n",
    "                -- The x-axis of galactic coordinates points from the sun towards the center\\n\\\n",
    "                -- of the galaxy.\\n\\\n",
    "                Position = { 8 * 3.086E19, 0, 0 }\\n\\\n",
    "            },\\n\\\n",
    "        },\\n\\\n",
    "        Renderable = {\\\n",
    "            Type = 'RenderableBillboardsCloud',\\n\\\n",
    "            Enabled = true,\\n\\\n",
    "            Color = {\" + rgb_color[0] + \",\" + rgb_color[1] + \", \" + rgb_color[2] + \"},\\n\\\n",
    "            Opacity = 0.70,\\\n",
    "            File = asset.localResource('\" + stream_name + \".speck'),\\n\\\n",
    "            Texture = asset.localResource('point3A.png'),\\n\\\n",
    "            PolygonSides = 6,\\n\\\n",
    "            Unit = 'Kpc',\\n\\\n",
    "            ScaleFactor = 440,\\n\\\n",
    "            BillboardMinMaxSize = { 0.0, 300.0 },\\n\\\n",
    "            EnablePixelSizeControl = false\\n\\\n",
    "        },\\\n",
    "        GUI = {\\n\\\n",
    "            Name = '\" + stream_name + \"',\\n\\\n",
    "            Path = '/Milky Way/Streams'\\n\\\n",
    "        }\\n\\\n",
    "    }\\n\\n\"\n",
    "\n",
    "    keys.append(stream_name)\n",
    "\n",
    "asset += \"assetHelper.registerSceneGraphNodesAndExport(asset, { \"\n",
    "for name in keys:\n",
    "    asset += name\n",
    "    asset += \",\"\n",
    "asset += \"})\"\n",
    "    \n",
    "asset_file = open(\"mwstreams.asset\", \"w\")\n",
    "asset_file.write(asset)\n",
    "asset_file.close()\n"
   ]
  },
  {
   "cell_type": "code",
   "execution_count": null,
   "metadata": {},
   "outputs": [],
   "source": []
  }
 ],
 "metadata": {
  "kernelspec": {
   "display_name": "Python 3",
   "language": "python",
   "name": "python3"
  },
  "language_info": {
   "codemirror_mode": {
    "name": "ipython",
    "version": 3
   },
   "file_extension": ".py",
   "mimetype": "text/x-python",
   "name": "python",
   "nbconvert_exporter": "python",
   "pygments_lexer": "ipython3",
   "version": "3.7.4"
  }
 },
 "nbformat": 4,
 "nbformat_minor": 2
}
