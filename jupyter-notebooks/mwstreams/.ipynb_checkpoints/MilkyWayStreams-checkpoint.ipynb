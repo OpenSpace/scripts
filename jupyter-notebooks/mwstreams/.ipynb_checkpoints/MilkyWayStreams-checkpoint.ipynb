{
 "cells": [
  {
   "cell_type": "code",
   "execution_count": 21,
   "metadata": {},
   "outputs": [],
   "source": [
    "def int2rgb(n):\n",
    "    b = n % 256\n",
    "    g = int( ((n-b)/256) % 256 )      # always an integer\n",
    "    r = int( ((n-b)/256**2) - g/256 ) # ditto\n",
    "    return (str(r/255),str(g/255),str(b/255))\n"
   ]
  },
  {
   "cell_type": "code",
   "execution_count": 22,
   "metadata": {},
   "outputs": [
    {
     "name": "stdout",
     "output_type": "stream",
     "text": [
      "('0.9058823529411765', '0.5411764705882353', '0.7647058823529411')\n"
     ]
    }
   ],
   "source": [
    "#load streams from Adrian and show them in openspace\n",
    "import requests\n",
    "import json\n",
    "from matplotlib.colors import to_rgb\n",
    "import urllib.request\n",
    "\n",
    "with urllib.request.urlopen(\"http://adrian.pw/visualizations/mwstreams/data.json\") as url:\n",
    "    streams = json.loads(url.read().decode())\n"
   ]
  },
  {
   "cell_type": "code",
   "execution_count": 32,
   "metadata": {},
   "outputs": [
    {
     "name": "stdout",
     "output_type": "stream",
     "text": [
      "Disk\n",
      "MagellanicClouds\n",
      "Sagittarius\n",
      "GD-1\n",
      "Orphan\n",
      "Pal 5\n",
      "Ophiuchus\n",
      "ATLAS\n",
      "Aliqa Uma\n",
      "Chenab\n",
      "Elqui\n",
      "Indus\n",
      "Jhelum\n",
      "Phoenix\n",
      "Tucana III\n",
      "Turranburra\n"
     ]
    }
   ],
   "source": [
    "keys = []\n",
    "asset = \"local assetHelper = asset.require('util/asset_helper')\\n\"\n",
    "asset += \"local transforms = asset.require('scene/solarsystem/sun/transforms')\"\n",
    "for stream_key in streams:\n",
    "    stream = streams[stream_key]\n",
    "    stream_name = stream_key.replace('-', ' ')\n",
    "    stream_name = stream_name.replace(' ', '')\n",
    "    print(stream_key);\n",
    "    color = stream[\"color\"]\n",
    "    rgb_color = int2rgb(int(color,16))\n",
    "    \n",
    "    speck = \"\"\n",
    "    scale = 1\n",
    "    for star in stream[\"data\"]:\n",
    "        speck += str(star[0]*scale) + \"\\t\" + str(star[1]*scale) + \"\\t\" + str(star[2]*scale) + \"\\n\"\n",
    "\n",
    "    speck_file = open(stream_name + \".speck\", \"w\")\n",
    "    speck_file.write(speck)\n",
    "    speck_file.close()\n",
    "\n",
    "    #get values for presentation\n",
    "    stream_opacity = 1.0\n",
    "    if 'opacity' in stream:\n",
    "        stream_opacity = stream[\"opacity\"]\n",
    "    stream_size = 0.35\n",
    "    if stream_name == 'Disk':\n",
    "        stream_size = 0.1\n",
    "    if 'size' in stream:\n",
    "        stream_size = stream['size']\n",
    "    #arbitrary starting value of 405 based on other assets\n",
    "    stream_scale_factor = 430 + 20 * stream_size\n",
    "\n",
    "    #create asset lua\n",
    "    asset += \"local \" + stream_name + \" = {\\n\\\n",
    "        Identifier = '\" + stream_name + \"',\\n\\\n",
    "        Parent = 'Root',\\n\\\n",
    "        Transform = {\\n\\\n",
    "            Translation = {\\n\\\n",
    "                Type = 'StaticTranslation',\\n\\\n",
    "                -- The center of the Milky Way is approximately 8 kiloparsec from the Sun.\\n\\\n",
    "                -- The x-axis of galactic coordinates points from the sun towards the center\\n\\\n",
    "                -- of the galaxy.\\n\\\n",
    "                Position = { 8 * 3.086E19, 0, 0 }\\n\\\n",
    "            },\\n\\\n",
    "        },\\n\\\n",
    "        Renderable = {\\\n",
    "            Type = 'RenderableBillboardsCloud',\\n\\\n",
    "            Enabled = true,\\n\\\n",
    "            Color = {\" + rgb_color[0] + \",\" + rgb_color[1] + \", \" + rgb_color[2] + \"},\\n\\\n",
    "            Opacity = \" + str(stream_opacity) + \",\\\n",
    "            File = asset.localResource('\" + stream_name + \".speck'),\\n\\\n",
    "            Texture = asset.localResource('point3A.png'),\\n\\\n",
    "            PolygonSides = 6,\\n\\\n",
    "            Unit = 'Kpc',\\n\\\n",
    "            ScaleFactor = \" + str(stream_scale_factor) + \",\\n\\\n",
    "            BillboardMinMaxSize = { 0.0, 300.0 },\\n\\\n",
    "            EnablePixelSizeControl = false\\n\\\n",
    "        },\\\n",
    "        GUI = {\\n\\\n",
    "            Name = '\" + stream_name + \"',\\n\\\n",
    "            Path = '/Milky Way/Streams'\\n\\\n",
    "        }\\n\\\n",
    "    }\\n\\n\"\n",
    "\n",
    "    keys.append(stream_name)\n",
    "\n",
    "asset += \"assetHelper.registerSceneGraphNodesAndExport(asset, { \"\n",
    "for name in keys:\n",
    "    asset += name\n",
    "    asset += \",\"\n",
    "asset += \"})\"\n",
    "    \n",
    "asset_file = open(\"mwstreams.asset\", \"w\")\n",
    "asset_file.write(asset)\n",
    "asset_file.close()\n"
   ]
  },
  {
   "cell_type": "code",
   "execution_count": 33,
   "metadata": {},
   "outputs": [
    {
     "data": {
      "text/plain": [
       "168"
      ]
     },
     "execution_count": 33,
     "metadata": {},
     "output_type": "execute_result"
    }
   ],
   "source": [
    "#get full path for script command\n",
    "import os\n",
    "asset_full_path = os.path.realpath(asset_file.name)\n",
    "\n",
    "\n",
    "\n",
    "#connect to openspace \n",
    "from websocket import create_connection\n",
    "import json\n",
    "url = \"localhost:4682\"\n",
    "ws_endpoint = f\"ws://localhost:4682/websocket\"\n",
    "ws = create_connection(ws_endpoint)\n",
    "#command to add asset\n",
    "message = json.dumps({\"topic\": 4,\n",
    "                  \"type\": \"luascript\",\n",
    "                  \"payload\": {\"function\": \"openspace.asset.add\",\n",
    "                              \"arguments\": [asset_full_path],\n",
    "                              \"return\": False}})\n",
    "ws.send(message)\n",
    "#refresh menu\n",
    "message = json.dumps({\"topic\": 4,\n",
    "                  \"type\": \"luascript\",\n",
    "                  \"payload\": {\"function\": \"openspace.setPropertyValueSingle\",\n",
    "                              \"arguments\": ['Modules.CefWebGui.Reload', None],\n",
    "                              \"return\": False}})\n",
    "ws.send(message)\n",
    "#ws.close()"
   ]
  },
  {
   "cell_type": "code",
   "execution_count": 31,
   "metadata": {},
   "outputs": [],
   "source": [
    "#remove asset if you want to change values and try again\n",
    "message = json.dumps({\"topic\": 4,\n",
    "                  \"type\": \"luascript\",\n",
    "                  \"payload\": {\"function\": \"openspace.asset.remove\",\n",
    "                              \"arguments\": [asset_full_path],\n",
    "                              \"return\": False}})\n",
    "ws.send(message)\n",
    "ws.close()"
   ]
  },
  {
   "cell_type": "code",
   "execution_count": null,
   "metadata": {},
   "outputs": [],
   "source": []
  }
 ],
 "metadata": {
  "kernelspec": {
   "display_name": "Python 3",
   "language": "python",
   "name": "python3"
  },
  "language_info": {
   "codemirror_mode": {
    "name": "ipython",
    "version": 3
   },
   "file_extension": ".py",
   "mimetype": "text/x-python",
   "name": "python",
   "nbconvert_exporter": "python",
   "pygments_lexer": "ipython3",
   "version": "3.7.4"
  }
 },
 "nbformat": 4,
 "nbformat_minor": 2
}
