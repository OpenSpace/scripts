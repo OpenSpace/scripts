{
 "cells": [
  {
   "cell_type": "code",
   "execution_count": 1,
   "id": "5265445a",
   "metadata": {},
   "outputs": [],
   "source": [
    "from astropy import units as u\n",
    "from astropy.coordinates import SkyCoord\n",
    "import tempfile\n",
    "\n",
    "def data_to_speck(data, lon_att, lat_att, alt_att=None, frame=None, alt_unit=None,outfile='test'):\n",
    "\n",
    "    # TODO: add support for different units, e.g. hour angle\n",
    "\n",
    "    lon = data[lon_att]\n",
    "    lat = data[lat_att]\n",
    "\n",
    "    if alt_att is None:\n",
    "\n",
    "        # Get cartesian coordinates on unit galactic sphere\n",
    "        coord = SkyCoord(lon, lat, unit='deg',\n",
    "                         frame=frame.lower())\n",
    "        x, y, z = coord.galactic.cartesian.xyz\n",
    "\n",
    "        # Convert to be on a sphere of radius 100pc\n",
    "        D = 100\n",
    "        x *= D\n",
    "        y *= D\n",
    "        z *= D\n",
    "\n",
    "    else:\n",
    "\n",
    "        distance = data[alt_att]\n",
    "\n",
    "        # Get cartesian coordinates on unit galactic sphere\n",
    "        coord = SkyCoord(lon * u.deg, lat * u.deg,\n",
    "                         distance=distance * u.Unit(alt_unit),\n",
    "                         frame=frame.lower())\n",
    "        x, y, z = coord.galactic.cartesian.xyz\n",
    "\n",
    "        x = x.to_value(u.pc)\n",
    "        y = y.to_value(u.pc)\n",
    "        z = z.to_value(u.pc)\n",
    "\n",
    "    # Create speck table\n",
    "\n",
    "    tmpfile = './job_talk_data/{}.speck'.format(outfile)\n",
    "\n",
    "    with open(tmpfile, 'w') as f:\n",
    "\n",
    "        f.write('datavar 0 colorb_v\\n')\n",
    "        f.write('datavar 1 lum\\n')\n",
    "        f.write('datavar 2 absmag\\n')\n",
    "        f.write('datavar 3 appmag\\n')\n",
    "\n",
    "        for i in range(len(x)):\n",
    "            f.write('  {0:10.5f} {1:10.5f} {2:10.5f} {3:10.5f} {4:10.5f} {5:10.5f} {6:10.5f}\\n'.format(x[i], y[i], z[i], 0., 100., 0., 0.))\n",
    "\n",
    "    return tmpfile"
   ]
  },
  {
   "cell_type": "code",
   "execution_count": 2,
   "id": "afaa052e",
   "metadata": {},
   "outputs": [],
   "source": [
    "from astropy.table import Table,vstack\n",
    "\n",
    "data = Table.read(\"./job_talk_data/cloud_spines_compiled.fits\")\n",
    "\n",
    "speckfile = data_to_speck(data,'l','b',alt_att='d',frame='galactic',alt_unit='pc',outfile='CloudSpines')"
   ]
  },
  {
   "cell_type": "code",
   "execution_count": null,
   "id": "4e499321",
   "metadata": {},
   "outputs": [],
   "source": []
  }
 ],
 "metadata": {
  "kernelspec": {
   "display_name": "Python 3 (ipykernel)",
   "language": "python",
   "name": "python3"
  },
  "language_info": {
   "codemirror_mode": {
    "name": "ipython",
    "version": 3
   },
   "file_extension": ".py",
   "mimetype": "text/x-python",
   "name": "python",
   "nbconvert_exporter": "python",
   "pygments_lexer": "ipython3",
   "version": "3.9.7"
  }
 },
 "nbformat": 4,
 "nbformat_minor": 5
}
