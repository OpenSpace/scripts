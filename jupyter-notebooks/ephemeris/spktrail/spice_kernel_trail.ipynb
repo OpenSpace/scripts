{
 "cells": [
  {
   "cell_type": "code",
   "execution_count": null,
   "id": "e6e2c667",
   "metadata": {},
   "outputs": [],
   "source": [
    "#In this notebook we will take generic ephemeris data and use it to display a trail in OpenSpace\n",
    "#In order to do this we will first take the generic data and convert it into a NAIF SPICE file (.bsp)\n",
    "# which is the highest precision type of data file OpenSpace can import. Once we have created the \n",
    "# spice data file we generate an OpenSpace asset file with paramaters describing how to visualize the data.\n",
    "# Finally we send a command to OpenSpace to add the asset file to the running instance of OpenSpace for visualiztion."
   ]
  },
  {
   "cell_type": "code",
   "execution_count": 12,
   "id": "ae7f31bf",
   "metadata": {
    "scrolled": false
   },
   "outputs": [],
   "source": [
    "#generate data for trail and output as states for input to mkspk\n",
    "\n",
    "data_name = '367943 Duende (2012 DA14)'\n",
    "data_name_strip = '367943_2012_DA14'\n",
    "data_id = '367943'\n",
    "#import pandas as pd\n",
    "\n",
    "#propagated = pd.read_csv(\"example_states.csv\", index_col=False)\n",
    "\n",
    "#print(propagated)"
   ]
  },
  {
   "cell_type": "code",
   "execution_count": 13,
   "id": "dc27a366",
   "metadata": {},
   "outputs": [],
   "source": [
    "#create mkspk setupfile and comment\n",
    "setup = \"\"\n",
    "\n",
    "setup += \"\\\\begindata\\n\\\n",
    "   INPUT_DATA_TYPE   = 'STATES'\\n\\\n",
    "   INPUT_DATA_FILE   = 'da14example_states.csv'\\n\\\n",
    "   OUTPUT_SPK_FILE   = '\" + data_name_strip + \".bsp'\\n\\\n",
    "   OUTPUT_SPK_TYPE   = 8\\n\\\n",
    "   OBJECT_ID         = \" + data_id + \"\\n\\\n",
    "   OBJECT_NAME       = '\" + data_name_strip + \"'\\n\\\n",
    "   CENTER_ID         = 0\\n\\\n",
    "   CENTER_NAME       = 'SSB'\\n\\\n",
    "   REF_FRAME_NAME    = 'GALACTIC'\\n\\\n",
    "   PRODUCER_ID       = 'B612'\\n\\\n",
    "   DATA_ORDER        = 'EPOCH X Y Z VX VY VZ'\\n\\\n",
    "   INPUT_DATA_UNITS  = ('ANGLES=DEGREES' 'DISTANCES=AU')\\n\\\n",
    "   DATA_DELIMITER    = ','\\n\\\n",
    "   LINES_PER_RECORD  = 1\\n\\\n",
    "   IGNORE_FIRST_LINE = 1\\n\\\n",
    "   LEAPSECONDS_FILE  = 'naif0012.tls'\\n\\\n",
    "   POLYNOM_DEGREE    = 9\\n\\\n",
    "   SEGMENT_ID        = 'SPK_STATES_08'\\n\\\n",
    "   TIME_WRAPPER      = '# ETSECONDS'\\n\\\n",
    "\\\\begintext\\n\"\n",
    "\n",
    "setup_file = open(\"setup.mkspk\", \"w\")\n",
    "setup_file.write(setup)\n",
    "setup_file.close()\n"
   ]
  },
  {
   "cell_type": "code",
   "execution_count": 14,
   "id": "6e0056c2",
   "metadata": {},
   "outputs": [
    {
     "data": {
      "text/plain": [
       "0"
      ]
     },
     "execution_count": 14,
     "metadata": {},
     "output_type": "execute_result"
    }
   ],
   "source": [
    "#run mkspk\n",
    "import os\n",
    "os.system('rm ' + data_id + '.bsp')\n",
    "os.system('mkspk.exe -setup setup.mkspk')\n"
   ]
  },
  {
   "cell_type": "code",
   "execution_count": 15,
   "id": "2cc50419",
   "metadata": {},
   "outputs": [],
   "source": [
    "#create .asset file referencing mkspk output \n",
    "asset = \"local assetHelper = asset.require('util/asset_helper')\\n\"\n",
    "asset += \"local spkTrail = {\\n\\\n",
    "    Identifier = '\" + data_name + \"',\\n\\\n",
    "    Parent = 'Earth',\\n\\\n",
    "    Renderable = {\\n\\\n",
    "        Type = 'RenderableTrailTrajectory',\\n\\\n",
    "        Enabled = true,\\n\\\n",
    "        Translation = {\\n\\\n",
    "          Type = 'SpiceTranslation',\\n\\\n",
    "          Target = '\" + data_id + \"',\\n\\\n",
    "          Observer = 'SSB',\\n\\\n",
    "          Kernels = {asset.localResource('\"+data_name_strip+\".bsp')}\\n\\\n",
    "        },\\n\\\n",
    "        Color = { 0.4, 0.0, 0.7 },\\n\\\n",
    "        StartTime = '2020-05-31 00:01:09.185',\\n\\\n",
    "        EndTime = '2022-08-09 00:01:09.183',\\n\\\n",
    "        SampleInterval = 3600\\n\\\n",
    "    },\\n\\\n",
    "    GUI = {\\n\\\n",
    "        Name = '\" + data_name + \"',\\n\\\n",
    "        Path = '/B612'\\n\\\n",
    "    }\\n\\\n",
    "}\\n\\n\"\n",
    "\n",
    "asset += \"assetHelper.registerSceneGraphNodesAndExport(asset, { spkTrail })\"\n",
    "    \n",
    "asset_file = open(data_name_strip+\".asset\", \"w\")\n",
    "asset_file.write(asset)\n",
    "asset_file.close()"
   ]
  },
  {
   "cell_type": "code",
   "execution_count": 16,
   "id": "fabe5997",
   "metadata": {},
   "outputs": [
    {
     "data": {
      "text/plain": [
       "168"
      ]
     },
     "execution_count": 16,
     "metadata": {},
     "output_type": "execute_result"
    }
   ],
   "source": [
    "#send command to add asset\n",
    "\n",
    "#get full path for script command\n",
    "import os\n",
    "asset_full_path = os.path.realpath(asset_file.name)\n",
    "\n",
    "#connect to openspace \n",
    "from websocket import create_connection\n",
    "import json\n",
    "ws_endpoint = f\"ws://localhost:4682/websocket\"\n",
    "ws = create_connection(ws_endpoint)\n",
    "#command to add asset\n",
    "message = json.dumps({\"topic\": 4,\n",
    "                  \"type\": \"luascript\",\n",
    "                  \"payload\": {\"function\": \"openspace.asset.add\",\n",
    "                              \"arguments\": [asset_full_path],\n",
    "                              \"return\": False}})\n",
    "ws.send(message)\n",
    "#refresh menu\n",
    "message = json.dumps({\"topic\": 4,\n",
    "                  \"type\": \"luascript\",\n",
    "                  \"payload\": {\"function\": \"openspace.setPropertyValueSingle\",\n",
    "                              \"arguments\": ['Modules.CefWebGui.Reload', None],\n",
    "                              \"return\": False}})\n",
    "ws.send(message)\n",
    "#ws.close() #uncomment if done and you are not going to remove the asset."
   ]
  },
  {
   "cell_type": "code",
   "execution_count": null,
   "id": "68ac246a",
   "metadata": {},
   "outputs": [],
   "source": [
    "# (optional) remove asset file (needed if you want to change things and try again)\n",
    "message = json.dumps({\"topic\": 4,\n",
    "                  \"type\": \"luascript\",\n",
    "                  \"payload\": {\"function\": \"openspace.asset.remove\",\n",
    "                              \"arguments\": [asset_full_path],\n",
    "                              \"return\": False}})\n",
    "ws.send(message)\n",
    "ws.close()"
   ]
  }
 ],
 "metadata": {
  "kernelspec": {
   "display_name": "Python 3 (ipykernel)",
   "language": "python",
   "name": "python3"
  },
  "language_info": {
   "codemirror_mode": {
    "name": "ipython",
    "version": 3
   },
   "file_extension": ".py",
   "mimetype": "text/x-python",
   "name": "python",
   "nbconvert_exporter": "python",
   "pygments_lexer": "ipython3",
   "version": "3.9.7"
  }
 },
 "nbformat": 4,
 "nbformat_minor": 5
}
