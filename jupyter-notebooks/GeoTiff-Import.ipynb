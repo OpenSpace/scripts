{
 "cells": [
  {
   "cell_type": "code",
   "execution_count": 20,
   "metadata": {},
   "outputs": [
    {
     "name": "stdout",
     "output_type": "stream",
     "text": [
      "Variables set\n"
     ]
    }
   ],
   "source": [
    "#files from this example downloaded from NASA MoonTrek\n",
    "#link below has layers enabled for download\n",
    "#https://trek.nasa.gov/moon/#v=0.1&x=-2.3071288632138396&y=-12.604064706295468&z=9&p=urn%3Aogc%3Adef%3Acrs%3AEPSG%3A%3A104903&d=&l=LRO_NAC_DEM_13S358E_200cmp%2Ctrue%2C1&l=LRO_NAC_Mosaic_13S358E_50cmp%2Ctrue%2C1&locale=&b=moon&e=-3.563690119071365%2C-13.404693353470263%2C-1.0505676073563142%2C-11.803436059120672&sfz=&w=\n",
    "\n",
    "#enter filepaths\n",
    "image_filepath = \"C:/Users/Micah Acinapura/Downloads/LRO_NAC_Mosaic_13S358E_50cmp.tif\"\n",
    "height_filepath = \"C:/Users/Micah Acinapura/Downloads/LRO_NAC_DEM_13S358E_200cmp.tif\"\n",
    "#enter name, description\n",
    "layer_name = \"Alphonsus\"\n",
    "layer_description = \"Alphonsus LROC image and dem from MoonTrek\"\n",
    "\n",
    "#output folder for converted .tif, .vrt, and .info files\n",
    "output_path = \"C:/os/OpenSpaceData/Moon2/\"\n",
    "globe_for_layers = 'Moon'\n",
    "\n",
    "print(\"Variables set\")"
   ]
  },
  {
   "cell_type": "code",
   "execution_count": 21,
   "metadata": {
    "scrolled": true
   },
   "outputs": [
    {
     "name": "stdout",
     "output_type": "stream",
     "text": [
      "warping image to long lat projection...please wait...\n",
      "warping dem to long lat projection...please wait...\n"
     ]
    }
   ],
   "source": [
    "#requires osgeo/gdal.\n",
    "#I installed with $conda install -c conda-forge gdal\n",
    "from osgeo import gdal\n",
    "\n",
    "#warp tifs for openspace projection\n",
    "intput_image_data = gdal.Open(image_filepath);\n",
    "srcband = intput_image_data.GetRasterBand(1);\n",
    "image_nodata = srcband.GetNoDataValue()\n",
    "print('warping image to long lat projection...please wait...')\n",
    "output_image_filepath = output_path + layer_name + '.tif'\n",
    "output_image_data = gdal.Warp(output_image_filepath, intput_image_data, dstSRS='+proj=longlat')\n",
    "output_image_data = None\n",
    "intput_image_data = None\n",
    "\n",
    "\n",
    "input_height_data = gdal.Open(height_filepath);\n",
    "srcband = input_height_data.GetRasterBand(1);\n",
    "height_nodata = srcband.GetNoDataValue()\n",
    "print('warping dem to long lat projection...please wait...')\n",
    "output_height_filepath = output_path + layer_name + '_dem.tif'\n",
    "output_height_data = gdal.Warp(output_height_filepath, input_height_data, dstSRS='+proj=longlat')\n",
    "output_height_data = None\n",
    "input_height_data = None\n",
    "\n",
    "#create .vrt files required for alpha channel\n",
    "image_vrt_filepath = output_path + layer_name + \".vrt\"\n",
    "height_vrt_filepath = output_path + layer_name + \"_dem.vrt\"\n",
    "\n",
    "vrt_options = gdal.BuildVRTOptions(outputBounds=(-180, -90, 180, 90), addAlpha=True)\n",
    "image_vrt = gdal.BuildVRT(image_vrt_filepath, output_image_filename, options=vrt_options)\n",
    "image_vrt = None\n",
    "\n",
    "vrt_options = gdal.BuildVRTOptions(outputBounds=(-180, -90, 180, 90), addAlpha=True)\n",
    "height_vrt = gdal.BuildVRT(height_vrt_filepath, output_height_filepath, options=vrt_options)\n",
    "height_vrt = None\n",
    "\n",
    "#hack to add nodata value to alpha channel\n",
    "wrote_first = False\n",
    "with open(image_vrt_filepath, \"r\") as in_file:\n",
    "    buf = in_file.readlines()\n",
    "with open(image_vrt_filepath, \"w\") as out_file:\n",
    "    for line in buf:\n",
    "        if line.startswith(\"    <ColorInterp>Alpha</ColorInterp>\"):\n",
    "            line = f\"<NoDataValue>{image_nodata}</NoDataValue>\\n\"+ line\n",
    "            wrote_first = True\n",
    "        if line.startswith(\"    </ComplexSource>\") and wrote_first :\n",
    "            line = f\"<NODATA>{image_nodata}</NODATA>\\n\"+ line\n",
    "        out_file.write(line)\n",
    "#repeat for height\n",
    "wrote_first = False\n",
    "with open(height_vrt_filepath, \"r\") as in_file:\n",
    "    buf = in_file.readlines()\n",
    "with open(height_vrt_filepath, \"w\") as out_file:\n",
    "    for line in buf:\n",
    "        if line.startswith(\"    <ColorInterp>Alpha</ColorInterp>\"):\n",
    "            line = f\"<NoDataValue>{height_nodata}</NoDataValue>\\n\"+ line\n",
    "            wrote_first = True\n",
    "        if line.startswith(\"    </ComplexSource>\") and wrote_first :\n",
    "            line = f\"<NODATA>{height_nodata}</NODATA>\\n\"+ line\n",
    "        out_file.write(line)        "
   ]
  },
  {
   "cell_type": "code",
   "execution_count": 22,
   "metadata": {},
   "outputs": [],
   "source": [
    "#create info file for openspace\n",
    "f = open(output_path + layer_name + \".info\", \"a\")\n",
    "f.write(\"Name=\\\"\" + layer_name + \"\\\"\\n\");\n",
    "f.write(\"Identifier=\\\"\" + layer_name + \"\\\"\\n\");\n",
    "f.write(\"Description=\\\"\" + layer_description + \"\\\"\\n\");\n",
    "f.write(\"ColorFile=\\\"\" + layer_name + \".vrt\\\"\\n\");\n",
    "f.write(\"HeightFile=\\\"\" + layer_name + \"_dem.vrt\\\"\\n\");\n",
    "f.close()"
   ]
  },
  {
   "cell_type": "code",
   "execution_count": 23,
   "metadata": {},
   "outputs": [],
   "source": [
    "#send command to add layers\n",
    "#connect to openspace and pause time\n",
    "from websocket import create_connection\n",
    "import json\n",
    "url = \"localhost:4682\"\n",
    "ws_endpoint = f\"ws://localhost:4682/websocket\"\n",
    "ws = create_connection(ws_endpoint)\n",
    "#add layers to globe\n",
    "message = json.dumps({\"topic\": 4,\n",
    "                  \"type\": \"luascript\",\n",
    "                  \"payload\": {\"function\": \"openspace.globebrowsing.addBlendingLayersFromDirectory\",\n",
    "                              \"arguments\": [output_path, globe_for_layers],\n",
    "                              \"return\": False}})\n",
    "ws.send(message)\n",
    "#refresh menu\n",
    "message = json.dumps({\"topic\": 4,\n",
    "                  \"type\": \"luascript\",\n",
    "                  \"payload\": {\"function\": \"openspace.setPropertyValueSingle\",\n",
    "                              \"arguments\": ['Modules.CefWebGui.Reload', None],\n",
    "                              \"return\": False}})\n",
    "ws.send(message)\n",
    "ws.close()"
   ]
  },
  {
   "cell_type": "code",
   "execution_count": null,
   "metadata": {},
   "outputs": [],
   "source": [
    "#future cell could find center point and navigate globe with openspace.globebrowsing.gotogeo and enable the layer"
   ]
  }
 ],
 "metadata": {
  "kernelspec": {
   "display_name": "Python 3",
   "language": "python",
   "name": "python3"
  },
  "language_info": {
   "codemirror_mode": {
    "name": "ipython",
    "version": 3
   },
   "file_extension": ".py",
   "mimetype": "text/x-python",
   "name": "python",
   "nbconvert_exporter": "python",
   "pygments_lexer": "ipython3",
   "version": "3.7.4"
  }
 },
 "nbformat": 4,
 "nbformat_minor": 2
}
