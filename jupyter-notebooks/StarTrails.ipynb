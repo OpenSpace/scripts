{
 "cells": [
  {
   "cell_type": "code",
   "execution_count": 112,
   "metadata": {},
   "outputs": [
    {
     "data": {
      "text/plain": [
       "131"
      ]
     },
     "execution_count": 112,
     "metadata": {},
     "output_type": "execute_result"
    }
   ],
   "source": [
    "#note before starting. for versions <= 0.16.0. \n",
    "#You must edit the openspace.cfg file and change ScreenshotUseDate from true to false \n",
    "\n",
    "#connect to openspace and pause time\n",
    "from websocket import create_connection\n",
    "import json\n",
    "url = \"localhost:4682\"\n",
    "ws_endpoint = f\"ws://localhost:4682/websocket\"\n",
    "ws = create_connection(ws_endpoint)\n",
    "message = json.dumps({\"topic\": 4,\n",
    "                  \"type\": \"luascript\",\n",
    "                  \"payload\": {\"function\": \"openspace.time.setPause\",\n",
    "                              \"arguments\": [\"true\"],\n",
    "                              \"return\": False}})\n",
    "ws.send(message)"
   ]
  },
  {
   "cell_type": "code",
   "execution_count": 113,
   "metadata": {},
   "outputs": [
    {
     "data": {
      "text/plain": [
       "163"
      ]
     },
     "execution_count": 113,
     "metadata": {},
     "output_type": "execute_result"
    }
   ],
   "source": [
    "#Goto your place on the globe\n",
    "lat = 40.7208636\n",
    "lon = -74.0094477\n",
    "altitude = 220\n",
    "message = json.dumps({\"topic\": 4,\n",
    "                  \"type\": \"luascript\",\n",
    "                  \"payload\": {\"function\": \"openspace.globebrowsing.goToGeo\",\n",
    "                              \"arguments\": [lat,lon,altitude],\n",
    "                              \"return\": False}})\n",
    "ws.send(message)"
   ]
  },
  {
   "cell_type": "code",
   "execution_count": 88,
   "metadata": {
    "scrolled": true
   },
   "outputs": [],
   "source": [
    "#in OpenSpace look up at the stars\n",
    "#this cell could later be replaced with openspace.navigation.getNavigationState, adding a 90 rotation to the up vector\n",
    "#and then calling openspace.navigation.setNavigationState with the updated values\n",
    "\n",
    "\n",
    "#import json\n",
    "#message = json.dumps({\"topic\": 4,\n",
    "#                  \"type\": \"luascript\",\n",
    "#                  \"payload\": {\"function\": \"openspace.navigation.getNavigationState\",\n",
    "#                              \"arguments\": [],\n",
    "#                              \"return\": True}})\n",
    "#ws.send(message)\n",
    "#response = ws.recv()\n",
    "#data = json.loads(response)\n",
    "#print(response)\n",
    "#navState = data['payload']['1']\n",
    "#3D rotate here...does this depend on lat/lon?\n",
    "#navState['Pitch'] = 0;\n",
    "#navState['Yaw'] = 0;\n",
    "#message = json.dumps({\"topic\": 4,\n",
    "#                  \"type\": \"luascript\",\n",
    "#                  \"payload\": {\"function\": \"openspace.navigation.setNavigationState\",\n",
    "#                              \"arguments\": [json.dumps(navState)],\n",
    "#                              \"return\": True}})\n",
    "#ws.send(message)"
   ]
  },
  {
   "cell_type": "code",
   "execution_count": 114,
   "metadata": {},
   "outputs": [
    {
     "name": "stdout",
     "output_type": "stream",
     "text": [
      "...................."
     ]
    }
   ],
   "source": [
    "#set your time\n",
    "import time\n",
    "import datetime\n",
    "\n",
    "timestring = \"2021-03-09T23:42:02.393\"\n",
    "timestamp = time.mktime(datetime.datetime.strptime(timestring, '%Y-%m-%dT%H:%M:%S.%f').timetuple())\n",
    "j2000offset = datetime.datetime(2000,1,1,12) - datetime.datetime(1970,1,1)\n",
    "timestamp -= j2000offset.total_seconds()\n",
    "\n",
    "#set your interval and number of images\n",
    "interval = 300 #in seconds\n",
    "number_of_photos = 20\n",
    "\n",
    "#loop, set time, take screenshot\n",
    "for i in range(0, number_of_photos):\n",
    "    message = json.dumps({\"topic\": 4,\n",
    "                  \"type\": \"luascript\",\n",
    "                  \"payload\": {\"function\": \"openspace.time.setTime\",\n",
    "                              \"arguments\": [timestamp],\n",
    "                              \"return\": False}})\n",
    "    ws.send(message)\n",
    "    time.sleep(0.1) #adjust if low fps\n",
    "    message = json.dumps({\"topic\": 4,\n",
    "                  \"type\": \"luascript\",\n",
    "                  \"payload\": {\"function\": \"openspace.takeScreenshot\",\n",
    "                              \"arguments\": [],\n",
    "                              \"return\": False}})\n",
    "    ws.send(message)\n",
    "    time.sleep(0.25) #adjust if hires screenshot\n",
    "    timestamp += interval\n",
    "    print (\".\", end=\"\", flush=True)\n"
   ]
  },
  {
   "cell_type": "code",
   "execution_count": 115,
   "metadata": {
    "scrolled": false
   },
   "outputs": [
    {
     "ename": "IndexError",
     "evalue": "list index out of range",
     "output_type": "error",
     "traceback": [
      "\u001b[1;31m---------------------------------------------------------------------------\u001b[0m",
      "\u001b[1;31mIndexError\u001b[0m                                Traceback (most recent call last)",
      "\u001b[1;32m<ipython-input-115-c4f900b3edbd>\u001b[0m in \u001b[0;36m<module>\u001b[1;34m\u001b[0m\n\u001b[0;32m      9\u001b[0m \u001b[0mfiles\u001b[0m   \u001b[1;33m=\u001b[0m \u001b[0mos\u001b[0m\u001b[1;33m.\u001b[0m\u001b[0mlistdir\u001b[0m\u001b[1;33m(\u001b[0m\u001b[0mimageDir\u001b[0m\u001b[1;33m)\u001b[0m\u001b[1;33m\u001b[0m\u001b[1;33m\u001b[0m\u001b[0m\n\u001b[0;32m     10\u001b[0m \u001b[0mimagesToProcess\u001b[0m  \u001b[1;33m=\u001b[0m \u001b[1;33m[\u001b[0m\u001b[0mname\u001b[0m \u001b[1;32mfor\u001b[0m \u001b[0mname\u001b[0m \u001b[1;32min\u001b[0m \u001b[0mfiles\u001b[0m \u001b[1;32mif\u001b[0m \u001b[0mname\u001b[0m\u001b[1;33m[\u001b[0m\u001b[1;33m-\u001b[0m\u001b[1;36m4\u001b[0m\u001b[1;33m:\u001b[0m\u001b[1;33m]\u001b[0m \u001b[1;32min\u001b[0m \u001b[1;33m[\u001b[0m\u001b[1;34m\".png\"\u001b[0m\u001b[1;33m]\u001b[0m\u001b[1;33m]\u001b[0m\u001b[1;33m\u001b[0m\u001b[1;33m\u001b[0m\u001b[0m\n\u001b[1;32m---> 11\u001b[1;33m \u001b[0mwidth\u001b[0m\u001b[1;33m,\u001b[0m \u001b[0mheight\u001b[0m \u001b[1;33m=\u001b[0m \u001b[0mImage\u001b[0m\u001b[1;33m.\u001b[0m\u001b[0mopen\u001b[0m\u001b[1;33m(\u001b[0m\u001b[0mimageDir\u001b[0m\u001b[1;33m+\u001b[0m\u001b[1;34m'/'\u001b[0m\u001b[1;33m+\u001b[0m\u001b[0mimagesToProcess\u001b[0m\u001b[1;33m[\u001b[0m\u001b[1;36m0\u001b[0m\u001b[1;33m]\u001b[0m\u001b[1;33m)\u001b[0m\u001b[1;33m.\u001b[0m\u001b[0msize\u001b[0m\u001b[1;33m\u001b[0m\u001b[1;33m\u001b[0m\u001b[0m\n\u001b[0m\u001b[0;32m     12\u001b[0m \u001b[0mtheStack\u001b[0m   \u001b[1;33m=\u001b[0m \u001b[0mnumpy\u001b[0m\u001b[1;33m.\u001b[0m\u001b[0mzeros\u001b[0m\u001b[1;33m(\u001b[0m\u001b[1;33m(\u001b[0m\u001b[0mheight\u001b[0m\u001b[1;33m,\u001b[0m \u001b[0mwidth\u001b[0m\u001b[1;33m,\u001b[0m \u001b[1;36m3\u001b[0m\u001b[1;33m)\u001b[0m\u001b[1;33m,\u001b[0m \u001b[0mnumpy\u001b[0m\u001b[1;33m.\u001b[0m\u001b[0mfloat\u001b[0m\u001b[1;33m)\u001b[0m\u001b[1;33m\u001b[0m\u001b[1;33m\u001b[0m\u001b[0m\n\u001b[0;32m     13\u001b[0m \u001b[0mi\u001b[0m \u001b[1;33m=\u001b[0m \u001b[1;36m1\u001b[0m\u001b[1;33m\u001b[0m\u001b[1;33m\u001b[0m\u001b[0m\n",
      "\u001b[1;31mIndexError\u001b[0m: list index out of range"
     ]
    }
   ],
   "source": [
    "#This cell credit to James Headberg/CCNY Planetarium:\n",
    "#https://ccnyplanetarium.org/posts/2020/06/23/martian-star-trails.html\n",
    "import os, numpy\n",
    "from PIL import Image\n",
    "import IPython.display\n",
    "import PIL.Image\n",
    "\n",
    "imageDir = 'C:/os/OpenSpace-0.16.0/screenshots/'\n",
    "files   = os.listdir(imageDir)\n",
    "imagesToProcess  = [name for name in files if name[-4:] in [\".png\"]]\n",
    "width, height = Image.open(imageDir+'/'+imagesToProcess[0]).size\n",
    "theStack   = numpy.zeros((height, width, 3), numpy.float)\n",
    "i = 1\n",
    "for image in imagesToProcess:\n",
    "    print (\"img \" + str(i) + \"...\", end=\"\", flush=True)\n",
    "    image_new = numpy.array(Image.open(imageDir+'/'+image), dtype = numpy.float)\n",
    "    theStack     = numpy.maximum(theStack, image_new)\n",
    "    i  += 1\n",
    "\n",
    "theStack = numpy.array(numpy.round(theStack), dtype = numpy.uint8)\n",
    "IPython.display.display(PIL.Image.fromarray(theStack))\n"
   ]
  },
  {
   "cell_type": "code",
   "execution_count": 109,
   "metadata": {},
   "outputs": [],
   "source": [
    "#save file\n",
    "output = Image.fromarray(theStack, mode = \"RGB\")\n",
    "output.save(\"star-trails.png\", \"PNG\")"
   ]
  },
  {
   "cell_type": "code",
   "execution_count": 110,
   "metadata": {},
   "outputs": [],
   "source": [
    "#cleanup screenshots\n",
    "import os\n",
    "for file in os.listdir(imageDir):\n",
    "    if file.endswith('.png'):\n",
    "        os.remove(imageDir+file)\n",
    "#close websocket\n",
    "ws.close()"
   ]
  },
  {
   "cell_type": "code",
   "execution_count": 93,
   "metadata": {},
   "outputs": [],
   "source": [
    "#thanks"
   ]
  }
 ],
 "metadata": {
  "kernelspec": {
   "display_name": "Python 3",
   "language": "python",
   "name": "python3"
  },
  "language_info": {
   "codemirror_mode": {
    "name": "ipython",
    "version": 3
   },
   "file_extension": ".py",
   "mimetype": "text/x-python",
   "name": "python",
   "nbconvert_exporter": "python",
   "pygments_lexer": "ipython3",
   "version": "3.7.4"
  }
 },
 "nbformat": 4,
 "nbformat_minor": 2
}
