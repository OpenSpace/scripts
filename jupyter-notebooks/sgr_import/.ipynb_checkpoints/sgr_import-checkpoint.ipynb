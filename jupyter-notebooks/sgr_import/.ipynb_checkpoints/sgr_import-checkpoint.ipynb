{
 "cells": [
  {
   "cell_type": "code",
   "execution_count": 24,
   "metadata": {},
   "outputs": [],
   "source": [
    "#jupyter notebook for importing \"Catalogue of stars in the Sagittarius stream\" into OpenSpace\n",
    "#Data from here: https://zenodo.org/record/4038137#.YWRy5hrMLmE \n",
    "#Paper from here: https://arxiv.org/abs/2009.10726v2\n",
    "#Script adapted from here: https://gist.github.com/adrn/fe132a55afc34a8b7213ed70c359c87f#file-convert-sgr-xyz-ipynb\n",
    "#thanks to adrian price-whelan - http://adrian.pw/"
   ]
  },
  {
   "cell_type": "code",
   "execution_count": 25,
   "metadata": {
    "ExecuteTime": {
     "end_time": "2021-10-09T11:28:53.624008Z",
     "start_time": "2021-10-09T11:28:51.876674Z"
    }
   },
   "outputs": [],
   "source": [
    "#import libraries\n",
    "import astropy.coordinates as coord\n",
    "import astropy.table as at\n",
    "import astropy.units as u\n",
    "import matplotlib as mpl\n",
    "import matplotlib.pyplot as plt\n",
    "%matplotlib inline\n",
    "import numpy as np"
   ]
  },
  {
   "cell_type": "code",
   "execution_count": 26,
   "metadata": {
    "ExecuteTime": {
     "end_time": "2021-10-09T11:29:07.874034Z",
     "start_time": "2021-10-09T11:29:07.708333Z"
    }
   },
   "outputs": [],
   "source": [
    "#read star catalogue\n",
    "sgr = at.Table.read('catalogue.txt', format='ascii.commented_header')"
   ]
  },
  {
   "cell_type": "code",
   "execution_count": 27,
   "metadata": {
    "ExecuteTime": {
     "end_time": "2021-10-09T11:30:30.220722Z",
     "start_time": "2021-10-09T11:30:30.203902Z"
    }
   },
   "outputs": [],
   "source": [
    "#create coordinate system based on catalogue format (see readme.txt)\n",
    "c = coord.SkyCoord(\n",
    "    ra=sgr['ra'] * u.deg,\n",
    "    dec=sgr['dec'] * u.deg,\n",
    "    distance=sgr['dist'] * u.kpc,\n",
    "    pm_ra_cosdec=sgr['pmra'] * u.mas/u.yr,\n",
    "    pm_dec=sgr['pmdec'] * u.mas/u.yr,\n",
    "    radial_velocity=sgr['vlos'] * u.km/u.s\n",
    ")"
   ]
  },
  {
   "cell_type": "code",
   "execution_count": 28,
   "metadata": {
    "ExecuteTime": {
     "end_time": "2021-10-09T11:30:46.408463Z",
     "start_time": "2021-10-09T11:30:46.378418Z"
    }
   },
   "outputs": [],
   "source": [
    "#convert date to galactocentric\n",
    "coord.galactocentric_frame_defaults.set('pre-v4.0')\n",
    "galcen = c.transform_to(coord.Galactocentric())"
   ]
  },
  {
   "cell_type": "code",
   "execution_count": 29,
   "metadata": {
    "ExecuteTime": {
     "end_time": "2021-10-09T11:32:15.241089Z",
     "start_time": "2021-10-09T11:32:15.234360Z"
    }
   },
   "outputs": [],
   "source": [
    "#create new table to modify data\n",
    "new_tbl = at.QTable()\n",
    "for i, k in enumerate('xyz'):\n",
    "    new_tbl[k] = galcen.data.xyz[i]\n",
    "    new_tbl[f'v_{k}'] = galcen.velocity.d_xyz[i]"
   ]
  },
  {
   "cell_type": "code",
   "execution_count": 30,
   "metadata": {},
   "outputs": [],
   "source": [
    "#filter new table to only stars with velocity\n",
    "f_tbl = at.QTable(new_tbl[0:0])\n",
    "for row in new_tbl:\n",
    "    if (not np.isnan(row['v_x'].value)):\n",
    "        f_tbl.add_row(row)"
   ]
  },
  {
   "cell_type": "code",
   "execution_count": 31,
   "metadata": {},
   "outputs": [],
   "source": [
    "#create openspace speckfile\n",
    "#http://wiki.openspaceproject.com/docs/components/gaia.html#1-get-the-data-in-a-readable-format\n",
    "import math\n",
    "\n",
    "title = 'Sagittarius Velocity Stars'\n",
    "utitle = title.replace(' ', '_')\n",
    "\n",
    "header = '#' + title + '\\n\\\n",
    "#Generated from: https://github.com/OpenSpace/scripts/tree/master/jupyter-notebooks/sgr_import\\n\\\n",
    "datavar 0 color\\n\\\n",
    "datavar 1 ignore\\n\\\n",
    "datavar 2 absmag\\n\\\n",
    "datavar 3 ignore\\n\\\n",
    "datavar 4 ignore\\n\\\n",
    "datavar 5 ignore\\n\\\n",
    "datavar 6 ignore\\n\\\n",
    "datavar 7 ignore\\n\\\n",
    "datavar 8 ignore\\n\\\n",
    "datavar 9 ignore\\n\\\n",
    "datavar 10 vx\\n\\\n",
    "datavar 11 vy\\n\\\n",
    "datavar 12 vz\\n\\\n",
    "datavar 13 speed\\n\\n'\n",
    "#file gets header + rows\n",
    "\n",
    "speck_file = open(utitle + \".speck\", \"w\")\n",
    "speck_file.write(header)\n",
    "\n",
    "for row in f_tbl:\n",
    "    x = row['x'].value\n",
    "    y = row['y'].value\n",
    "    z = row['z'].value\n",
    "    color = 1\n",
    "    foo = -100\n",
    "    absmag = 20\n",
    "    vx = row['v_x'].value\n",
    "    vy = row['v_y'].value\n",
    "    vz = row['v_z'].value\n",
    "    \n",
    "    speed = math.sqrt(vx**2 + vy**2 + vz**2)\n",
    "    row_str = f'{x}\\t{y}\\t{z}\\t{color}\\t{foo}\\t{absmag}'\n",
    "    row_str += f'\\t{foo}\\t{foo}\\t{foo}\\t{foo}\\t{foo}\\t{foo}\\t{foo}'\n",
    "    row_str += f'\\t{vx}\\t{vy}\\t{vz}\\t{speed}\\n'\n",
    "    speck_file.write(row_str)\n",
    "    \n",
    "speck_file.close()\n"
   ]
  },
  {
   "cell_type": "code",
   "execution_count": 32,
   "metadata": {},
   "outputs": [],
   "source": [
    "#create openspace asset\n",
    "asset_file = open(utitle + \".asset\", 'w')\n",
    "\n",
    "asset_header = \"local assetHelper = asset.require('util/asset_helper')\\n\\\n",
    "local transforms = asset.require('scene/solarsystem/sun/transforms')\\n\"\n",
    "asset_file.write(asset_header)\n",
    "\n",
    "#TODO\n",
    "# -Renderable values are copied from another data set could be  adjusted\n",
    "# -Scale is set to 1000. Data in kPc, gaia module accepts Pc. \n",
    "#    last time I imported a data set with such large distances, openspace locked loading the file\n",
    "#    for now I left the values and scaled the entire node by 1000. \n",
    "#    The effect actually works well for the visualiztion as the stars get scaled making them more \n",
    "#    visiable when at the galactic zoom level\n",
    "\n",
    "asset_node = \"\\n\\\n",
    "local node = {\\n\\\n",
    "    Identifier = '\"+utitle+\"',\\n\\\n",
    "    Parent = 'Root',\\n\\\n",
    "    Transform = {\\n\\\n",
    "        Translation = {\\n\\\n",
    "            Type = 'StaticTranslation',\\n\\\n",
    "            -- The center of the Milky Way is approximately 8 kiloparsec from the Sun.\\n\\\n",
    "            -- The x-axis of galactic coordinates points from the sun towards the center\\n\\\n",
    "            -- of the galaxy.\\n\\\n",
    "            Position = { 8 * 3.086E19, 0, 0 }\\n\\\n",
    "        },\\n\\\n",
    "        Scale = {\\n\\\n",
    "            Type = 'StaticScale',\\n\\\n",
    "            Scale = 1000\\n\\\n",
    "        }\\n\\\n",
    "    },\\n\\\n",
    "    Renderable = {\\n\\\n",
    "        Type = 'RenderableGaiaStars',\\n\\\n",
    "        File = asset.localResource('\"+utitle+\".speck'),\\n\\\n",
    "        FileReaderOption = 'Speck',\\n\\\n",
    "        RenderOption = 'Motion',\\n\\\n",
    "        ShaderOption = 'Point_SSBO',\\n\\\n",
    "        Texture = asset.localResource('halo.png'),\\n\\\n",
    "        ColorMap = asset.localResource('colorbv.cmap'),\\n\\\n",
    "        LuminosityMultiplier = 80,\\n\\\n",
    "        MagnitudeBoost = 1,\\n\\\n",
    "        CutOffThreshold = 38,\\n\\\n",
    "        BillboardSize = 1,\\n\\\n",
    "        CloseUpBoostDist = 250,\\n\\\n",
    "        Sharpness = 1.45,\\n\\\n",
    "        LodPixelThreshold = 0,\\n\\\n",
    "        MaxGpuMemoryPercent = 0.24,\\n\\\n",
    "        MaxCpuMemoryPercent = 0.4,\\n\\\n",
    "        FilterSize = 5,\\n\\\n",
    "        Sigma = 0.25,\\n\\\n",
    "        AdditionalNodes = {3.0, 2.0},\\n\\\n",
    "        FilterPosX = {0.0, 0.0},\\n\\\n",
    "        FilterPosY = {0.0, 0.0},\\n\\\n",
    "        FilterPosZ = {0.0, 0.0},\\n\\\n",
    "        FilterGMag = {20.0, 20.0},\\n\\\n",
    "        FilterBpRp = {0.0, 0.0},\\n\\\n",
    "        FilterDist = {9.0, 9.0},\\n\\\n",
    "    },\\n\\\n",
    "    GUI = {\\n\\\n",
    "        Name = '\"+title+\"',\\n\\\n",
    "        Path = '/Milky Way/Streams'\\n\\\n",
    "    }\\n\\\n",
    "}\\n\"\n",
    "asset_file.write(asset_node)\n",
    "\n",
    "asset_footer = \"assetHelper.registerSceneGraphNodesAndExport(asset, { node })\"\n",
    "asset_file.write(asset_footer)\n",
    "\n",
    "asset_file.close()"
   ]
  },
  {
   "cell_type": "code",
   "execution_count": 33,
   "metadata": {},
   "outputs": [
    {
     "data": {
      "text/plain": [
       "168"
      ]
     },
     "execution_count": 33,
     "metadata": {},
     "output_type": "execute_result"
    }
   ],
   "source": [
    "#get full path for script command\n",
    "##TODO\n",
    "# -better handling of close ws\n",
    "\n",
    "import os\n",
    "asset_full_path = os.path.realpath(asset_file.name)\n",
    "\n",
    "#connect to openspace \n",
    "from websocket import create_connection\n",
    "import json\n",
    "url = \"localhost:4682\"\n",
    "ws_endpoint = f\"ws://localhost:4682/websocket\"\n",
    "ws = create_connection(ws_endpoint)\n",
    "#command to add asset\n",
    "message = json.dumps({\"topic\": 4,\n",
    "                  \"type\": \"luascript\",\n",
    "                  \"payload\": {\"function\": \"openspace.asset.add\",\n",
    "                              \"arguments\": [asset_full_path],\n",
    "                              \"return\": False}})\n",
    "ws.send(message)\n",
    "#refresh menu\n",
    "message = json.dumps({\"topic\": 4,\n",
    "                  \"type\": \"luascript\",\n",
    "                  \"payload\": {\"function\": \"openspace.setPropertyValueSingle\",\n",
    "                              \"arguments\": ['Modules.CefWebGui.Reload', None],\n",
    "                              \"return\": False}})\n",
    "ws.send(message)\n",
    "#ws.close()"
   ]
  },
  {
   "cell_type": "code",
   "execution_count": null,
   "metadata": {},
   "outputs": [],
   "source": [
    "#######END of script"
   ]
  },
  {
   "cell_type": "code",
   "execution_count": null,
   "metadata": {},
   "outputs": [],
   "source": [
    "####Use the cell below to remove the assset from your running version of OpenSpace "
   ]
  },
  {
   "cell_type": "code",
   "execution_count": 23,
   "metadata": {},
   "outputs": [],
   "source": [
    "#remove asset if you want to change values and try again\n",
    "message = json.dumps({\"topic\": 4,\n",
    "                  \"type\": \"luascript\",\n",
    "                  \"payload\": {\"function\": \"openspace.asset.remove\",\n",
    "                              \"arguments\": [asset_full_path],\n",
    "                              \"return\": False}})\n",
    "ws.send(message)\n",
    "ws.close()"
   ]
  }
 ],
 "metadata": {
  "gist": {
   "data": {
    "description": "projects/visualizations/mwstreams/data/Untitled.ipynb",
    "public": true
   },
   "id": ""
  },
  "kernelspec": {
   "display_name": "Python 3",
   "language": "python",
   "name": "python3"
  },
  "language_info": {
   "codemirror_mode": {
    "name": "ipython",
    "version": 3
   },
   "file_extension": ".py",
   "mimetype": "text/x-python",
   "name": "python",
   "nbconvert_exporter": "python",
   "pygments_lexer": "ipython3",
   "version": "3.7.4"
  },
  "toc": {
   "base_numbering": 1,
   "nav_menu": {},
   "number_sections": true,
   "sideBar": true,
   "skip_h1_title": false,
   "title_cell": "Table of Contents",
   "title_sidebar": "Contents",
   "toc_cell": false,
   "toc_position": {},
   "toc_section_display": true,
   "toc_window_display": false
  }
 },
 "nbformat": 4,
 "nbformat_minor": 5
}
